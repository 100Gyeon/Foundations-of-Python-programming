{
 "cells": [
  {
   "cell_type": "markdown",
   "metadata": {},
   "source": [
    "# List Comprehension"
   ]
  },
  {
   "cell_type": "code",
   "execution_count": 1,
   "metadata": {},
   "outputs": [
    {
     "name": "stdout",
     "output_type": "stream",
     "text": [
      "[1, 4, 9, 16, 25]\n"
     ]
    }
   ],
   "source": [
    "# simple method\n",
    "nums = [1,2,3,4,5]\n",
    "sq_nums = []\n",
    "for n in nums :\n",
    "    sq_nums.append(n**2)\n",
    "print(sq_nums)"
   ]
  },
  {
   "cell_type": "code",
   "execution_count": 2,
   "metadata": {},
   "outputs": [
    {
     "name": "stdout",
     "output_type": "stream",
     "text": [
      "[1, 4, 9, 16, 25]\n"
     ]
    }
   ],
   "source": [
    "# List comprehension\n",
    "# []는 우리가 list를 만든다는 것을 의미함\n",
    "# for n in nums에서 element 하나씩 가지고 와서 각각에 대해서 n**2\n",
    "sq_nums = [n**2 for n in nums]\n",
    "print(sq_nums)"
   ]
  },
  {
   "cell_type": "code",
   "execution_count": 3,
   "metadata": {},
   "outputs": [
    {
     "data": {
      "text/plain": [
       "[6, 12, 18]"
      ]
     },
     "execution_count": 3,
     "metadata": {},
     "output_type": "execute_result"
    }
   ],
   "source": [
    "vec = [2,4,6]\n",
    "[3*x for x in vec]"
   ]
  },
  {
   "cell_type": "code",
   "execution_count": 4,
   "metadata": {},
   "outputs": [
    {
     "data": {
      "text/plain": [
       "[12, 18]"
      ]
     },
     "execution_count": 4,
     "metadata": {},
     "output_type": "execute_result"
    }
   ],
   "source": [
    "[3*x for x in vec if x > 3]"
   ]
  },
  {
   "cell_type": "code",
   "execution_count": 5,
   "metadata": {},
   "outputs": [
    {
     "data": {
      "text/plain": [
       "[]"
      ]
     },
     "execution_count": 5,
     "metadata": {},
     "output_type": "execute_result"
    }
   ],
   "source": [
    "[3*x for x in vec if x < 2]"
   ]
  },
  {
   "cell_type": "code",
   "execution_count": 6,
   "metadata": {},
   "outputs": [
    {
     "data": {
      "text/plain": [
       "[[2, 4], [4, 16], [6, 36]]"
      ]
     },
     "execution_count": 6,
     "metadata": {},
     "output_type": "execute_result"
    }
   ],
   "source": [
    "[[x, x**2] for x in vec]"
   ]
  },
  {
   "cell_type": "code",
   "execution_count": 7,
   "metadata": {},
   "outputs": [
    {
     "data": {
      "text/plain": [
       "[(2, 4), (4, 16), (6, 36)]"
      ]
     },
     "execution_count": 7,
     "metadata": {},
     "output_type": "execute_result"
    }
   ],
   "source": [
    "[(x, x**2) for x in vec] # 이것도 가능"
   ]
  },
  {
   "cell_type": "code",
   "execution_count": 8,
   "metadata": {},
   "outputs": [
    {
     "ename": "SyntaxError",
     "evalue": "invalid syntax (<ipython-input-8-09afd2321c3f>, line 3)",
     "output_type": "error",
     "traceback": [
      "\u001b[1;36m  File \u001b[1;32m\"<ipython-input-8-09afd2321c3f>\"\u001b[1;36m, line \u001b[1;32m3\u001b[0m\n\u001b[1;33m    [x, x**2 for x in vec]\u001b[0m\n\u001b[1;37m               ^\u001b[0m\n\u001b[1;31mSyntaxError\u001b[0m\u001b[1;31m:\u001b[0m invalid syntax\n"
     ]
    }
   ],
   "source": [
    "# error : list 하나에 두 개의 element를 한 번에 만드는 것은 불가능\n",
    "# 위의 경우처럼 list나 tuple은 가능\n",
    "\n",
    "[x, x**2 for x in vec]"
   ]
  },
  {
   "cell_type": "code",
   "execution_count": 9,
   "metadata": {},
   "outputs": [
    {
     "name": "stdout",
     "output_type": "stream",
     "text": [
      "[1, 1]\n",
      "2\n"
     ]
    }
   ],
   "source": [
    "# 특정한 단어가 몇 번 나왔는지 알고 싶은 경우\n",
    "\n",
    "email = ['once', 'upon', 'a', 'time', 'in', 'a', 'far', 'away']\n",
    "\n",
    "# 'a'가 있으면 1이 들어감\n",
    "a = [1 for x in email if x == 'a']\n",
    "\n",
    "print(a)\n",
    "print(len(a))"
   ]
  },
  {
   "cell_type": "markdown",
   "metadata": {},
   "source": [
    "# Template :\n",
    "\n",
    "    new_list = [f(x) for x in iterable]\n",
    "    iterable에는 list, dictionary, tuple이 있다."
   ]
  },
  {
   "cell_type": "code",
   "execution_count": 10,
   "metadata": {},
   "outputs": [
    {
     "name": "stdout",
     "output_type": "stream",
     "text": [
      "['HELLO', 'THIS', 'IS', 'PYTHON']\n"
     ]
    }
   ],
   "source": [
    "# more list comprehension\n",
    "words = ['hello', 'this', 'is', 'python']\n",
    "ups = [word.upper() for word in words]\n",
    "print(ups)"
   ]
  },
  {
   "cell_type": "code",
   "execution_count": 11,
   "metadata": {},
   "outputs": [
    {
     "name": "stdout",
     "output_type": "stream",
     "text": [
      "[(0, 0), (1, 1), (4, 8), (9, 27), (16, 64)]\n"
     ]
    }
   ],
   "source": [
    "powers = [(x**2, x**3) for x in range(5)] # range(5) : 0부터 4까지, list of tuple이 만들어진다.\n",
    "print(powers)"
   ]
  },
  {
   "cell_type": "code",
   "execution_count": 12,
   "metadata": {},
   "outputs": [],
   "source": [
    "# function 이용해서 list comprehension 사용하기\n",
    "def isEven(num) :\n",
    "    return (num % 2 == 0)\n",
    "\n",
    "numbers = [2, 10, 7, 300, 63]\n",
    "isEvens = [isEven(num) for num in numbers]"
   ]
  },
  {
   "cell_type": "code",
   "execution_count": 13,
   "metadata": {},
   "outputs": [
    {
     "name": "stdout",
     "output_type": "stream",
     "text": [
      "[True, True, False, True, False]\n"
     ]
    }
   ],
   "source": [
    "print(isEvens)"
   ]
  },
  {
   "cell_type": "code",
   "execution_count": 14,
   "metadata": {},
   "outputs": [
    {
     "name": "stdout",
     "output_type": "stream",
     "text": [
      "{'TAT', 'AAT', 'TTA', 'TAA', 'ATT', 'ATA', 'AAA', 'TTT'}\n"
     ]
    }
   ],
   "source": [
    "nuc = ['A', 'T']\n",
    "codons = { x+y+z for x in nuc for y in nuc for z in nuc }\n",
    "\n",
    "# x는 A 아니면 T가 된다. y는 A 아니면 T가 된다. z는 A 아니면 T가 된다.\n",
    "# x, y, z는 경우의 수를 2개씩 가지고 있다. 2x2x2 = 8\n",
    "\n",
    "print(codons)"
   ]
  },
  {
   "cell_type": "code",
   "execution_count": 15,
   "metadata": {},
   "outputs": [
    {
     "name": "stdout",
     "output_type": "stream",
     "text": [
      "{'CCG', 'TTG', 'TAC', 'CTA', 'CTG', 'AGC', 'CCT', 'CGA', 'GGC', 'TCG', 'ACT', 'TGT', 'TCA', 'GCG', 'TTA', 'ACG', 'TCC', 'GCA', 'GGA', 'TTC', 'GTA', 'GTC', 'TGC', 'GTT', 'TGG', 'GGG', 'CTC', 'ACA', 'AAT', 'TAG', 'CAT', 'CCA', 'GAA', 'AAA', 'AGA', 'ACC', 'GCC', 'TGA', 'CAC', 'AAG', 'TCT', 'CGT', 'AGT', 'GAC', 'GGT', 'GAT', 'ATA', 'ATG', 'AGG', 'CTT', 'GAG', 'CAG', 'TAT', 'CGG', 'CAA', 'AAC', 'TAA', 'ATT', 'CCC', 'CGC', 'ATC', 'TTT', 'GTG', 'GCT'}\n",
      "64\n"
     ]
    }
   ],
   "source": [
    "# 4x4x4 = 64\n",
    "\n",
    "nuc = ['A', 'T', 'C', 'G']\n",
    "codons = { x+y+z for x in nuc for y in nuc for z in nuc }\n",
    "print(codons)\n",
    "print(len(codons))"
   ]
  },
  {
   "cell_type": "code",
   "execution_count": 16,
   "metadata": {},
   "outputs": [
    {
     "name": "stdout",
     "output_type": "stream",
     "text": [
      "{10: 'a', 20: 'b', 30: 'c', 40: 'd'}\n"
     ]
    }
   ],
   "source": [
    "myDict = {'a':10, 'b':20, 'c':30, 'd':40}\n",
    "reverserDict = { value:key for key,value in myDict.items()}\n",
    "\n",
    "# items()는 key와 value를 리턴하기 때문에 for에서 variable이 2개가 된다.\n",
    "# value:key로 key를 value로 만들어주고, value를 key로 만들어준다.\n",
    "\n",
    "print(reverserDict)"
   ]
  },
  {
   "cell_type": "code",
   "execution_count": 17,
   "metadata": {},
   "outputs": [
    {
     "name": "stdout",
     "output_type": "stream",
     "text": [
      "{10: 'c', 20: 'b', 40: 'd'}\n"
     ]
    }
   ],
   "source": [
    "# key와 value가 unique하지 않은 경우\n",
    "\n",
    "myDict = {'a':10, 'b':20, 'c':10, 'd':40}\n",
    "reverserDict = { value:key for key,value in myDict.items()}\n",
    "print(reverserDict) \n",
    "# 10: 'a'가 없어지고 10: 'c'로 바뀜"
   ]
  },
  {
   "cell_type": "markdown",
   "metadata": {},
   "source": [
    "# len : String, List, Tuple, Dictionary의 길이를 확인하는 함수"
   ]
  },
  {
   "cell_type": "code",
   "execution_count": 18,
   "metadata": {},
   "outputs": [
    {
     "name": "stdout",
     "output_type": "stream",
     "text": [
      "6\n",
      "4\n",
      "3\n",
      "2\n"
     ]
    }
   ],
   "source": [
    "fruit = \"banana\"\n",
    "print(len(fruit))\n",
    "\n",
    "myList = [1, 2, [3,4], {\"a\":\"123\"}]\n",
    "print(len(myList))\n",
    "\n",
    "myTuple = (2,3,4)\n",
    "print(len(myTuple))\n",
    "\n",
    "myDict = {\"a\":{\"cell\":\"123\", \"email\":\"a@email\"}, \"b\":{\"cell\":222, \"email\":\"b@email\"}}\n",
    "print(len(myDict))"
   ]
  },
  {
   "cell_type": "markdown",
   "metadata": {},
   "source": [
    "# in : String, List, Tuple, Dictionary에 모두 적용됨"
   ]
  },
  {
   "cell_type": "code",
   "execution_count": 19,
   "metadata": {},
   "outputs": [
    {
     "name": "stdout",
     "output_type": "stream",
     "text": [
      "b a n a n a \n",
      "1 2 [3, 4] {'a': '123'} \n",
      "2 3 4 \n",
      "a b \n",
      "a {'cell': '123', 'email': 'a@email'}\n",
      "b {'cell': 222, 'email': 'b@email'}\n"
     ]
    }
   ],
   "source": [
    "fruit = \"banana\"\n",
    "for letter in fruit:\n",
    "    print(letter, end = \" \")\n",
    "print()\n",
    "\n",
    "myList = [1, 2, [3,4], {\"a\":\"123\"}]\n",
    "for ele in myList:\n",
    "    print(ele, end = \" \")\n",
    "print()\n",
    "\n",
    "myTuple = (2,3,4)\n",
    "for ele in myTuple:\n",
    "    print(ele, end = \" \")\n",
    "print()\n",
    "\n",
    "myDict = {\"a\":{\"cell\":\"123\", \"email\":\"a@email\"}, \"b\":{\"cell\":222, \"email\":\"b@email\"}}\n",
    "for ele in myDict:\n",
    "    print(ele, end = \" \") # key값만 출력된다.\n",
    "print()\n",
    "\n",
    "for i, ele in myDict.items(): # items()가 있어야 key, value가 출력된다.\n",
    "    print(\"{} {}\".format(i,ele))"
   ]
  },
  {
   "cell_type": "markdown",
   "metadata": {},
   "source": [
    "# find : String에서 특정 패턴의 위치를 찾는 경우"
   ]
  },
  {
   "cell_type": "code",
   "execution_count": 20,
   "metadata": {},
   "outputs": [
    {
     "name": "stdout",
     "output_type": "stream",
     "text": [
      "2\n",
      "-1\n"
     ]
    }
   ],
   "source": [
    "# find\n",
    "\n",
    "fruit = \"banana\"\n",
    "pos = fruit.find(\"na\") # \"na\"가 나오는 위치를 출력\n",
    "print(pos)\n",
    "\n",
    "aa = fruit.find(\"z\") # 없는 것을 찾게 되면 return -1\n",
    "print(aa)"
   ]
  },
  {
   "cell_type": "markdown",
   "metadata": {},
   "source": [
    "# replace : 찾은 패턴을 다른 패턴으로 치환하는 경우"
   ]
  },
  {
   "cell_type": "code",
   "execution_count": 21,
   "metadata": {},
   "outputs": [
    {
     "name": "stdout",
     "output_type": "stream",
     "text": [
      "Hello John!\n"
     ]
    }
   ],
   "source": [
    "# replace\n",
    "\n",
    "greet = \"Hello Bob!\"\n",
    "greet1 = greet.replace(\"Bob\", \"John\")\n",
    "print(greet1)"
   ]
  },
  {
   "cell_type": "markdown",
   "metadata": {},
   "source": [
    "# strip : whitespace를 없애주는 함수(lstrip, rstrip, strip)"
   ]
  },
  {
   "cell_type": "code",
   "execution_count": 22,
   "metadata": {},
   "outputs": [
    {
     "name": "stdout",
     "output_type": "stream",
     "text": [
      "    Hello Bob!   \n",
      "Hello Bob!   \n",
      "    Hello Bob!\n",
      "Hello Bob!\n"
     ]
    }
   ],
   "source": [
    "greet = \"    Hello Bob!   \"\n",
    "print(greet)\n",
    "print(greet.lstrip()) # left strip : 왼쪽 없애줌\n",
    "print(greet.rstrip()) # right strip : 오른쪽 없애줌\n",
    "print(greet.strip()) # strip : 양쪽 없애줌"
   ]
  },
  {
   "cell_type": "markdown",
   "metadata": {},
   "source": [
    "# startswith : 특정 문자열로 시작하면 True 리턴"
   ]
  },
  {
   "cell_type": "code",
   "execution_count": 23,
   "metadata": {},
   "outputs": [
    {
     "name": "stdout",
     "output_type": "stream",
     "text": [
      "True\n",
      "False\n"
     ]
    }
   ],
   "source": [
    "line = \"Have a good weekend\"\n",
    "print(line.startswith(\"Have\")) # \"Have\"로 시작했으면 True 리턴\n",
    "print(line.startswith(\"h\")) # 대소문자 구분하기 때문에 False 리턴"
   ]
  },
  {
   "cell_type": "markdown",
   "metadata": {},
   "source": [
    "# find를 이용한 string parsing"
   ]
  },
  {
   "cell_type": "markdown",
   "metadata": {},
   "source": [
    "### string.find(value, start, end)  \n",
    "value : required, 찾으려고 하는 것  \n",
    "start : optional, search를 시작하고자 하는 위치, default는 0  \n",
    "end : optional, search를 끝내고자 하는 위치, default는 end of the string"
   ]
  },
  {
   "cell_type": "code",
   "execution_count": 24,
   "metadata": {},
   "outputs": [
    {
     "name": "stdout",
     "output_type": "stream",
     "text": [
      "4\n",
      "19\n",
      "park@ssu.ac.kr\n",
      "23\n"
     ]
    }
   ],
   "source": [
    "data = \"From park@ssu.ac.kr Sat Jan 09:11:44 2019\"\n",
    "\n",
    "atpos = data.find(\" \") # \" \"의 위치를 찾으려고 함\n",
    "print(atpos)\n",
    "\n",
    "# atpos에 1을 더한 p에서부터 \" \"의 위치 찾기\n",
    "blankpos = data.find(\" \", atpos+1)\n",
    "print(blankpos)\n",
    "\n",
    "print(data[atpos+1:blankpos]) # 원하는 부분만 뽑아내기\n",
    "\n",
    "anotherpos = data.find(\" \", blankpos+1, blankpos+10)\n",
    "print(anotherpos)"
   ]
  },
  {
   "cell_type": "markdown",
   "metadata": {},
   "source": [
    "# split : String을 List로 변환하는 method\n",
    "\n",
    "### split 함수는 a.split()처럼 괄호 안에 아무 값도 넣어 주지 않으면 공백(스페이스, 탭, 엔터 등)을 기준으로 문자열을 나누어 준다. \n",
    "\n",
    "### 만약 b.split(':')처럼 괄호 안에 특정 값이 있을 경우에는 괄호 안의 값을 구분자로 해서 문자열을 나누어 준다. "
   ]
  },
  {
   "cell_type": "code",
   "execution_count": 25,
   "metadata": {},
   "outputs": [
    {
     "name": "stdout",
     "output_type": "stream",
     "text": [
      "['Hi!', 'Good', 'morning!']\n"
     ]
    }
   ],
   "source": [
    "greet = \"    Hi! Good morning!  \"\n",
    "greetList = greet.split() # blank를 기준으로 단어가 잘라짐\n",
    "print(greetList)"
   ]
  },
  {
   "cell_type": "code",
   "execution_count": 26,
   "metadata": {},
   "outputs": [
    {
     "name": "stdout",
     "output_type": "stream",
     "text": [
      "['first;second;third']\n",
      "['first', 'second', 'third']\n"
     ]
    }
   ],
   "source": [
    "line = \"first;second;third\"\n",
    "line1 = line.split()\n",
    "line2 = line.split(\";\")\n",
    "print(line1)\n",
    "print(line2)"
   ]
  },
  {
   "cell_type": "code",
   "execution_count": 27,
   "metadata": {},
   "outputs": [
    {
     "name": "stdout",
     "output_type": "stream",
     "text": [
      "From park@ssu.ac.kr Sat Jan 9\n",
      "\n",
      "he [InternetShortcut]\n",
      "\n",
      "URL=http://localhost:8888/edit/untitled.txt#\n",
      "\n",
      "told me \n",
      "\n",
      "From lee@ssu.ac.kr Sun Jan 10\n"
     ]
    }
   ],
   "source": [
    "email = open(\"mbox-data.txt\")\n",
    "for line in email:\n",
    "    print(line)"
   ]
  },
  {
   "cell_type": "code",
   "execution_count": 28,
   "metadata": {},
   "outputs": [
    {
     "name": "stdout",
     "output_type": "stream",
     "text": [
      "['From', 'park@ssu.ac.kr', 'Sat', 'Jan', '9']\n",
      "['From', 'lee@ssu.ac.kr', 'Sun', 'Jan', '10']\n"
     ]
    }
   ],
   "source": [
    "email = open(\"mbox-data.txt\")\n",
    "for line in email:\n",
    "    line = line.rstrip()\n",
    "    if not line.startswith(\"From\"):\n",
    "        continue\n",
    "    emailWord = line.split()\n",
    "    print(emailWord)"
   ]
  }
 ],
 "metadata": {
  "kernelspec": {
   "display_name": "Python 3",
   "language": "python",
   "name": "python3"
  },
  "language_info": {
   "codemirror_mode": {
    "name": "ipython",
    "version": 3
   },
   "file_extension": ".py",
   "mimetype": "text/x-python",
   "name": "python",
   "nbconvert_exporter": "python",
   "pygments_lexer": "ipython3",
   "version": "3.7.4"
  }
 },
 "nbformat": 4,
 "nbformat_minor": 2
}
