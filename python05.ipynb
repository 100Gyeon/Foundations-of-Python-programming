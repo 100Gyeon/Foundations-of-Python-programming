{
 "cells": [
  {
   "cell_type": "markdown",
   "metadata": {},
   "source": [
    "# Dictionary의 get() 함수"
   ]
  },
  {
   "cell_type": "code",
   "execution_count": 1,
   "metadata": {},
   "outputs": [
    {
     "name": "stdout",
     "output_type": "stream",
     "text": [
      "first: {'first': 1}\n",
      "second: {'first': 2}\n",
      "third: {'first': 3}\n"
     ]
    }
   ],
   "source": [
    "dict = {}\n",
    "dict['first'] = dict.get(\"first\", 0) + 1\n",
    "# dict['first'] = dict['first'] + 1은 error\n",
    "# 값이 없는 것에 1을 더하는 것이기 때문에\n",
    "print(\"first:\", dict)\n",
    "dict['first'] = dict.get(\"first\", 0) + 1\n",
    "print(\"second:\", dict)\n",
    "dict['first'] = dict['first'] + 1\n",
    "print(\"third:\", dict)"
   ]
  },
  {
   "cell_type": "code",
   "execution_count": 2,
   "metadata": {},
   "outputs": [
    {
     "name": "stdout",
     "output_type": "stream",
     "text": [
      "kim  is in the dictionary\n",
      "choi  is not in the dictionary\n"
     ]
    }
   ],
   "source": [
    "counts = {\"kim\":1, \"park\":2}\n",
    "names = ['kim', 'choi']\n",
    "for name in names:\n",
    "    if name in counts:\n",
    "        print(name, \" is in the dictionary\")\n",
    "    else:\n",
    "        print(name, \" is not in the dictionary\")"
   ]
  },
  {
   "cell_type": "code",
   "execution_count": 3,
   "metadata": {},
   "outputs": [
    {
     "name": "stdout",
     "output_type": "stream",
     "text": [
      "{'park': 3, 'kim': 2, 'lee': 1}\n"
     ]
    }
   ],
   "source": [
    "counts = {} # empty dictionary\n",
    "names = ['park', 'kim', 'lee', 'park', 'kim', 'park']\n",
    "for name in names:\n",
    "    if name in counts:\n",
    "        counts[name] += 1\n",
    "    else:\n",
    "        counts[name]= 1\n",
    "print(counts)\n",
    "\n",
    "# String은 List로 바꿀 수 있음"
   ]
  },
  {
   "cell_type": "code",
   "execution_count": 4,
   "metadata": {},
   "outputs": [
    {
     "name": "stdout",
     "output_type": "stream",
     "text": [
      "{'park': 3, 'kim': 2, 'lee': 1}\n"
     ]
    }
   ],
   "source": [
    "# Use get() : get을 쓰게 되면 if-else문이 필요없음\n",
    "counts = {}\n",
    "names = ['park', 'kim', 'lee', 'park', 'kim', 'park']\n",
    "for name in names:\n",
    "    counts[name] = counts.get(name, 0) + 1\n",
    "                       # .get(key, 0) : key가 없을 때 value 대신 0을 리턴\n",
    "print(counts)"
   ]
  },
  {
   "cell_type": "code",
   "execution_count": 5,
   "metadata": {},
   "outputs": [
    {
     "name": "stdout",
     "output_type": "stream",
     "text": [
      "Enter a line of texts:\n",
      "this is a first line and that is the second line\n",
      "['this', 'is', 'a', 'first', 'line', 'and', 'that', 'is', 'the', 'second', 'line']\n",
      "{'this': 1, 'is': 2, 'a': 1, 'first': 1, 'line': 2, 'and': 1, 'that': 1, 'the': 1, 'second': 1}\n"
     ]
    }
   ],
   "source": [
    "counts = {}\n",
    "print(\"Enter a line of texts:\")\n",
    "line = input(\"\")\n",
    "words = line.split() # String을 List로 바꿈\n",
    "print(words)\n",
    "for word in words:\n",
    "    counts[word] = counts.get(word, 0) + 1\n",
    "print(counts)"
   ]
  },
  {
   "cell_type": "code",
   "execution_count": 6,
   "metadata": {},
   "outputs": [
    {
     "ename": "TypeError",
     "evalue": "'str' object does not support item assignment",
     "output_type": "error",
     "traceback": [
      "\u001b[1;31m---------------------------------------------------------------------------\u001b[0m",
      "\u001b[1;31mTypeError\u001b[0m                                 Traceback (most recent call last)",
      "\u001b[1;32m<ipython-input-6-58e3b4360233>\u001b[0m in \u001b[0;36m<module>\u001b[1;34m\u001b[0m\n\u001b[0;32m      6\u001b[0m \u001b[0mz\u001b[0m \u001b[1;33m=\u001b[0m \u001b[1;33m(\u001b[0m\u001b[1;36m1\u001b[0m\u001b[1;33m,\u001b[0m\u001b[1;36m2\u001b[0m\u001b[1;33m,\u001b[0m\u001b[1;36m3\u001b[0m\u001b[1;33m)\u001b[0m \u001b[1;31m# Tuple\u001b[0m\u001b[1;33m\u001b[0m\u001b[1;33m\u001b[0m\u001b[0m\n\u001b[0;32m      7\u001b[0m \u001b[0mx\u001b[0m\u001b[1;33m[\u001b[0m\u001b[1;36m1\u001b[0m\u001b[1;33m]\u001b[0m \u001b[1;33m=\u001b[0m \u001b[1;36m100\u001b[0m\u001b[1;33m\u001b[0m\u001b[1;33m\u001b[0m\u001b[0m\n\u001b[1;32m----> 8\u001b[1;33m \u001b[0my\u001b[0m\u001b[1;33m[\u001b[0m\u001b[1;36m1\u001b[0m\u001b[1;33m]\u001b[0m \u001b[1;33m=\u001b[0m \u001b[1;34m'c'\u001b[0m\u001b[1;33m\u001b[0m\u001b[1;33m\u001b[0m\u001b[0m\n\u001b[0m",
      "\u001b[1;31mTypeError\u001b[0m: 'str' object does not support item assignment"
     ]
    }
   ],
   "source": [
    "# Tuple과 String은 immutable\n",
    "# List와 Dictionary는 mutable\n",
    "\n",
    "x = [1,2,3] # List\n",
    "y = \"string\" # String\n",
    "z = (1,2,3) # Tuple\n",
    "x[1] = 100\n",
    "y[1] = 'c'"
   ]
  },
  {
   "cell_type": "code",
   "execution_count": 7,
   "metadata": {},
   "outputs": [
    {
     "ename": "TypeError",
     "evalue": "'tuple' object does not support item assignment",
     "output_type": "error",
     "traceback": [
      "\u001b[1;31m---------------------------------------------------------------------------\u001b[0m",
      "\u001b[1;31mTypeError\u001b[0m                                 Traceback (most recent call last)",
      "\u001b[1;32m<ipython-input-7-b86867b49c70>\u001b[0m in \u001b[0;36m<module>\u001b[1;34m\u001b[0m\n\u001b[1;32m----> 1\u001b[1;33m \u001b[0mz\u001b[0m\u001b[1;33m[\u001b[0m\u001b[1;36m1\u001b[0m\u001b[1;33m]\u001b[0m \u001b[1;33m=\u001b[0m \u001b[1;36m100\u001b[0m\u001b[1;33m\u001b[0m\u001b[1;33m\u001b[0m\u001b[0m\n\u001b[0m",
      "\u001b[1;31mTypeError\u001b[0m: 'tuple' object does not support item assignment"
     ]
    }
   ],
   "source": [
    "z[1] = 100"
   ]
  },
  {
   "cell_type": "code",
   "execution_count": 8,
   "metadata": {},
   "outputs": [],
   "source": [
    "tup = (1,2,3)\n",
    "tup += (4,5)\n",
    "lst = [1,2,3]\n",
    "lst += [4,5]"
   ]
  },
  {
   "cell_type": "code",
   "execution_count": 9,
   "metadata": {},
   "outputs": [
    {
     "name": "stdout",
     "output_type": "stream",
     "text": [
      "2059939890904\n",
      "2059939083944\n",
      "2059940464264\n",
      "2059940464264\n"
     ]
    }
   ],
   "source": [
    "tup = (1,2,3)\n",
    "print(id(tup))\n",
    "tup += (4,5)\n",
    "print(id(tup)) # 다른 id를 출력하니까 새로운 tuple이 만들어졌음을 알 수 있음\n",
    "lst = [1,2,3]\n",
    "print(id(lst))\n",
    "lst += [4,5]\n",
    "print(id(lst)) # original list의 내용이 바뀐 것"
   ]
  },
  {
   "cell_type": "code",
   "execution_count": 10,
   "metadata": {},
   "outputs": [
    {
     "name": "stdout",
     "output_type": "stream",
     "text": [
      "dict_items([('park', 10), ('lee', 20), ('kim', 40)])\n",
      "[('kim', 40), ('lee', 20), ('park', 10)]\n"
     ]
    }
   ],
   "source": [
    "dict = {\"park\":10, \"lee\":20, \"kim\":40}\n",
    "dictItems = dict.items() \n",
    "# dict.items() 메소드를 쓰게 되면 list of tuple 리턴\n",
    "# The method items() returns a list of dict's (key, value) tuple pairs.\n",
    "\n",
    "print(dictItems) # 각각의 element가 Tuple인 List 출력\n",
    "print(sorted(dictItems)) # dictItems가 List라서 sorted 가능, key값으로 sort"
   ]
  },
  {
   "cell_type": "code",
   "execution_count": 11,
   "metadata": {},
   "outputs": [
    {
     "name": "stdout",
     "output_type": "stream",
     "text": [
      "kim 40\n",
      "lee 20\n",
      "park 10\n"
     ]
    }
   ],
   "source": [
    "for a,b in sorted(dictItems): # key값으로 정렬된다.\n",
    "    print(a,b) # tuple이니까 variable을 2개 줘야 함"
   ]
  },
  {
   "cell_type": "code",
   "execution_count": 12,
   "metadata": {},
   "outputs": [
    {
     "name": "stdout",
     "output_type": "stream",
     "text": [
      "[('park', 10), ('lee', 20), ('kim', 40)]\n"
     ]
    }
   ],
   "source": [
    "dict = {\"park\":10, \"lee\":20, \"kim\":40}\n",
    "dictItems = dict.items() # dictItems에 List가 들어감\n",
    "tmp = [] # empty list\n",
    "for a,b in dictItems:\n",
    "    tmp.append((a,b))\n",
    "print(tmp)"
   ]
  },
  {
   "cell_type": "code",
   "execution_count": 13,
   "metadata": {},
   "outputs": [
    {
     "name": "stdout",
     "output_type": "stream",
     "text": [
      "[('kim', 40), ('lee', 20), ('park', 10)]\n"
     ]
    }
   ],
   "source": [
    "tmp = sorted(tmp)\n",
    "print(tmp)"
   ]
  },
  {
   "cell_type": "markdown",
   "metadata": {},
   "source": [
    "# Word counting"
   ]
  },
  {
   "cell_type": "code",
   "execution_count": 14,
   "metadata": {},
   "outputs": [
    {
     "name": "stdout",
     "output_type": "stream",
     "text": [
      "Romeo and Juliet Summary\n",
      "\n",
      "An age-old vendetta between two powerful families erupts into bloodshed.A group of masked Montagues risk further conflict by gatecrashing a Capulet party.A young lovesick Romeo Montague falls instantly in love with Juliet Capulet, who is due to marry her father’s choice,\n",
      "\n",
      "the County Paris.With the help of Juliet’s nurse, the women arrange for the couple to marry the next day, but Romeo’s attempt to halt a street fight leads to the death of Juliet’s own cousin, Tybalt, for which Romeo is banished.\n",
      "\n",
      "In a desperate attempt to be reunited with Romeo, Juliet follows the Friar’s plot and fakes her own death.\n",
      "\n",
      "The message fails to reach Romeo, and believing Juliet dead, he takes his life in her tomb. Juliet wakes to find Romeo’s corpse beside her and kills herself.\n",
      "\n",
      "The grieving family agree to end their feud.\n"
     ]
    }
   ],
   "source": [
    "txt = open(\"RomeoJuliet.txt\", 'rt', encoding='UTF8')\n",
    "for line in txt:\n",
    "    print(line)"
   ]
  },
  {
   "cell_type": "code",
   "execution_count": 15,
   "metadata": {},
   "outputs": [
    {
     "name": "stdout",
     "output_type": "stream",
     "text": [
      "['Romeo', 'and', 'Juliet', 'Summary']\n",
      "['An', 'age-old', 'vendetta', 'between', 'two', 'powerful', 'families', 'erupts', 'into', 'bloodshed.A', 'group', 'of', 'masked', 'Montagues', 'risk', 'further', 'conflict', 'by', 'gatecrashing', 'a', 'Capulet', 'party.A', 'young', 'lovesick', 'Romeo', 'Montague', 'falls', 'instantly', 'in', 'love', 'with', 'Juliet', 'Capulet,', 'who', 'is', 'due', 'to', 'marry', 'her', 'father’s', 'choice,']\n",
      "['the', 'County', 'Paris.With', 'the', 'help', 'of', 'Juliet’s', 'nurse,', 'the', 'women', 'arrange', 'for', 'the', 'couple', 'to', 'marry', 'the', 'next', 'day,', 'but', 'Romeo’s', 'attempt', 'to', 'halt', 'a', 'street', 'fight', 'leads', 'to', 'the', 'death', 'of', 'Juliet’s', 'own', 'cousin,', 'Tybalt,', 'for', 'which', 'Romeo', 'is', 'banished.']\n",
      "['In', 'a', 'desperate', 'attempt', 'to', 'be', 'reunited', 'with', 'Romeo,', 'Juliet', 'follows', 'the', 'Friar’s', 'plot', 'and', 'fakes', 'her', 'own', 'death.']\n",
      "['The', 'message', 'fails', 'to', 'reach', 'Romeo,', 'and', 'believing', 'Juliet', 'dead,', 'he', 'takes', 'his', 'life', 'in', 'her', 'tomb.', 'Juliet', 'wakes', 'to', 'find', 'Romeo’s', 'corpse', 'beside', 'her', 'and', 'kills', 'herself.']\n",
      "['The', 'grieving', 'family', 'agree', 'to', 'end', 'their', 'feud.']\n"
     ]
    }
   ],
   "source": [
    "txt = open(\"RomeoJuliet.txt\", 'rt', encoding='UTF8')\n",
    "for line in txt:\n",
    "    words = line.split() # split()은 String을 List로 바꿔줌\n",
    "    print(words)"
   ]
  },
  {
   "cell_type": "code",
   "execution_count": 16,
   "metadata": {},
   "outputs": [
    {
     "name": "stdout",
     "output_type": "stream",
     "text": [
      "{'Romeo': 3, 'and': 4, 'Juliet': 5, 'Summary': 1, 'An': 1, 'age-old': 1, 'vendetta': 1, 'between': 1, 'two': 1, 'powerful': 1, 'families': 1, 'erupts': 1, 'into': 1, 'bloodshed.A': 1, 'group': 1, 'of': 3, 'masked': 1, 'Montagues': 1, 'risk': 1, 'further': 1, 'conflict': 1, 'by': 1, 'gatecrashing': 1, 'a': 3, 'Capulet': 1, 'party.A': 1, 'young': 1, 'lovesick': 1, 'Montague': 1, 'falls': 1, 'instantly': 1, 'in': 2, 'love': 1, 'with': 2, 'Capulet,': 1, 'who': 1, 'is': 2, 'due': 1, 'to': 8, 'marry': 2, 'her': 4, 'father’s': 1, 'choice,': 1, 'the': 7, 'County': 1, 'Paris.With': 1, 'help': 1, 'Juliet’s': 2, 'nurse,': 1, 'women': 1, 'arrange': 1, 'for': 2, 'couple': 1, 'next': 1, 'day,': 1, 'but': 1, 'Romeo’s': 2, 'attempt': 2, 'halt': 1, 'street': 1, 'fight': 1, 'leads': 1, 'death': 1, 'own': 2, 'cousin,': 1, 'Tybalt,': 1, 'which': 1, 'banished.': 1, 'In': 1, 'desperate': 1, 'be': 1, 'reunited': 1, 'Romeo,': 2, 'follows': 1, 'Friar’s': 1, 'plot': 1, 'fakes': 1, 'death.': 1, 'The': 2, 'message': 1, 'fails': 1, 'reach': 1, 'believing': 1, 'dead,': 1, 'he': 1, 'takes': 1, 'his': 1, 'life': 1, 'tomb.': 1, 'wakes': 1, 'find': 1, 'corpse': 1, 'beside': 1, 'kills': 1, 'herself.': 1, 'grieving': 1, 'family': 1, 'agree': 1, 'end': 1, 'their': 1, 'feud.': 1}\n"
     ]
    }
   ],
   "source": [
    "txt = open(\"RomeoJuliet.txt\", 'rt', encoding='UTF8')\n",
    "dict = {} # word counting을 하기 위해서 empty dictionary를 만들었다.\n",
    "for line in txt:\n",
    "    words = line.split()\n",
    "    for word in words:\n",
    "        dict[word] = dict.get(word, 0) + 1\n",
    "print(dict)"
   ]
  },
  {
   "cell_type": "code",
   "execution_count": 17,
   "metadata": {},
   "outputs": [
    {
     "name": "stdout",
     "output_type": "stream",
     "text": [
      "[(3, 'Romeo'), (4, 'and'), (5, 'Juliet'), (1, 'Summary'), (1, 'An'), (1, 'age-old'), (1, 'vendetta'), (1, 'between'), (1, 'two'), (1, 'powerful'), (1, 'families'), (1, 'erupts'), (1, 'into'), (1, 'bloodshed.A'), (1, 'group'), (3, 'of'), (1, 'masked'), (1, 'Montagues'), (1, 'risk'), (1, 'further'), (1, 'conflict'), (1, 'by'), (1, 'gatecrashing'), (3, 'a'), (1, 'Capulet'), (1, 'party.A'), (1, 'young'), (1, 'lovesick'), (1, 'Montague'), (1, 'falls'), (1, 'instantly'), (2, 'in'), (1, 'love'), (2, 'with'), (1, 'Capulet,'), (1, 'who'), (2, 'is'), (1, 'due'), (8, 'to'), (2, 'marry'), (4, 'her'), (1, 'father’s'), (1, 'choice,'), (7, 'the'), (1, 'County'), (1, 'Paris.With'), (1, 'help'), (2, 'Juliet’s'), (1, 'nurse,'), (1, 'women'), (1, 'arrange'), (2, 'for'), (1, 'couple'), (1, 'next'), (1, 'day,'), (1, 'but'), (2, 'Romeo’s'), (2, 'attempt'), (1, 'halt'), (1, 'street'), (1, 'fight'), (1, 'leads'), (1, 'death'), (2, 'own'), (1, 'cousin,'), (1, 'Tybalt,'), (1, 'which'), (1, 'banished.'), (1, 'In'), (1, 'desperate'), (1, 'be'), (1, 'reunited'), (2, 'Romeo,'), (1, 'follows'), (1, 'Friar’s'), (1, 'plot'), (1, 'fakes'), (1, 'death.'), (2, 'The'), (1, 'message'), (1, 'fails'), (1, 'reach'), (1, 'believing'), (1, 'dead,'), (1, 'he'), (1, 'takes'), (1, 'his'), (1, 'life'), (1, 'tomb.'), (1, 'wakes'), (1, 'find'), (1, 'corpse'), (1, 'beside'), (1, 'kills'), (1, 'herself.'), (1, 'grieving'), (1, 'family'), (1, 'agree'), (1, 'end'), (1, 'their'), (1, 'feud.')]\n"
     ]
    }
   ],
   "source": [
    "# key와 value의 순서를 바꾼 예제\n",
    "\n",
    "txt = open(\"RomeoJuliet.txt\", 'rt', encoding='UTF8')\n",
    "dict = {}\n",
    "for line in txt:\n",
    "    words = line.split()\n",
    "    for word in words:\n",
    "        dict[word] = dict.get(word, 0) + 1\n",
    "lst = [ (v,k) for k, v in dict.items() ]\n",
    "print(lst)"
   ]
  },
  {
   "cell_type": "code",
   "execution_count": 18,
   "metadata": {},
   "outputs": [
    {
     "name": "stdout",
     "output_type": "stream",
     "text": [
      "[(8, 'to'), (7, 'the'), (5, 'Juliet'), (4, 'her'), (4, 'and'), (3, 'of'), (3, 'a'), (3, 'Romeo'), (2, 'with'), (2, 'own'), (2, 'marry'), (2, 'is'), (2, 'in'), (2, 'for'), (2, 'attempt'), (2, 'The'), (2, 'Romeo’s'), (2, 'Romeo,'), (2, 'Juliet’s'), (1, 'young'), (1, 'women'), (1, 'who'), (1, 'which'), (1, 'wakes'), (1, 'vendetta'), (1, 'two'), (1, 'tomb.'), (1, 'their'), (1, 'takes'), (1, 'street'), (1, 'risk'), (1, 'reunited'), (1, 'reach'), (1, 'powerful'), (1, 'plot'), (1, 'party.A'), (1, 'nurse,'), (1, 'next'), (1, 'message'), (1, 'masked'), (1, 'lovesick'), (1, 'love'), (1, 'life'), (1, 'leads'), (1, 'kills'), (1, 'into'), (1, 'instantly'), (1, 'his'), (1, 'herself.'), (1, 'help'), (1, 'he'), (1, 'halt'), (1, 'group'), (1, 'grieving'), (1, 'gatecrashing'), (1, 'further'), (1, 'follows'), (1, 'find'), (1, 'fight'), (1, 'feud.'), (1, 'father’s'), (1, 'family'), (1, 'families'), (1, 'falls'), (1, 'fakes'), (1, 'fails'), (1, 'erupts'), (1, 'end'), (1, 'due'), (1, 'desperate'), (1, 'death.'), (1, 'death'), (1, 'dead,'), (1, 'day,'), (1, 'cousin,'), (1, 'couple'), (1, 'corpse'), (1, 'conflict'), (1, 'choice,'), (1, 'by'), (1, 'but'), (1, 'bloodshed.A'), (1, 'between'), (1, 'beside'), (1, 'believing'), (1, 'be'), (1, 'banished.'), (1, 'arrange'), (1, 'agree'), (1, 'age-old'), (1, 'Tybalt,'), (1, 'Summary'), (1, 'Paris.With'), (1, 'Montagues'), (1, 'Montague'), (1, 'In'), (1, 'Friar’s'), (1, 'County'), (1, 'Capulet,'), (1, 'Capulet'), (1, 'An')]\n"
     ]
    }
   ],
   "source": [
    "# 가장 많이 나온 단어가 뭔지 알고 싶을 때\n",
    "# 1. split()을 이용해서 String을 List로 바꿔준다.\n",
    "# 2. key와 value의 위치를 바꿔준다.\n",
    "# 3. sorted(list, reverse=True)로 내림차순 정렬\n",
    "\n",
    "txt = open(\"RomeoJuliet.txt\", 'rt', encoding='UTF8')\n",
    "dict = {}\n",
    "for line in txt:\n",
    "    words = line.split()\n",
    "    for word in words:\n",
    "        dict[word] = dict.get(word, 0) + 1\n",
    "lst = [ (v,k) for k, v in dict.items() ]\n",
    "lst = sorted(lst, reverse=True) # 내림차순 정렬\n",
    "print(lst)"
   ]
  },
  {
   "cell_type": "markdown",
   "metadata": {},
   "source": [
    "# Function"
   ]
  },
  {
   "cell_type": "markdown",
   "metadata": {},
   "source": [
    "def function_name():\n",
    "    \n",
    "    some code"
   ]
  },
  {
   "cell_type": "code",
   "execution_count": 19,
   "metadata": {},
   "outputs": [
    {
     "name": "stdout",
     "output_type": "stream",
     "text": [
      "This computer is running on version Everest Puma\n",
      "This is your desktop\n"
     ]
    }
   ],
   "source": [
    "def about_this_computer():\n",
    "    print(\"This computer is running on version Everest Puma\")\n",
    "    print(\"This is your desktop\")\n",
    "    \n",
    "about_this_computer() # 함수 호출하려면 function name만 적으면 된다."
   ]
  },
  {
   "cell_type": "code",
   "execution_count": 20,
   "metadata": {},
   "outputs": [
    {
     "name": "stdout",
     "output_type": "stream",
     "text": [
      "This is your desktop\n",
      "This computer is running on version Everest Puma\n"
     ]
    }
   ],
   "source": [
    "# 주의 : indentation 실수하면 결과 잘못 나온다\n",
    "def about_this_computer():\n",
    "    print(\"This computer is running on version Everest Puma\")\n",
    "print(\"This is your desktop\")\n",
    "    \n",
    "about_this_computer()"
   ]
  },
  {
   "cell_type": "code",
   "execution_count": 21,
   "metadata": {},
   "outputs": [
    {
     "name": "stdout",
     "output_type": "stream",
     "text": [
      "Welcome to Stu's Staples.\n",
      "Our special is papayas.\n",
      "Have fun shopping!\n"
     ]
    }
   ],
   "source": [
    "def greet_customer(grocery_store, special_item):\n",
    "    print(\"Welcome to \"+ grocery_store + \".\")\n",
    "    print(\"Our special is \"+ special_item + \".\")\n",
    "    print(\"Have fun shopping!\")\n",
    "    \n",
    "greet_customer(\"Stu's Staples\", \"papayas\")"
   ]
  },
  {
   "cell_type": "code",
   "execution_count": 22,
   "metadata": {},
   "outputs": [
    {
     "name": "stdout",
     "output_type": "stream",
     "text": [
      "13\n"
     ]
    }
   ],
   "source": [
    "# parameter가 여러 개라도 괜찮음\n",
    "\n",
    "def mult_x_add_y(number, x,y):\n",
    "    print(number*x + y)\n",
    "    \n",
    "mult_x_add_y(5,2,3)"
   ]
  },
  {
   "cell_type": "markdown",
   "metadata": {},
   "source": [
    "# Keyword and Default arguments"
   ]
  },
  {
   "cell_type": "code",
   "execution_count": 23,
   "metadata": {},
   "outputs": [
    {
     "name": "stdout",
     "output_type": "stream",
     "text": [
      "Welcome to Stu's Staples.\n",
      "Our special is chips and salsa.\n",
      "Have fun shopping!\n"
     ]
    }
   ],
   "source": [
    "def greet_customer(grocery_store, special_item):\n",
    "    print(\"Welcome to \"+ grocery_store + \".\")\n",
    "    print(\"Our special is \"+ special_item + \".\")\n",
    "    print(\"Have fun shopping!\")\n",
    "\n",
    "# 첫 번째는 무조건 첫 번째 파라미터, 두 번째는 무조건 두 번째 파라미터였는데\n",
    "# keyword를 주면 들어갈 곳을 지정해줄 수 있다.\n",
    "greet_customer(special_item = \"chips and salsa\", grocery_store = \"Stu's Staples\")    "
   ]
  },
  {
   "cell_type": "code",
   "execution_count": 24,
   "metadata": {},
   "outputs": [
    {
     "name": "stdout",
     "output_type": "stream",
     "text": [
      "Creating a spreadsheet called Downloads 1000 rows.\n"
     ]
    }
   ],
   "source": [
    "# default argument\n",
    "def create_spreadsheet(title, row_count = 1000):\n",
    "    print(\"Creating a spreadsheet called \" + title + \" \" + str(row_count) + \" rows.\")\n",
    "\n",
    "create_spreadsheet(\"Downloads\") # 파라미터 2갠데 하나만 줬음\n",
    "# row_count에 대한 숫자를 안 줬으니까 여기서는 1000을 씀"
   ]
  },
  {
   "cell_type": "code",
   "execution_count": 25,
   "metadata": {},
   "outputs": [
    {
     "name": "stdout",
     "output_type": "stream",
     "text": [
      "Creating a spreadsheet called Application 10 rows.\n"
     ]
    }
   ],
   "source": [
    "def create_spreadsheet(title, row_count = 1000):\n",
    "    print(\"Creating a spreadsheet called \" + title + \" \" + str(row_count) + \" rows.\")\n",
    "\n",
    "create_spreadsheet(\"Application\", 10)\n",
    "# row_count에 대한 숫자를 10으로 줬으니까 여기서는 10을 씀"
   ]
  },
  {
   "cell_type": "markdown",
   "metadata": {},
   "source": [
    "# Return (리턴문 없어도 상관없음)"
   ]
  },
  {
   "cell_type": "code",
   "execution_count": 26,
   "metadata": {},
   "outputs": [
    {
     "name": "stdout",
     "output_type": "stream",
     "text": [
      "16 divided by 4 is 4.0!\n",
      "4.0 divided by 4 is 1.0!\n"
     ]
    }
   ],
   "source": [
    "def divide_by_four(input_number):\n",
    "    return input_number/4\n",
    "\n",
    "result = divide_by_four(16)\n",
    "print(\"16 divided by 4 is \" + str(result) + \"!\")\n",
    "\n",
    "result2 = divide_by_four(result)\n",
    "print(str(result) + \" divided by 4 is \" + str(result2) + \"!\")"
   ]
  },
  {
   "cell_type": "code",
   "execution_count": 27,
   "metadata": {},
   "outputs": [
    {
     "name": "stdout",
     "output_type": "stream",
     "text": [
      "1\n",
      "9\n"
     ]
    }
   ],
   "source": [
    "# 여러 개도 리턴할 수 있음\n",
    "\n",
    "def square_point(x_value, y_value):\n",
    "    x_2 = x_value * x_value\n",
    "    y_2 = y_value * y_value\n",
    "    return x_2, y_2\n",
    "\n",
    "# 함수에서 2개를 리턴하고 있기 때문에 받을 때도 variable이 2개여야 한다.\n",
    "x_squared, y_squared = square_point(1,3)\n",
    "\n",
    "print(x_squared)\n",
    "print(y_squared)"
   ]
  },
  {
   "cell_type": "markdown",
   "metadata": {},
   "source": [
    "Scope"
   ]
  },
  {
   "cell_type": "code",
   "execution_count": 28,
   "metadata": {},
   "outputs": [
    {
     "ename": "NameError",
     "evalue": "name 'special_item' is not defined",
     "output_type": "error",
     "traceback": [
      "\u001b[1;31m---------------------------------------------------------------------------\u001b[0m",
      "\u001b[1;31mNameError\u001b[0m                                 Traceback (most recent call last)",
      "\u001b[1;32m<ipython-input-28-4609cedbee09>\u001b[0m in \u001b[0;36m<module>\u001b[1;34m\u001b[0m\n\u001b[0;32m      4\u001b[0m     \u001b[1;32mreturn\u001b[0m \u001b[1;34m\"Our special is \"\u001b[0m \u001b[1;33m+\u001b[0m \u001b[0mspecial_item\u001b[0m \u001b[1;33m+\u001b[0m \u001b[1;34m\".\"\u001b[0m\u001b[1;33m\u001b[0m\u001b[1;33m\u001b[0m\u001b[0m\n\u001b[0;32m      5\u001b[0m \u001b[1;33m\u001b[0m\u001b[0m\n\u001b[1;32m----> 6\u001b[1;33m \u001b[0mprint\u001b[0m\u001b[1;33m(\u001b[0m\u001b[1;34m\"I don't like \"\u001b[0m \u001b[1;33m+\u001b[0m \u001b[0mspecial_item\u001b[0m\u001b[1;33m)\u001b[0m\u001b[1;33m\u001b[0m\u001b[1;33m\u001b[0m\u001b[0m\n\u001b[0m",
      "\u001b[1;31mNameError\u001b[0m: name 'special_item' is not defined"
     ]
    }
   ],
   "source": [
    "# special_item의 scope는 함수 안\n",
    "\n",
    "def create_special_string(special_item):\n",
    "    return \"Our special is \" + special_item + \".\"\n",
    "\n",
    "print(\"I don't like \" + special_item)"
   ]
  },
  {
   "cell_type": "code",
   "execution_count": 29,
   "metadata": {},
   "outputs": [
    {
     "name": "stdout",
     "output_type": "stream",
     "text": [
      "Our special is grapes.\n"
     ]
    }
   ],
   "source": [
    "header_string = \"Our special is \"\n",
    "\n",
    "def create_special_string(special_item):\n",
    "    return header_string + special_item + \".\"\n",
    "print(create_special_string(\"grapes\"))"
   ]
  },
  {
   "cell_type": "markdown",
   "metadata": {},
   "source": [
    "# Class and Class Variable"
   ]
  },
  {
   "cell_type": "code",
   "execution_count": 30,
   "metadata": {},
   "outputs": [
    {
     "name": "stdout",
     "output_type": "stream",
     "text": [
      "Rockstar\n",
      "Rockstar\n",
      "<class '__main__.Musician'>\n",
      "<class '__main__.Musician'>\n"
     ]
    }
   ],
   "source": [
    "class Musician():\n",
    "    title = \"Rockstar\"\n",
    "    \n",
    "drummer = Musician()\n",
    "guitarist = Musician()\n",
    "\n",
    "print(drummer.title)\n",
    "print(guitarist.title)\n",
    "\n",
    "print(type(drummer))\n",
    "print(type(guitarist))"
   ]
  },
  {
   "cell_type": "code",
   "execution_count": 31,
   "metadata": {},
   "outputs": [
    {
     "name": "stdout",
     "output_type": "stream",
     "text": [
      "HELLO?!\n",
      "HELLO?!\n"
     ]
    }
   ],
   "source": [
    "# dunder(double under) method = magic method\n",
    "# __init__는 constructor\n",
    "# __init__는 클래스의 instance가 만들어질 때 자동적으로 실행되는 function\n",
    "# __init__에서 self는 반드시 파라미터로 지정되어 있어야 한다.\n",
    "\n",
    "class Shouter():\n",
    "    def __init__(self): # self에 shout1, shout2가 넘어간다.\n",
    "        print(\"HELLO?!\")\n",
    "        \n",
    "shout1 = Shouter() # shout1이라는 instance가 만들어지면, __init__이 자동적으로 실행된다.\n",
    "shout2 = Shouter()"
   ]
  },
  {
   "cell_type": "code",
   "execution_count": 32,
   "metadata": {},
   "outputs": [
    {
     "name": "stdout",
     "output_type": "stream",
     "text": [
      "SHOUT\n"
     ]
    }
   ],
   "source": [
    "# constructor with parameters\n",
    "\n",
    "class Shouter():\n",
    "    def __init__(self, phrase): # self에 shout1, phrase에 \"shout\"가 넘어감\n",
    "        if type(phrase) == str:\n",
    "            print(phrase.upper())\n",
    "            \n",
    "shout1 = Shouter(\"shout\")"
   ]
  },
  {
   "cell_type": "code",
   "execution_count": 33,
   "metadata": {},
   "outputs": [
    {
     "name": "stdout",
     "output_type": "stream",
     "text": [
      "Dogs experience 7 years for wvery 1 human year.\n"
     ]
    }
   ],
   "source": [
    "class Dog():\n",
    "    dog_time_dilation = 7 # class variable\n",
    "    \n",
    "    def time_explanation(self): # self가 인스턴스 그 자체니까 이 경우는 파라미터가 없는 것 \n",
    "        print(\"Dogs experience {} years for wvery 1 human year.\".\n",
    "              format(self.dog_time_dilation))\n",
    "        \n",
    "pipi = Dog()\n",
    "pipi.time_explanation()"
   ]
  },
  {
   "cell_type": "code",
   "execution_count": 34,
   "metadata": {},
   "outputs": [
    {
     "name": "stdout",
     "output_type": "stream",
     "text": [
      "Point bristles towards the basin while washing your brushes.\n"
     ]
    }
   ],
   "source": [
    "class Rules():\n",
    "    def washing_brushes(self): # rule이 self로 넘어옴\n",
    "        print(\"Point bristles towards the basin while washing your brushes.\")\n",
    "\n",
    "rule = Rules() # rule이라는 instance 만들었음\n",
    "rule.washing_brushes()"
   ]
  },
  {
   "cell_type": "code",
   "execution_count": 35,
   "metadata": {},
   "outputs": [
    {
     "name": "stdout",
     "output_type": "stream",
     "text": [
      "www.ssu.ac.kr\n",
      "ailab.ssu.ac.kr\n"
     ]
    }
   ],
   "source": [
    "class Entry:\n",
    "    def __init__(self, url):\n",
    "        self.url= url # instance(self)에 url variable을 만들어준다.\n",
    "        \n",
    "soongsil = Entry(\"www.ssu.ac.kr\") # soongsil이라는 instance\n",
    "ailab = Entry(\"ailab.ssu.ac.kr\")\n",
    "\n",
    "print(soongsil.url)\n",
    "print(ailab.url)"
   ]
  },
  {
   "cell_type": "code",
   "execution_count": 36,
   "metadata": {},
   "outputs": [
    {
     "name": "stdout",
     "output_type": "stream",
     "text": [
      "https://www.ssu.ac.kr\n",
      "https://ailab.ssu.ac.kr\n"
     ]
    }
   ],
   "source": [
    "class Entry:\n",
    "    prefix = \"https://\" # class variable\n",
    "    def __init__(self, url):\n",
    "        self.url= Entry.prefix + url\n",
    "        \n",
    "soongsil = Entry(\"www.ssu.ac.kr\")\n",
    "ailab = Entry(\"ailab.ssu.ac.kr\")\n",
    "\n",
    "print(soongsil.url)\n",
    "print(ailab.url)"
   ]
  },
  {
   "cell_type": "code",
   "execution_count": 37,
   "metadata": {},
   "outputs": [
    {
     "name": "stdout",
     "output_type": "stream",
     "text": [
      "Creating circle with diameter 10\n",
      "Creating circle with diameter 12\n",
      "Creating circle with diameter 36\n",
      "Creating circle with diameter 11460\n"
     ]
    }
   ],
   "source": [
    "class Circle:\n",
    "    pi = 3.14 # class variable\n",
    "    \n",
    "    def __init__(self, diameter): # Circle 부를 때 파라미터 하나 넘겨줘야함\n",
    "        print(\"Creating circle with diameter {}\".format(diameter))\n",
    "        self.radius = diameter/2. # instance에 radius라는 variable 만들어서 넘어온 diameter의 반을 넣어준다. \n",
    "    \n",
    "    def circumference(self):\n",
    "        return 2*Circle.pi*self.radius\n",
    "    \n",
    "circle = Circle(10)\n",
    "medium_pizza = Circle(12)\n",
    "teaching_table = Circle(36)\n",
    "round_room = Circle(11460)"
   ]
  },
  {
   "cell_type": "code",
   "execution_count": 38,
   "metadata": {},
   "outputs": [
    {
     "name": "stdout",
     "output_type": "stream",
     "text": [
      "31.400000000000002\n",
      "37.68\n",
      "113.04\n",
      "35984.4\n"
     ]
    }
   ],
   "source": [
    "print(circle.circumference())\n",
    "print(medium_pizza.circumference())\n",
    "print(teaching_table.circumference())\n",
    "print(round_room.circumference())"
   ]
  }
 ],
 "metadata": {
  "kernelspec": {
   "display_name": "Python 3",
   "language": "python",
   "name": "python3"
  },
  "language_info": {
   "codemirror_mode": {
    "name": "ipython",
    "version": 3
   },
   "file_extension": ".py",
   "mimetype": "text/x-python",
   "name": "python",
   "nbconvert_exporter": "python",
   "pygments_lexer": "ipython3",
   "version": "3.7.4"
  }
 },
 "nbformat": 4,
 "nbformat_minor": 2
}
