{
 "cells": [
  {
   "cell_type": "code",
   "execution_count": 13,
   "metadata": {},
   "outputs": [
    {
     "name": "stdout",
     "output_type": "stream",
     "text": [
      "<class 'dict'>\n"
     ]
    }
   ],
   "source": [
    "# Dictionary는 key와 value로 표현되는 데이터 구조, Mutable함\n",
    "# List는 대괄호, Dictionary는 중괄호 사용\n",
    "dict1 = {}\n",
    "print(type(dict1))"
   ]
  },
  {
   "cell_type": "code",
   "execution_count": 14,
   "metadata": {},
   "outputs": [
    {
     "name": "stdout",
     "output_type": "stream",
     "text": [
      "{'kim': '111-2222', 'park': '222-3333'}\n"
     ]
    }
   ],
   "source": [
    "# key와 value는 콜론으로 구별된다.\n",
    "contacts = {'kim':'111-2222', 'park':'222-3333'}\n",
    "print(contacts)"
   ]
  },
  {
   "cell_type": "code",
   "execution_count": 15,
   "metadata": {},
   "outputs": [
    {
     "name": "stdout",
     "output_type": "stream",
     "text": [
      "{'kim': '111-2222', 'park': '222-3333'}\n",
      "{'kim': '111-2222', 'park': '000-0000'}\n"
     ]
    }
   ],
   "source": [
    "print(contacts)\n",
    "# Dictionary에 있는 내용을 가져오려면 key값을 주면 된다.\n",
    "contacts['park'] = '000-0000'\n",
    "print(contacts)"
   ]
  },
  {
   "cell_type": "code",
   "execution_count": 16,
   "metadata": {},
   "outputs": [
    {
     "name": "stdout",
     "output_type": "stream",
     "text": [
      "{'kim': '111-2222', 'park': '000-0000'}\n",
      "{'kim': '111-2222', 'park': '000-0000', 'choi': '111-2222'}\n",
      "3\n"
     ]
    }
   ],
   "source": [
    "print(contacts)\n",
    "# 기존에 없던 key값이기 때문에 내용이 추가된다.\n",
    "contacts['choi'] = \"111-2222\"\n",
    "print(contacts)\n",
    "print(len(contacts))"
   ]
  },
  {
   "cell_type": "code",
   "execution_count": 17,
   "metadata": {},
   "outputs": [
    {
     "name": "stdout",
     "output_type": "stream",
     "text": [
      "[10, 20, 30, 40, 50, 60]\n",
      "[10, 20, 40, 50, 60]\n"
     ]
    }
   ],
   "source": [
    "test = [10, 20, 30, 40, 50, 60]\n",
    "print(test)\n",
    "del(test[2])\n",
    "print(test)"
   ]
  },
  {
   "cell_type": "code",
   "execution_count": 18,
   "metadata": {},
   "outputs": [
    {
     "name": "stdout",
     "output_type": "stream",
     "text": [
      "[10, 20]\n"
     ]
    }
   ],
   "source": [
    "del(test[2:])\n",
    "print(test)"
   ]
  },
  {
   "cell_type": "code",
   "execution_count": 19,
   "metadata": {},
   "outputs": [
    {
     "name": "stdout",
     "output_type": "stream",
     "text": [
      "{'kim': '111-2222', 'park': '000-0000', 'choi': '111-2222'}\n",
      "{'kim': '111-2222', 'park': '000-0000'}\n"
     ]
    }
   ],
   "source": [
    "# list와 마찬가지로 del 사용\n",
    "# del(list[index]), del(dictionary[key])\n",
    "print(contacts)\n",
    "del(contacts['choi'])\n",
    "print(contacts)"
   ]
  },
  {
   "cell_type": "code",
   "execution_count": 20,
   "metadata": {},
   "outputs": [
    {
     "name": "stdout",
     "output_type": "stream",
     "text": [
      "{'kim': '111-2222', 'park': '000-0000'}\n",
      "{'kim': '111-2222', 'park': '111-2222'}\n",
      "{'park': '222-3333', 'choi': '333-4444'}\n"
     ]
    }
   ],
   "source": [
    "print(contacts)\n",
    "contacts['park'] = '111-2222'\n",
    "print(contacts)\n",
    "\n",
    "# 아래의 경우, 처음 나온 'park'의 value가 무의미해진다.\n",
    "contacts1 = {'park':'111-2222', 'park':'222-3333', 'choi':'333-4444'}\n",
    "print(contacts1)"
   ]
  },
  {
   "cell_type": "code",
   "execution_count": 21,
   "metadata": {},
   "outputs": [
    {
     "name": "stdout",
     "output_type": "stream",
     "text": [
      "111-2222\n",
      "111-2222\n"
     ]
    }
   ],
   "source": [
    "print(contacts.get('park'))\n",
    "print(contacts['park'])"
   ]
  },
  {
   "cell_type": "code",
   "execution_count": 22,
   "metadata": {},
   "outputs": [
    {
     "name": "stdout",
     "output_type": "stream",
     "text": [
      "Name:  Phill\n",
      "Age:  22\n",
      "Salary:  None\n",
      "Salary:  10.0\n"
     ]
    }
   ],
   "source": [
    "# get의 유용성\n",
    "person = {'name':'Phill', 'age':22}\n",
    "print('Name: ', person.get('name'))\n",
    "print('Age: ', person.get('age'))\n",
    "\n",
    "print('Salary: ', person.get('salary'))\n",
    "\n",
    "print('Salary: ', person.get('salary', 10.0)) # default 값을 리턴할 수 있음"
   ]
  },
  {
   "cell_type": "code",
   "execution_count": 23,
   "metadata": {},
   "outputs": [
    {
     "name": "stdout",
     "output_type": "stream",
     "text": [
      "{'kim': '111-2222', 'park': '111-2222', 'lee': ['222-3333', '333-4444']}\n"
     ]
    }
   ],
   "source": [
    "contacts['lee'] = ['222-3333', '333-4444']\n",
    "print(contacts)"
   ]
  },
  {
   "cell_type": "code",
   "execution_count": 24,
   "metadata": {},
   "outputs": [
    {
     "name": "stdout",
     "output_type": "stream",
     "text": [
      "Phone number : 222-3333\n",
      "Phone number : 333-4444\n"
     ]
    }
   ],
   "source": [
    "for number in contacts['lee']:\n",
    "    print('Phone number : {}'.format(number))"
   ]
  },
  {
   "cell_type": "code",
   "execution_count": 25,
   "metadata": {},
   "outputs": [
    {
     "name": "stdout",
     "output_type": "stream",
     "text": [
      "<built-in method keys of dict object at 0x0000019440C3F728>\n"
     ]
    }
   ],
   "source": [
    "print(contacts.keys)"
   ]
  },
  {
   "cell_type": "code",
   "execution_count": 26,
   "metadata": {
    "scrolled": true
   },
   "outputs": [
    {
     "name": "stdout",
     "output_type": "stream",
     "text": [
      "dict_keys(['kim', 'park', 'lee'])\n"
     ]
    }
   ],
   "source": [
    "print(contacts.keys()) # keys()에서 괄호가 빠지면 안 된다."
   ]
  },
  {
   "cell_type": "code",
   "execution_count": 27,
   "metadata": {},
   "outputs": [
    {
     "name": "stdout",
     "output_type": "stream",
     "text": [
      "dict_values(['111-2222', '111-2222', ['222-3333', '333-4444']])\n",
      "dict_items([('kim', '111-2222'), ('park', '111-2222'), ('lee', ['222-3333', '333-4444'])])\n"
     ]
    }
   ],
   "source": [
    "print(contacts.values())\n",
    "print(contacts.items()) # Dictionary의 key, value로 이루어진 pair를 리턴한다."
   ]
  },
  {
   "cell_type": "code",
   "execution_count": 28,
   "metadata": {},
   "outputs": [
    {
     "name": "stdout",
     "output_type": "stream",
     "text": [
      "111-2222\n"
     ]
    }
   ],
   "source": [
    "name = 'park'\n",
    "if name in contacts.keys():\n",
    "    print(contacts[name])"
   ]
  },
  {
   "cell_type": "code",
   "execution_count": 30,
   "metadata": {},
   "outputs": [
    {
     "name": "stdout",
     "output_type": "stream",
     "text": [
      "['222-3333', '333-4444']\n"
     ]
    }
   ],
   "source": [
    "name = 'lee'\n",
    "if name in contacts.keys():\n",
    "    print(contacts[name])"
   ]
  },
  {
   "cell_type": "code",
   "execution_count": 31,
   "metadata": {},
   "outputs": [
    {
     "name": "stdout",
     "output_type": "stream",
     "text": [
      "{'kim': '111-2222', 'park': '111-2222', 'lee': ['222-3333', '333-4444']}\n",
      "dict_items([('kim', '111-2222'), ('park', '111-2222'), ('lee', ['222-3333', '333-4444'])])\n"
     ]
    }
   ],
   "source": [
    "# 차이점 파악하기\n",
    "print(contacts)\n",
    "print(contacts.items()) # pair를 리턴한다."
   ]
  },
  {
   "cell_type": "code",
   "execution_count": 32,
   "metadata": {},
   "outputs": [
    {
     "name": "stdout",
     "output_type": "stream",
     "text": [
      "key is kim and value is 111-2222\n",
      "key is park and value is 111-2222\n",
      "key is lee and value is ['222-3333', '333-4444']\n"
     ]
    }
   ],
   "source": [
    "for a, b in contacts.items():\n",
    "    print('key is {} and value is {}'.format(a,b))"
   ]
  },
  {
   "cell_type": "code",
   "execution_count": 33,
   "metadata": {},
   "outputs": [
    {
     "name": "stdout",
     "output_type": "stream",
     "text": [
      "value is 111-2222 and name is kim\n",
      "value is 111-2222 and name is park\n",
      "value is ['222-3333', '333-4444'] and name is lee\n"
     ]
    }
   ],
   "source": [
    "for a, b in contacts.items():\n",
    "    print('value is {1} and name is {0}'.format(a,b)) # index 주면서 순서 바꿔서 출력하기"
   ]
  },
  {
   "cell_type": "code",
   "execution_count": 45,
   "metadata": {},
   "outputs": [
    {
     "name": "stdout",
     "output_type": "stream",
     "text": [
      "{'park': {'cell': '111-2222', 'email': 'park@ssu.ac.kr'}, 'lee': {'cell': '333-4444', 'email': 'lee@ssu.ac.kr'}}\n"
     ]
    }
   ],
   "source": [
    "# Dictionary 안에 또 다른 Dictionary가 있을 수 있음\n",
    "contacts = { 'park' : {\n",
    "                        'cell' : '111-2222',\n",
    "                        'email' : 'park@ssu.ac.kr'},\n",
    "            'lee'   : {\n",
    "                        'cell' : '333-4444',\n",
    "                        'email' : 'lee@ssu.ac.kr'} }\n",
    "\n",
    "print(contacts)"
   ]
  },
  {
   "cell_type": "code",
   "execution_count": 46,
   "metadata": {},
   "outputs": [
    {
     "name": "stdout",
     "output_type": "stream",
     "text": [
      "park\n",
      "lee\n"
     ]
    }
   ],
   "source": [
    "for contact in contacts:\n",
    "    print(contact)"
   ]
  },
  {
   "cell_type": "code",
   "execution_count": 47,
   "metadata": {},
   "outputs": [
    {
     "name": "stdout",
     "output_type": "stream",
     "text": [
      "park's contact information\n",
      "   111-2222\n",
      "   park@ssu.ac.kr\n",
      "lee's contact information\n",
      "   333-4444\n",
      "   lee@ssu.ac.kr\n"
     ]
    }
   ],
   "source": [
    "for contact in contacts:\n",
    "    print(\"{}'s contact information\".format(contact))\n",
    "    print(\"  \",contacts[contact]['cell'])\n",
    "    print(\"  \",contacts[contact]['email'])"
   ]
  },
  {
   "cell_type": "code",
   "execution_count": 50,
   "metadata": {},
   "outputs": [
    {
     "name": "stdout",
     "output_type": "stream",
     "text": [
      "{'park': {'cell': '111-2222', 'email': 'park@ssu.ac.kr'}, 'lee': {'cell': '333-4444', 'email': 'lee@ssu.ac.kr'}}\n",
      "True\n",
      "False\n"
     ]
    }
   ],
   "source": [
    "print(contacts)\n",
    "\n",
    "print('lee' in contacts.keys())\n",
    "print('jaje' in contacts.keys())"
   ]
  },
  {
   "cell_type": "code",
   "execution_count": 51,
   "metadata": {},
   "outputs": [
    {
     "name": "stdout",
     "output_type": "stream",
     "text": [
      "False\n",
      "False\n"
     ]
    }
   ],
   "source": [
    "print('111-2222' in contacts.values())\n",
    "print('222-3333' in contacts.values()) # 강의 19분"
   ]
  },
  {
   "cell_type": "code",
   "execution_count": 52,
   "metadata": {},
   "outputs": [
    {
     "name": "stdout",
     "output_type": "stream",
     "text": [
      "{'Alice': 20, 'Carol': 30, 'Bob': 34}\n"
     ]
    }
   ],
   "source": [
    "a = {'Alice':20, 'Carol':30, 'Bob':34}\n",
    "print(a)"
   ]
  },
  {
   "cell_type": "code",
   "execution_count": 53,
   "metadata": {},
   "outputs": [
    {
     "name": "stdout",
     "output_type": "stream",
     "text": [
      "{'Alice': 20, 'Bob': 34}\n"
     ]
    }
   ],
   "source": [
    "a.pop('Carol')\n",
    "print(a)"
   ]
  },
  {
   "cell_type": "code",
   "execution_count": 54,
   "metadata": {},
   "outputs": [
    {
     "data": {
      "text/plain": [
       "20"
      ]
     },
     "execution_count": 54,
     "metadata": {},
     "output_type": "execute_result"
    }
   ],
   "source": [
    "a.pop('Alice') # pop(key) 하면 value가 리턴이 된다."
   ]
  },
  {
   "cell_type": "code",
   "execution_count": 55,
   "metadata": {},
   "outputs": [
    {
     "data": {
      "text/plain": [
       "{'Bob': 34}"
      ]
     },
     "execution_count": 55,
     "metadata": {},
     "output_type": "execute_result"
    }
   ],
   "source": [
    "a"
   ]
  },
  {
   "cell_type": "code",
   "execution_count": 56,
   "metadata": {},
   "outputs": [
    {
     "data": {
      "text/plain": [
       "('Bob', 34)"
      ]
     },
     "execution_count": 56,
     "metadata": {},
     "output_type": "execute_result"
    }
   ],
   "source": [
    "# remove random item\n",
    "a = {'Alice':20, 'Carol':30, 'Bob':34}\n",
    "a.popitem()"
   ]
  },
  {
   "cell_type": "code",
   "execution_count": 57,
   "metadata": {},
   "outputs": [
    {
     "data": {
      "text/plain": [
       "{'Alice': 20, 'Carol': 30}"
      ]
     },
     "execution_count": 57,
     "metadata": {},
     "output_type": "execute_result"
    }
   ],
   "source": [
    "a"
   ]
  },
  {
   "cell_type": "code",
   "execution_count": 58,
   "metadata": {},
   "outputs": [
    {
     "data": {
      "text/plain": [
       "('Carol', 30)"
      ]
     },
     "execution_count": 58,
     "metadata": {},
     "output_type": "execute_result"
    }
   ],
   "source": [
    "a.popitem()"
   ]
  },
  {
   "cell_type": "code",
   "execution_count": 59,
   "metadata": {},
   "outputs": [
    {
     "data": {
      "text/plain": [
       "{'Alice': 20}"
      ]
     },
     "execution_count": 59,
     "metadata": {},
     "output_type": "execute_result"
    }
   ],
   "source": [
    "a"
   ]
  },
  {
   "cell_type": "code",
   "execution_count": 60,
   "metadata": {},
   "outputs": [
    {
     "name": "stdout",
     "output_type": "stream",
     "text": [
      "{'Alice': 20}\n"
     ]
    }
   ],
   "source": [
    "print(a)"
   ]
  },
  {
   "cell_type": "code",
   "execution_count": 61,
   "metadata": {},
   "outputs": [],
   "source": [
    "del(a['Alice']) # pop과 다르게 del은 리턴되는 값이 없다."
   ]
  },
  {
   "cell_type": "code",
   "execution_count": 62,
   "metadata": {},
   "outputs": [
    {
     "name": "stdout",
     "output_type": "stream",
     "text": [
      "{}\n"
     ]
    }
   ],
   "source": [
    "print(a)"
   ]
  }
 ],
 "metadata": {
  "kernelspec": {
   "display_name": "Python 3",
   "language": "python",
   "name": "python3"
  },
  "language_info": {
   "codemirror_mode": {
    "name": "ipython",
    "version": 3
   },
   "file_extension": ".py",
   "mimetype": "text/x-python",
   "name": "python",
   "nbconvert_exporter": "python",
   "pygments_lexer": "ipython3",
   "version": "3.7.4"
  }
 },
 "nbformat": 4,
 "nbformat_minor": 2
}
