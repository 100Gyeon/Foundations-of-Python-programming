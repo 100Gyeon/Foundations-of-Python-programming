{
 "cells": [
  {
   "cell_type": "markdown",
   "metadata": {},
   "source": [
    "# Dictionary의 get() 함수"
   ]
  },
  {
   "cell_type": "code",
   "execution_count": 1,
   "metadata": {},
   "outputs": [
    {
     "name": "stdout",
     "output_type": "stream",
     "text": [
      "kim  is in the dictionary\n",
      "choi  is not in the dictionary\n"
     ]
    }
   ],
   "source": [
    "counts = {\"kim\":1, \"park\":2}\n",
    "names = ['kim', 'choi']\n",
    "for name in names:\n",
    "    if name in counts:\n",
    "        print(name, \" is in the dictionary\")\n",
    "    else:\n",
    "        print(name, \" is not in the dictionary\")"
   ]
  },
  {
   "cell_type": "code",
   "execution_count": 3,
   "metadata": {},
   "outputs": [
    {
     "name": "stdout",
     "output_type": "stream",
     "text": [
      "{'park': 3, 'kim': 2, 'lee': 1}\n"
     ]
    }
   ],
   "source": [
    "counts = {} # empty dictionary\n",
    "names = ['park', 'kim', 'lee', 'park', 'kim', 'park']\n",
    "for name in names:\n",
    "    if name in counts:\n",
    "        counts[name] += 1\n",
    "    else:\n",
    "        counts[name]= 1\n",
    "print(counts)"
   ]
  },
  {
   "cell_type": "code",
   "execution_count": 4,
   "metadata": {},
   "outputs": [
    {
     "name": "stdout",
     "output_type": "stream",
     "text": [
      "{'park': 3, 'kim': 2, 'lee': 1}\n"
     ]
    }
   ],
   "source": [
    "# Use get() : if-else문이 필요없음\n",
    "counts = {}\n",
    "names = ['park', 'kim', 'lee', 'park', 'kim', 'park']\n",
    "for name in names:\n",
    "    counts[name] = counts.get(name, 0) + 1\n",
    "print(counts)"
   ]
  },
  {
   "cell_type": "code",
   "execution_count": 6,
   "metadata": {},
   "outputs": [
    {
     "name": "stdout",
     "output_type": "stream",
     "text": [
      "Enter a line of texts:\n",
      "this is a first line and that is the second line\n",
      "['this', 'is', 'a', 'first', 'line', 'and', 'that', 'is', 'the', 'second', 'line']\n",
      "{'this': 1, 'is': 2, 'a': 1, 'first': 1, 'line': 2, 'and': 1, 'that': 1, 'the': 1, 'second': 1}\n"
     ]
    }
   ],
   "source": [
    "counts = {}\n",
    "print(\"Enter a line of texts:\")\n",
    "line = input(\"\")\n",
    "words = line.split() # String이 List로 변함\n",
    "print(words)\n",
    "for word in words:\n",
    "    counts[word] = counts.get(word, 0) + 1\n",
    "print(counts)"
   ]
  },
  {
   "cell_type": "code",
   "execution_count": 7,
   "metadata": {},
   "outputs": [
    {
     "ename": "TypeError",
     "evalue": "'str' object does not support item assignment",
     "output_type": "error",
     "traceback": [
      "\u001b[1;31m---------------------------------------------------------------------------\u001b[0m",
      "\u001b[1;31mTypeError\u001b[0m                                 Traceback (most recent call last)",
      "\u001b[1;32m<ipython-input-7-190045e3af8d>\u001b[0m in \u001b[0;36m<module>\u001b[1;34m\u001b[0m\n\u001b[0;32m      4\u001b[0m \u001b[0mz\u001b[0m \u001b[1;33m=\u001b[0m \u001b[1;33m(\u001b[0m\u001b[1;36m1\u001b[0m\u001b[1;33m,\u001b[0m\u001b[1;36m2\u001b[0m\u001b[1;33m,\u001b[0m\u001b[1;36m3\u001b[0m\u001b[1;33m)\u001b[0m\u001b[1;33m\u001b[0m\u001b[1;33m\u001b[0m\u001b[0m\n\u001b[0;32m      5\u001b[0m \u001b[0mx\u001b[0m\u001b[1;33m[\u001b[0m\u001b[1;36m1\u001b[0m\u001b[1;33m]\u001b[0m \u001b[1;33m=\u001b[0m \u001b[1;36m100\u001b[0m\u001b[1;33m\u001b[0m\u001b[1;33m\u001b[0m\u001b[0m\n\u001b[1;32m----> 6\u001b[1;33m \u001b[0my\u001b[0m\u001b[1;33m[\u001b[0m\u001b[1;36m1\u001b[0m\u001b[1;33m]\u001b[0m \u001b[1;33m=\u001b[0m \u001b[1;34m'c'\u001b[0m\u001b[1;33m\u001b[0m\u001b[1;33m\u001b[0m\u001b[0m\n\u001b[0m",
      "\u001b[1;31mTypeError\u001b[0m: 'str' object does not support item assignment"
     ]
    }
   ],
   "source": [
    "# Tuple과 String은 immutable\n",
    "# List와 Dictionary는 mutable\n",
    "x = [1,2,3] # List\n",
    "y = \"string\" # String\n",
    "z = (1,2,3) # Tuple\n",
    "x[1] = 100\n",
    "y[1] = 'c'"
   ]
  },
  {
   "cell_type": "code",
   "execution_count": 8,
   "metadata": {},
   "outputs": [
    {
     "ename": "TypeError",
     "evalue": "'tuple' object does not support item assignment",
     "output_type": "error",
     "traceback": [
      "\u001b[1;31m---------------------------------------------------------------------------\u001b[0m",
      "\u001b[1;31mTypeError\u001b[0m                                 Traceback (most recent call last)",
      "\u001b[1;32m<ipython-input-8-b86867b49c70>\u001b[0m in \u001b[0;36m<module>\u001b[1;34m\u001b[0m\n\u001b[1;32m----> 1\u001b[1;33m \u001b[0mz\u001b[0m\u001b[1;33m[\u001b[0m\u001b[1;36m1\u001b[0m\u001b[1;33m]\u001b[0m \u001b[1;33m=\u001b[0m \u001b[1;36m100\u001b[0m\u001b[1;33m\u001b[0m\u001b[1;33m\u001b[0m\u001b[0m\n\u001b[0m",
      "\u001b[1;31mTypeError\u001b[0m: 'tuple' object does not support item assignment"
     ]
    }
   ],
   "source": [
    "z[1] = 100"
   ]
  },
  {
   "cell_type": "code",
   "execution_count": 9,
   "metadata": {},
   "outputs": [],
   "source": [
    "tup = (1,2,3)\n",
    "tup += (4,5)\n",
    "lst = [1,2,3]\n",
    "lst += [4,5]"
   ]
  },
  {
   "cell_type": "code",
   "execution_count": 10,
   "metadata": {},
   "outputs": [
    {
     "name": "stdout",
     "output_type": "stream",
     "text": [
      "1641444110232\n",
      "1641443390184\n",
      "1641442356488\n",
      "1641442356488\n"
     ]
    }
   ],
   "source": [
    "tup = (1,2,3)\n",
    "print(id(tup))\n",
    "tup += (4,5)\n",
    "print(id(tup)) # 새로운 tuple이 만들어졌음을 알 수 있음\n",
    "lst = [1,2,3]\n",
    "print(id(lst))\n",
    "lst += [4,5]\n",
    "print(id(lst)) # 원래 list의 내용이 바뀐 것"
   ]
  },
  {
   "cell_type": "code",
   "execution_count": 11,
   "metadata": {},
   "outputs": [
    {
     "name": "stdout",
     "output_type": "stream",
     "text": [
      "dict_items([('park', 10), ('lee', 20), ('kim', 40)])\n",
      "[('kim', 40), ('lee', 20), ('park', 10)]\n"
     ]
    }
   ],
   "source": [
    "dict = {\"park\":10, \"lee\":20, \"kim\":40}\n",
    "dictItems = dict.items() \n",
    "# The method items() returns a list of dict's (key, value) tuple pairs.\n",
    "print(dictItems) # 각각의 element가 Tuple인 List 출력\n",
    "print(sorted(dictItems)) # List라서 sorted 가능, key값으로 sort"
   ]
  },
  {
   "cell_type": "code",
   "execution_count": 13,
   "metadata": {},
   "outputs": [
    {
     "name": "stdout",
     "output_type": "stream",
     "text": [
      "kim 40\n",
      "lee 20\n",
      "park 10\n"
     ]
    }
   ],
   "source": [
    "for a,b in sorted(dictItems):\n",
    "    print(a,b)"
   ]
  },
  {
   "cell_type": "code",
   "execution_count": 14,
   "metadata": {},
   "outputs": [
    {
     "name": "stdout",
     "output_type": "stream",
     "text": [
      "[('park', 10), ('lee', 20), ('kim', 40)]\n"
     ]
    }
   ],
   "source": [
    "dict = {\"park\":10, \"lee\":20, \"kim\":40}\n",
    "dictItems = dict.items() # dictItems에 List가 들어감\n",
    "tmp = []\n",
    "for a,b in dictItems:\n",
    "    tmp.append((a,b))\n",
    "print(tmp)"
   ]
  },
  {
   "cell_type": "code",
   "execution_count": 15,
   "metadata": {},
   "outputs": [
    {
     "name": "stdout",
     "output_type": "stream",
     "text": [
      "[('kim', 40), ('lee', 20), ('park', 10)]\n"
     ]
    }
   ],
   "source": [
    "tmp = sorted(tmp)\n",
    "print(tmp)"
   ]
  },
  {
   "cell_type": "markdown",
   "metadata": {},
   "source": [
    "txt = open(\"RomeoJuliet.txt\", 'rt', encoding='UTF8')\n",
    "for line in txt:\n",
    "    print(line)\n",
    "\n",
    "txt = open(\"RomeoJuliet.txt\", 'rt', encoding='UTF8')\n",
    "for line in txt:\n",
    "    words = line.split()\n",
    "    print(words)\n",
    "    \n",
    "# word counting    \n",
    "txt = open(\"RomeoJuliet.txt\", 'rt', encoding='UTF8')\n",
    "dict = {}\n",
    "for line in txt:\n",
    "    words = line.split()\n",
    "    for word in words:\n",
    "        dict[word] = dict.get(word, 0) + 1\n",
    "print(dict)\n",
    "\n",
    "txt = open(\"RomeoJuliet.txt\", 'rt', encoding='UTF8')\n",
    "dict = {}\n",
    "for line in txt:\n",
    "    words = line.split()\n",
    "    for word in words:\n",
    "        dict[word] = dict.get(word, 0) + 1\n",
    "lst = [ (v,k) for k, v in dict.items() ]\n",
    "print(lst)\n",
    "\n",
    "txt = open(\"RomeoJuliet.txt\", 'rt', encoding='UTF8')\n",
    "dict = {}\n",
    "for line in txt:\n",
    "    words = line.split()\n",
    "    for word in words:\n",
    "        dict[word] = dict.get(word, 0) + 1\n",
    "lst = [ (v,k) for k, v in dict.items() ]\n",
    "lst = sorted(lst, reverse=True) # 내림차순 정렬\n",
    "print(lst)"
   ]
  },
  {
   "cell_type": "markdown",
   "metadata": {},
   "source": [
    "# Function"
   ]
  },
  {
   "cell_type": "markdown",
   "metadata": {},
   "source": [
    "def function_name():\n",
    "    some code"
   ]
  },
  {
   "cell_type": "code",
   "execution_count": 16,
   "metadata": {},
   "outputs": [
    {
     "name": "stdout",
     "output_type": "stream",
     "text": [
      "This computer is running on version Everest Puma\n",
      "This is your desktop\n"
     ]
    }
   ],
   "source": [
    "def about_this_computer():\n",
    "    print(\"This computer is running on version Everest Puma\")\n",
    "    print(\"This is your desktop\")\n",
    "    \n",
    "about_this_computer()"
   ]
  },
  {
   "cell_type": "code",
   "execution_count": 17,
   "metadata": {},
   "outputs": [
    {
     "name": "stdout",
     "output_type": "stream",
     "text": [
      "This is your desktop\n",
      "This computer is running on version Everest Puma\n"
     ]
    }
   ],
   "source": [
    "# some change (indentation 주의)\n",
    "def about_this_computer():\n",
    "    print(\"This computer is running on version Everest Puma\")\n",
    "print(\"This is your desktop\")\n",
    "    \n",
    "about_this_computer()"
   ]
  },
  {
   "cell_type": "code",
   "execution_count": 18,
   "metadata": {},
   "outputs": [
    {
     "name": "stdout",
     "output_type": "stream",
     "text": [
      "Welcome to Stu's Staples.\n",
      "Our special is papayas.\n",
      "Have fun shopping!\n"
     ]
    }
   ],
   "source": [
    "def greet_customer(grocery_store, special_item):\n",
    "    print(\"Welcome to \"+ grocery_store + \".\")\n",
    "    print(\"Our special is \"+ special_item + \".\")\n",
    "    print(\"Have fun shopping!\")\n",
    "    \n",
    "greet_customer(\"Stu's Staples\", \"papayas\")"
   ]
  },
  {
   "cell_type": "code",
   "execution_count": 20,
   "metadata": {},
   "outputs": [
    {
     "name": "stdout",
     "output_type": "stream",
     "text": [
      "13\n"
     ]
    }
   ],
   "source": [
    "# parameter가 여러 개라도 괜찮음\n",
    "def mult_x_add_y(number, x,y):\n",
    "    print(number*x + y)\n",
    "    \n",
    "mult_x_add_y(5,2,3)"
   ]
  },
  {
   "cell_type": "markdown",
   "metadata": {},
   "source": [
    "# Keyword and Default arguments"
   ]
  },
  {
   "cell_type": "code",
   "execution_count": 21,
   "metadata": {},
   "outputs": [
    {
     "name": "stdout",
     "output_type": "stream",
     "text": [
      "Welcome to Stu's Staples.\n",
      "Our special is chips and salsa.\n",
      "Have fun shopping!\n"
     ]
    }
   ],
   "source": [
    "def greet_customer(grocery_store, special_item):\n",
    "    print(\"Welcome to \"+ grocery_store + \".\")\n",
    "    print(\"Our special is \"+ special_item + \".\")\n",
    "    print(\"Have fun shopping!\")\n",
    "    \n",
    "greet_customer(special_item = \"chips and salsa\", grocery_store = \"Stu's Staples\")    "
   ]
  },
  {
   "cell_type": "code",
   "execution_count": 22,
   "metadata": {},
   "outputs": [
    {
     "name": "stdout",
     "output_type": "stream",
     "text": [
      "Creating a spreadsheet called Downloads 1000 rows.\n"
     ]
    }
   ],
   "source": [
    "def create_spreadsheet(title, row_count = 1000):\n",
    "    print(\"Creating a spreadsheet called \" + title + \" \" + str(row_count) + \" rows.\")\n",
    "\n",
    "create_spreadsheet(\"Downloads\")"
   ]
  },
  {
   "cell_type": "code",
   "execution_count": 23,
   "metadata": {},
   "outputs": [
    {
     "name": "stdout",
     "output_type": "stream",
     "text": [
      "Creating a spreadsheet called Application 10 rows.\n"
     ]
    }
   ],
   "source": [
    "def create_spreadsheet(title, row_count = 1000):\n",
    "    print(\"Creating a spreadsheet called \" + title + \" \" + str(row_count) + \" rows.\")\n",
    "\n",
    "create_spreadsheet(\"Application\", 10)"
   ]
  },
  {
   "cell_type": "markdown",
   "metadata": {},
   "source": [
    "# Return"
   ]
  },
  {
   "cell_type": "code",
   "execution_count": 24,
   "metadata": {},
   "outputs": [
    {
     "name": "stdout",
     "output_type": "stream",
     "text": [
      "16 divided by 4 is 4.0!\n",
      "4.0 divided by 4 is 1.0!\n"
     ]
    }
   ],
   "source": [
    "def divide_by_four(input_number):\n",
    "    return input_number/4\n",
    "result = divide_by_four(16)\n",
    "print(\"16 divided by 4 is \" + str(result) + \"!\")\n",
    "result2 = divide_by_four(result)\n",
    "print(str(result) + \" divided by 4 is \" + str(result2) + \"!\")"
   ]
  },
  {
   "cell_type": "code",
   "execution_count": 26,
   "metadata": {},
   "outputs": [
    {
     "name": "stdout",
     "output_type": "stream",
     "text": [
      "1\n",
      "9\n"
     ]
    }
   ],
   "source": [
    "def square_point(x_value, y_value):\n",
    "    x_2 = x_value * x_value\n",
    "    y_2 = y_value * y_value\n",
    "    return x_2, y_2\n",
    "x_squared, y_squared = square_point(1,3)\n",
    "print(x_squared)\n",
    "print(y_squared)"
   ]
  },
  {
   "cell_type": "code",
   "execution_count": 27,
   "metadata": {},
   "outputs": [
    {
     "ename": "NameError",
     "evalue": "name 'special_item' is not defined",
     "output_type": "error",
     "traceback": [
      "\u001b[1;31m---------------------------------------------------------------------------\u001b[0m",
      "\u001b[1;31mNameError\u001b[0m                                 Traceback (most recent call last)",
      "\u001b[1;32m<ipython-input-27-cc9374a3dcf8>\u001b[0m in \u001b[0;36m<module>\u001b[1;34m\u001b[0m\n\u001b[0;32m      2\u001b[0m     \u001b[1;32mreturn\u001b[0m \u001b[1;34m\"Our special is \"\u001b[0m \u001b[1;33m+\u001b[0m \u001b[0mspecial_item\u001b[0m \u001b[1;33m+\u001b[0m \u001b[1;34m\".\"\u001b[0m\u001b[1;33m\u001b[0m\u001b[1;33m\u001b[0m\u001b[0m\n\u001b[0;32m      3\u001b[0m \u001b[1;33m\u001b[0m\u001b[0m\n\u001b[1;32m----> 4\u001b[1;33m \u001b[0mprint\u001b[0m\u001b[1;33m(\u001b[0m\u001b[1;34m\"I don't like \"\u001b[0m \u001b[1;33m+\u001b[0m \u001b[0mspecial_item\u001b[0m\u001b[1;33m)\u001b[0m\u001b[1;33m\u001b[0m\u001b[1;33m\u001b[0m\u001b[0m\n\u001b[0m",
      "\u001b[1;31mNameError\u001b[0m: name 'special_item' is not defined"
     ]
    }
   ],
   "source": [
    "def create_special_string(special_item):\n",
    "    return \"Our special is \" + special_item + \".\"\n",
    "\n",
    "print(\"I don't like \" + special_item)"
   ]
  },
  {
   "cell_type": "code",
   "execution_count": 28,
   "metadata": {},
   "outputs": [
    {
     "name": "stdout",
     "output_type": "stream",
     "text": [
      "Our special is grapes.\n"
     ]
    }
   ],
   "source": [
    "header_string = \"Our special is \"\n",
    "\n",
    "def create_special_string(special_item):\n",
    "    return \"Our special is \" + special_item + \".\"\n",
    "print(create_special_string(\"grapes\"))"
   ]
  },
  {
   "cell_type": "markdown",
   "metadata": {},
   "source": [
    "# Class and Class Variable"
   ]
  },
  {
   "cell_type": "code",
   "execution_count": 29,
   "metadata": {},
   "outputs": [
    {
     "name": "stdout",
     "output_type": "stream",
     "text": [
      "Rockstar\n",
      "Rockstar\n",
      "<class '__main__.Musician'>\n",
      "<class '__main__.Musician'>\n"
     ]
    }
   ],
   "source": [
    "class Musician():\n",
    "    title = \"Rockstar\"\n",
    "    \n",
    "drummer = Musician()\n",
    "guitarist = Musician()\n",
    "print(drummer.title)\n",
    "print(guitarist.title)\n",
    "print(type(drummer))\n",
    "print(type(guitarist))"
   ]
  },
  {
   "cell_type": "code",
   "execution_count": 31,
   "metadata": {},
   "outputs": [
    {
     "name": "stdout",
     "output_type": "stream",
     "text": [
      "HELLO?!\n",
      "HELLO?!\n"
     ]
    }
   ],
   "source": [
    "class Shouter():\n",
    "    def __init__(self):\n",
    "        print(\"HELLO?!\")\n",
    "shout1 = Shouter()\n",
    "shout2 = Shouter()"
   ]
  },
  {
   "cell_type": "code",
   "execution_count": 32,
   "metadata": {},
   "outputs": [
    {
     "name": "stdout",
     "output_type": "stream",
     "text": [
      "SHOUT\n"
     ]
    }
   ],
   "source": [
    "# constructor with parameters\n",
    "class Shouter():\n",
    "    def __init__(self, phrase):\n",
    "        if type(phrase) == str:\n",
    "            print(phrase.upper())\n",
    "            \n",
    "shout1 = Shouter(\"shout\") # try Shouter()"
   ]
  },
  {
   "cell_type": "code",
   "execution_count": 34,
   "metadata": {},
   "outputs": [
    {
     "name": "stdout",
     "output_type": "stream",
     "text": [
      "Dogs experience 7 years for wvery 1 human year.\n"
     ]
    }
   ],
   "source": [
    "class Dog():\n",
    "    dog_time_dilation = 7\n",
    "    \n",
    "    def time_explanation(self):\n",
    "        print(\"Dogs experience {} years for wvery 1 human year.\".\n",
    "              format(self.dog_time_dilation))\n",
    "pipi = Dog()\n",
    "pipi.time_explanation()"
   ]
  },
  {
   "cell_type": "code",
   "execution_count": 35,
   "metadata": {},
   "outputs": [
    {
     "name": "stdout",
     "output_type": "stream",
     "text": [
      "Point bristles towards the basin while washing your brushes.\n"
     ]
    }
   ],
   "source": [
    "class Rules():\n",
    "    def washing_brushes(self):\n",
    "        print(\"Point bristles towards the basin while washing your brushes.\")\n",
    "rule = Rules()\n",
    "rule.washing_brushes()"
   ]
  },
  {
   "cell_type": "code",
   "execution_count": 36,
   "metadata": {},
   "outputs": [
    {
     "name": "stdout",
     "output_type": "stream",
     "text": [
      "www.ssu.ac.kr\n",
      "ailab.ssu.ac.kr\n"
     ]
    }
   ],
   "source": [
    "class Entry:\n",
    "    def __init__(self, url):\n",
    "        self.url= url\n",
    "        \n",
    "soongsil = Entry(\"www.ssu.ac.kr\")\n",
    "ailab = Entry(\"ailab.ssu.ac.kr\")\n",
    "\n",
    "print(soongsil.url)\n",
    "print(ailab.url)"
   ]
  },
  {
   "cell_type": "code",
   "execution_count": 37,
   "metadata": {},
   "outputs": [
    {
     "name": "stdout",
     "output_type": "stream",
     "text": [
      "https://www.ssu.ac.kr\n",
      "https://ailab.ssu.ac.kr\n"
     ]
    }
   ],
   "source": [
    "class Entry:\n",
    "    prefix = \"https://\"\n",
    "    def __init__(self, url):\n",
    "        self.url= Entry.prefix + url\n",
    "        \n",
    "soongsil = Entry(\"www.ssu.ac.kr\")\n",
    "ailab = Entry(\"ailab.ssu.ac.kr\")\n",
    "\n",
    "print(soongsil.url)\n",
    "print(ailab.url)"
   ]
  },
  {
   "cell_type": "code",
   "execution_count": 38,
   "metadata": {},
   "outputs": [
    {
     "name": "stdout",
     "output_type": "stream",
     "text": [
      "Creating circle with diameter 10\n",
      "Creating circle with diameter 12\n",
      "Creating circle with diameter 36\n",
      "Creating circle with diameter 11460\n"
     ]
    }
   ],
   "source": [
    "class Circle:\n",
    "    pi = 3.14\n",
    "    def __init__(self, diameter):\n",
    "        print(\"Creating circle with diameter {}\".format(diameter))\n",
    "        self.radius = diameter/2.\n",
    "    def circumference(self):\n",
    "        return 2*Circle.pi*self.radius\n",
    "    \n",
    "circle = Circle(10)\n",
    "medium_pizza = Circle(12)\n",
    "teaching_table = Circle(36)\n",
    "round_room = Circle(11460)"
   ]
  },
  {
   "cell_type": "code",
   "execution_count": 39,
   "metadata": {},
   "outputs": [
    {
     "name": "stdout",
     "output_type": "stream",
     "text": [
      "31.400000000000002\n",
      "37.68\n",
      "113.04\n",
      "35984.4\n"
     ]
    }
   ],
   "source": [
    "print(circle.circumference())\n",
    "print(medium_pizza.circumference())\n",
    "print(teaching_table.circumference())\n",
    "print(round_room.circumference())"
   ]
  }
 ],
 "metadata": {
  "kernelspec": {
   "display_name": "Python 3",
   "language": "python",
   "name": "python3"
  },
  "language_info": {
   "codemirror_mode": {
    "name": "ipython",
    "version": 3
   },
   "file_extension": ".py",
   "mimetype": "text/x-python",
   "name": "python",
   "nbconvert_exporter": "python",
   "pygments_lexer": "ipython3",
   "version": "3.7.4"
  }
 },
 "nbformat": 4,
 "nbformat_minor": 2
}
