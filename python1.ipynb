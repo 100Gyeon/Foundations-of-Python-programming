{
 "cells": [
  {
   "cell_type": "code",
   "execution_count": 1,
   "metadata": {},
   "outputs": [
    {
     "name": "stdout",
     "output_type": "stream",
     "text": [
      "3.4\n",
      "0.2335640138408305\n"
     ]
    }
   ],
   "source": [
    "height = 3.4\n",
    "weight = 2.7\n",
    "print(height)\n",
    "print(weight/height**2)"
   ]
  },
  {
   "cell_type": "code",
   "execution_count": 2,
   "metadata": {},
   "outputs": [
    {
     "data": {
      "text/plain": [
       "float"
      ]
     },
     "execution_count": 2,
     "metadata": {},
     "output_type": "execute_result"
    }
   ],
   "source": [
    "type(height)"
   ]
  },
  {
   "cell_type": "code",
   "execution_count": 3,
   "metadata": {},
   "outputs": [
    {
     "name": "stdout",
     "output_type": "stream",
     "text": [
      "<class 'int'>\n",
      "<class 'bool'>\n",
      "<class 'str'>\n"
     ]
    }
   ],
   "source": [
    "a = 5\n",
    "b = True\n",
    "c = 'this is a string'\n",
    "print(type(a))\n",
    "print(type(b))\n",
    "print(type(c))"
   ]
  },
  {
   "cell_type": "code",
   "execution_count": 4,
   "metadata": {},
   "outputs": [
    {
     "name": "stdout",
     "output_type": "stream",
     "text": [
      "5\n",
      "I am  a boy.\n"
     ]
    }
   ],
   "source": [
    "d = 2+3\n",
    "e = \"I am \" + \" a boy\" + \".\"\n",
    "print(d)\n",
    "print(e)"
   ]
  },
  {
   "cell_type": "code",
   "execution_count": 5,
   "metadata": {},
   "outputs": [
    {
     "name": "stdout",
     "output_type": "stream",
     "text": [
      "I am taking \n"
     ]
    },
    {
     "ename": "TypeError",
     "evalue": "unsupported operand type(s) for +: 'NoneType' and 'int'",
     "output_type": "error",
     "traceback": [
      "\u001b[1;31m---------------------------------------------------------------------------\u001b[0m",
      "\u001b[1;31mTypeError\u001b[0m                                 Traceback (most recent call last)",
      "\u001b[1;32m<ipython-input-5-defd29cce8ab>\u001b[0m in \u001b[0;36m<module>\u001b[1;34m\u001b[0m\n\u001b[0;32m      1\u001b[0m \u001b[0mnumber_of_courses\u001b[0m \u001b[1;33m=\u001b[0m \u001b[1;36m5\u001b[0m\u001b[1;33m\u001b[0m\u001b[1;33m\u001b[0m\u001b[0m\n\u001b[1;32m----> 2\u001b[1;33m \u001b[0mprint\u001b[0m\u001b[1;33m(\u001b[0m\u001b[1;34m\"I am taking \"\u001b[0m\u001b[1;33m)\u001b[0m \u001b[1;33m+\u001b[0m \u001b[0mnumber_of_courses\u001b[0m \u001b[1;33m+\u001b[0m \u001b[1;34m\" this semester\"\u001b[0m\u001b[1;33m\u001b[0m\u001b[1;33m\u001b[0m\u001b[0m\n\u001b[0m",
      "\u001b[1;31mTypeError\u001b[0m: unsupported operand type(s) for +: 'NoneType' and 'int'"
     ]
    }
   ],
   "source": [
    "number_of_courses = 5\n",
    "print(\"I am taking \") + number_of_courses + \" this semester\"\n",
    "# number_of_courses만 integer고 다른 것들은 String이기 때문에 error"
   ]
  },
  {
   "cell_type": "code",
   "execution_count": 6,
   "metadata": {},
   "outputs": [
    {
     "name": "stdout",
     "output_type": "stream",
     "text": [
      "I am taking 5 this semester\n"
     ]
    }
   ],
   "source": [
    "print(\"I am taking \" + str(number_of_courses) + \" this semester\")"
   ]
  },
  {
   "cell_type": "code",
   "execution_count": 7,
   "metadata": {},
   "outputs": [
    {
     "name": "stdout",
     "output_type": "stream",
     "text": [
      "3.4567\n",
      "3.4567\n",
      "<class 'str'>\n",
      "<class 'float'>\n"
     ]
    }
   ],
   "source": [
    "a = \"3.4567\"\n",
    "b = float(a)\n",
    "print(a)\n",
    "print(b)\n",
    "print(type(a))\n",
    "print(type(b))"
   ]
  },
  {
   "cell_type": "code",
   "execution_count": 9,
   "metadata": {},
   "outputs": [],
   "source": [
    "# list는 대괄호로 표시, 변수들의 집합\n",
    "# int, float, bool 섞여도 상관없음\n",
    "a = [1,2,3,4]\n",
    "b = [1, 2.3, True, \"this is a test\"]\n",
    "c = a + b\n",
    "d = [1,2,[1,2,3],[1,2,\"Test\"]]\n",
    "e = [1+2, \"baby \"*3, 4]"
   ]
  },
  {
   "cell_type": "code",
   "execution_count": 10,
   "metadata": {},
   "outputs": [
    {
     "name": "stdout",
     "output_type": "stream",
     "text": [
      "[1, 2, 3, 4]\n",
      "[1, 2.3, True, 'this is a test']\n",
      "[1, 2, 3, 4, 1, 2.3, True, 'this is a test']\n",
      "[1, 2, [1, 2, 3], [1, 2, 'Test']]\n",
      "[3, 'baby baby baby ', 4]\n"
     ]
    }
   ],
   "source": [
    "print(a)\n",
    "print(b)\n",
    "print(c)\n",
    "print(d)\n",
    "print(e)"
   ]
  },
  {
   "cell_type": "code",
   "execution_count": 11,
   "metadata": {},
   "outputs": [
    {
     "name": "stdout",
     "output_type": "stream",
     "text": [
      "<class 'list'>\n",
      "4\n"
     ]
    }
   ],
   "source": [
    "print(type(a))\n",
    "print(len(a)) #length"
   ]
  },
  {
   "cell_type": "code",
   "execution_count": 12,
   "metadata": {},
   "outputs": [
    {
     "name": "stdout",
     "output_type": "stream",
     "text": [
      "100\n",
      "1000\n",
      "john and liz\n",
      "john and liz\n",
      "1000\n"
     ]
    }
   ],
   "source": [
    "test = [100, \"jane\", 40, \"tim\", 1000, \"john and liz\"]\n",
    "#        0      1    2     3      4         5\n",
    "#       -6     -5   -4    -3     -2        -1\n",
    "print(test[0])\n",
    "print(test[4])\n",
    "print(test[5])\n",
    "print(test[-1])\n",
    "print(test[-2])\n",
    "# -indexing은 맨 뒤를 의미함\n",
    "# -2는 뒤에서 두번째에 해당"
   ]
  },
  {
   "cell_type": "code",
   "execution_count": 13,
   "metadata": {},
   "outputs": [
    {
     "data": {
      "text/plain": [
       "[40, 'tim']"
      ]
     },
     "execution_count": 13,
     "metadata": {},
     "output_type": "execute_result"
    }
   ],
   "source": [
    "# list[index1 : index2]\n",
    "# index1부터 index2의 하나 전까지(index2까지 아님 주의)\n",
    "test[2:4] # test list의 2번째부터 3번째까지"
   ]
  },
  {
   "cell_type": "code",
   "execution_count": 14,
   "metadata": {},
   "outputs": [
    {
     "name": "stdout",
     "output_type": "stream",
     "text": [
      "[100, 'jane', 40, 'tim']\n",
      "[40, 'tim', 1000, 'john and liz']\n",
      "[100, 'jane', 40, 'tim', 1000, 'john and liz']\n"
     ]
    }
   ],
   "source": [
    "print(test[:4]) # 처음부터 3번째까지\n",
    "print(test[2:]) # 2번째부터 마지막까지\n",
    "print(test[:]) # 전체 출력"
   ]
  },
  {
   "cell_type": "code",
   "execution_count": 18,
   "metadata": {},
   "outputs": [
    {
     "name": "stdout",
     "output_type": "stream",
     "text": [
      "50\n",
      "100\n",
      "[80, 90]\n",
      "['jane', 50, 60, 70]\n",
      "['jane', 50, 60, 70]\n"
     ]
    }
   ],
   "source": [
    "# List of lists\n",
    "test = [['tom', 10, 20, 40], ['jane', 50, 60, 70], ['john', 80, 90, 100]]\n",
    "print(test[1][1])\n",
    "print(test[-1][-1])\n",
    "print(test[-1][1:3])\n",
    "print(test[1][:])\n",
    "print(test[1])"
   ]
  },
  {
   "cell_type": "code",
   "execution_count": 19,
   "metadata": {},
   "outputs": [
    {
     "name": "stdout",
     "output_type": "stream",
     "text": [
      "[1, 2, 3, 'tom', 'jane', 'kim']\n",
      "[1, 2, 3, 'tom', 'jane', 100]\n",
      "[1, 2, [1, 2, 3], 'tom', 'jane', 100]\n"
     ]
    }
   ],
   "source": [
    "# Mutable List : change, add, remove\n",
    "a = [1,2,3,'tom','jane',\"kim\"]\n",
    "print(a)\n",
    "a[-1] = 100\n",
    "print(a)\n",
    "a[2] = [1,2,3]\n",
    "print(a)"
   ]
  },
  {
   "cell_type": "code",
   "execution_count": 21,
   "metadata": {},
   "outputs": [
    {
     "name": "stdout",
     "output_type": "stream",
     "text": [
      "a:  [1, 2, [1, 2, 3], 'tom', 'jane', 100]\n",
      "c : [1, 2, [1, 2, 3], 'tom', 'jane', 100, 10000, 20000]\n",
      "tom\n"
     ]
    }
   ],
   "source": [
    "print(\"a: \", a)\n",
    "b = [10000,20000]\n",
    "c = a + b\n",
    "print(\"c :\", c)\n",
    "print(c[3])"
   ]
  },
  {
   "cell_type": "code",
   "execution_count": 22,
   "metadata": {},
   "outputs": [
    {
     "name": "stdout",
     "output_type": "stream",
     "text": [
      "[1, 2, [1, 2, 3], 'tom', 'jane', 100, 10000, 20000]\n",
      "[1, 2, [1, 2, 3], 'jane', 100, 10000, 20000]\n"
     ]
    }
   ],
   "source": [
    "print(c)\n",
    "del(c[3]) # del을 이용한 삭제\n",
    "print(c)"
   ]
  },
  {
   "cell_type": "code",
   "execution_count": 25,
   "metadata": {},
   "outputs": [
    {
     "name": "stdout",
     "output_type": "stream",
     "text": [
      "['a', 'b', 'c', 'd', 1, 2, 3]\n",
      "['a', 100, 10, 20, 30]\n",
      "['a', 100, 'abc', 'def', 'hij']\n",
      "['a', 100, 'abc', 't', 'h', 'i', 's', ' ', 'i', 's', ' ', 'a', ' ', 't', 'e', 's', 't']\n"
     ]
    }
   ],
   "source": [
    "# Replace list elements\n",
    "x = [\"a\", \"b\", 'c', 'd', 1, 2, 3]\n",
    "print(x)\n",
    "x[1] = 100\n",
    "x[2:] = [10, 20, 30]\n",
    "print(x)\n",
    "x[2:] = [\"abc\", 'def', 'hij']\n",
    "print(x)\n",
    "x[3:] = 'this is a test' # 각각의 character가 assign된다.\n",
    "print(x)"
   ]
  },
  {
   "cell_type": "code",
   "execution_count": 30,
   "metadata": {},
   "outputs": [
    {
     "name": "stdout",
     "output_type": "stream",
     "text": [
      "['a', 'b', 'c']\n",
      "['a', 'b', 'c']\n",
      "y:  ['a', 'new', 'c']\n",
      "x:  ['a', 'new', 'c']\n"
     ]
    }
   ],
   "source": [
    "# =을 써서 복사하기\n",
    "x = [\"a\", 'b', \"c\"]\n",
    "print(x)\n",
    "y = x # y와 x가 같은 것을 가리키게 된다.\n",
    "print(y)\n",
    "y[1] = \"new\"\n",
    "print(\"y: \", y)\n",
    "print(\"x: \", x)"
   ]
  },
  {
   "cell_type": "code",
   "execution_count": 31,
   "metadata": {},
   "outputs": [
    {
     "name": "stdout",
     "output_type": "stream",
     "text": [
      "['a', 'b', 'c']\n",
      "['a', 'b', 'c']\n",
      "y:  ['a', 'new', 'c']\n",
      "x:  ['a', 'b', 'c']\n"
     ]
    }
   ],
   "source": [
    "x = [\"a\", 'b', \"c\"]\n",
    "print(x)\n",
    "y = list(x) # 새로운 것을 만들고 싶다면 list를 쓰면 된다.\n",
    "print(y)\n",
    "y[1] = \"new\"\n",
    "print(\"y: \", y)\n",
    "print(\"x: \", x)"
   ]
  },
  {
   "cell_type": "code",
   "execution_count": 32,
   "metadata": {},
   "outputs": [
    {
     "name": "stdout",
     "output_type": "stream",
     "text": [
      "cat\n",
      "dog\n",
      "bear\n",
      "elephant\n",
      "CAT\n",
      "DOG\n",
      "BEAR\n",
      "ELEPHANT\n"
     ]
    }
   ],
   "source": [
    "animals = ['cat', 'dog', 'bear', 'elephant']\n",
    "for a in animals : # for (item variable) in (list), 콜론이 있으면 자동으로 indentation이 된다.\n",
    "    print(a)\n",
    "for b in animals :\n",
    "    print(b.upper())"
   ]
  },
  {
   "cell_type": "code",
   "execution_count": 35,
   "metadata": {},
   "outputs": [
    {
     "name": "stdout",
     "output_type": "stream",
     "text": [
      "4\n",
      "cat\n",
      "dog\n",
      "bear\n",
      "elephant\n"
     ]
    }
   ],
   "source": [
    "print(len(animals))\n",
    "index = 0\n",
    "while index < len(animals) : # while loop\n",
    "    print(animals[index])\n",
    "    index += 1"
   ]
  },
  {
   "cell_type": "code",
   "execution_count": 36,
   "metadata": {},
   "outputs": [
    {
     "name": "stdout",
     "output_type": "stream",
     "text": [
      "['cat', 'dog', 'bear', 'elephant']\n"
     ]
    }
   ],
   "source": [
    "print(animals)"
   ]
  },
  {
   "cell_type": "code",
   "execution_count": 37,
   "metadata": {},
   "outputs": [
    {
     "name": "stdout",
     "output_type": "stream",
     "text": [
      "animals :          ['cat', 'dog', 'bear', 'elephant']\n",
      "sorted animals :   ['bear', 'cat', 'dog', 'elephant']\n"
     ]
    }
   ],
   "source": [
    "# sorted() function\n",
    "sorted_animals = sorted(animals)\n",
    "print(\"animals :          {}\".format(animals))\n",
    "print(\"sorted animals :   {}\".format(sorted_animals))"
   ]
  },
  {
   "cell_type": "code",
   "execution_count": 38,
   "metadata": {},
   "outputs": [
    {
     "name": "stdout",
     "output_type": "stream",
     "text": [
      "animals :          ['bear', 'cat', 'dog', 'elephant']\n"
     ]
    }
   ],
   "source": [
    "# sort() method\n",
    "animals.sort()\n",
    "print(\"animals :          {}\".format(animals))"
   ]
  },
  {
   "cell_type": "code",
   "execution_count": 39,
   "metadata": {},
   "outputs": [
    {
     "name": "stdout",
     "output_type": "stream",
     "text": [
      "['bear', 'cat', 'dog', 'elephant', 'pig']\n"
     ]
    }
   ],
   "source": [
    "animals.append(\"pig\")\n",
    "print(animals)"
   ]
  },
  {
   "cell_type": "code",
   "execution_count": 40,
   "metadata": {},
   "outputs": [
    {
     "name": "stdout",
     "output_type": "stream",
     "text": [
      "0\n",
      "1\n",
      "2\n",
      "3\n",
      "4\n"
     ]
    }
   ],
   "source": [
    "# range(index)는 0부터 index-1까지\n",
    "for number in range(5):\n",
    "    print(number)"
   ]
  },
  {
   "cell_type": "code",
   "execution_count": 41,
   "metadata": {},
   "outputs": [
    {
     "name": "stdout",
     "output_type": "stream",
     "text": [
      "2\n",
      "3\n",
      "4\n"
     ]
    }
   ],
   "source": [
    "for a in range(2,5):\n",
    "    print(a)"
   ]
  },
  {
   "cell_type": "code",
   "execution_count": 42,
   "metadata": {},
   "outputs": [
    {
     "name": "stdout",
     "output_type": "stream",
     "text": [
      "1\n",
      "3\n",
      "5\n"
     ]
    }
   ],
   "source": [
    "for b in range(1,7,2): #1부터 6까지 2씩 증가시켜서 (1,3,5)\n",
    "    print(b)"
   ]
  },
  {
   "cell_type": "code",
   "execution_count": 44,
   "metadata": {},
   "outputs": [
    {
     "name": "stdout",
     "output_type": "stream",
     "text": [
      "bear\n",
      "dog\n",
      "pig\n"
     ]
    }
   ],
   "source": [
    "for number in range(0, len(animals), 2): # 0부터 4까지 2씩 증가시켜서 (0,2,4)\n",
    "    print(animals[number])"
   ]
  }
 ],
 "metadata": {
  "kernelspec": {
   "display_name": "Python 3",
   "language": "python",
   "name": "python3"
  },
  "language_info": {
   "codemirror_mode": {
    "name": "ipython",
    "version": 3
   },
   "file_extension": ".py",
   "mimetype": "text/x-python",
   "name": "python",
   "nbconvert_exporter": "python",
   "pygments_lexer": "ipython3",
   "version": "3.7.4"
  }
 },
 "nbformat": 4,
 "nbformat_minor": 2
}
