{
 "cells": [
  {
   "cell_type": "markdown",
   "metadata": {},
   "source": [
    "# Double Linked List"
   ]
  },
  {
   "cell_type": "markdown",
   "metadata": {},
   "source": [
    "리스트 검색할 때 앞에서 뒤로, 뒤에서 앞으로 올 수 있다는 장점이 있음"
   ]
  },
  {
   "cell_type": "markdown",
   "metadata": {},
   "source": [
    "single에서는 next 노드만 있었는데 double에서는 previous 필드가 따로 있음"
   ]
  },
  {
   "cell_type": "code",
   "execution_count": 1,
   "metadata": {},
   "outputs": [],
   "source": [
    "class Node:\n",
    "    def __init__(self, data):\n",
    "        self.data = data\n",
    "        self.next = None\n",
    "        self.prev = None # single에는 prev 없었음\n",
    "    \n",
    "    def getData(self):\n",
    "        return self.data\n",
    "    \n",
    "    def setData(self, val): # 이미 있는 data를 바꿔줌, 현재 객체와 새로운 value 받아야 함\n",
    "        self.data = val\n",
    "    \n",
    "    def hasVale(self, val): # Node가 어떤 값을 가지고 있는지/아닌지 확인\n",
    "        return self.data == val\n",
    "    \n",
    "    def getNext(self): # 다음 Node 알기 위해서\n",
    "        return self.next\n",
    "    \n",
    "    def setNext(self, node): # node는 객체에 연결하고자 하는 노드\n",
    "        if type(node) == Node: # node의 타입이 Node면\n",
    "            self.next = node # self의 next를 node로 바꿔줌\n",
    "            return\n",
    "        elif node is None:\n",
    "            self.next = None # 이 경우는 맨 뒤의 노드\n",
    "        else: # Node도 아니고, None도 아니면 type error\n",
    "            print(\"setNext type error : {} and type is {}\".format(node, type(Node)))\n",
    "    \n",
    "    def getPrev(self):\n",
    "        return self.prev\n",
    "    \n",
    "    def setPrev(self, node):\n",
    "        if type(node) == Node:\n",
    "            self.prev = node\n",
    "        elif node == None:\n",
    "            self.prev = None # 이 경우는 맨 앞의 노드\n",
    "        else:\n",
    "            print(\"setPrev type error : {} and type is {}\".format(node, type(Node)))\n",
    "    \n",
    "    def __repr__(self): # self.data 출력\n",
    "        return \"(data : \" + str(self.data) + \")\""
   ]
  },
  {
   "cell_type": "code",
   "execution_count": 2,
   "metadata": {},
   "outputs": [
    {
     "name": "stdout",
     "output_type": "stream",
     "text": [
      "(data : kim)\n"
     ]
    }
   ],
   "source": [
    "node1 = Node(\"park\")\n",
    "node2 = Node(\"kim\")\n",
    "node1.setNext(node2)\n",
    "print(node1.next)"
   ]
  },
  {
   "cell_type": "code",
   "execution_count": 3,
   "metadata": {},
   "outputs": [
    {
     "name": "stdout",
     "output_type": "stream",
     "text": [
      "(data : park)\n",
      "(data : kim)\n"
     ]
    }
   ],
   "source": [
    "# Node Class의 인스턴스 출력\n",
    "\n",
    "import gc\n",
    "for obj in gc.get_objects():\n",
    "    if isinstance(obj, Node):\n",
    "        print(obj)"
   ]
  },
  {
   "cell_type": "code",
   "execution_count": 4,
   "metadata": {},
   "outputs": [
    {
     "name": "stdout",
     "output_type": "stream",
     "text": [
      "(data : 15)\n",
      "(data : 8.2)\n",
      "(data : Berlin)\n"
     ]
    }
   ],
   "source": [
    "n1 = Node(15)\n",
    "n2 = Node(8.2)\n",
    "n3 = Node(\"Berlin\")\n",
    "print(n1)\n",
    "print(n2)\n",
    "print(n3)"
   ]
  },
  {
   "cell_type": "code",
   "execution_count": 5,
   "metadata": {},
   "outputs": [
    {
     "name": "stdout",
     "output_type": "stream",
     "text": [
      "(data : 8.2)\n",
      "(data : Berlin)\n",
      "None\n",
      "\n",
      "None\n",
      "(data : 15)\n",
      "(data : 8.2)\n"
     ]
    }
   ],
   "source": [
    "n1.setNext(n2)\n",
    "n2.setNext(n3)\n",
    "n3.setPrev(n2)\n",
    "n2.setPrev(n1)\n",
    "print(n1.getNext())\n",
    "print(n2.getNext())\n",
    "print(n3.getNext())\n",
    "print()\n",
    "print(n1.getPrev())\n",
    "print(n2.getPrev())\n",
    "print(n3.getPrev())"
   ]
  },
  {
   "cell_type": "code",
   "execution_count": 6,
   "metadata": {},
   "outputs": [],
   "source": [
    "class DoubleLinkedList:\n",
    "    def __init__(self):\n",
    "        self.head = None # prev가 없으니까\n",
    "        self.tail = None # next가 없으니까\n",
    "        self.size = 0 # size는 노드의 개수\n",
    "    \n",
    "    def getSize(self):\n",
    "        return self.size\n",
    "    \n",
    "    def addNode(self, data):\n",
    "        newNode = Node(data) # 새로운 노드 만들기\n",
    "        if self.head is None: # data가 하나도 없을 때\n",
    "            self.head = newNode\n",
    "            newNode.prev = None\n",
    "            newNode.next = None\n",
    "            self.tail = newNode\n",
    "        else: # data가 있는 경우 3가지 작업 필요\n",
    "            self.tail.setNext(newNode)\n",
    "            newNode.setPrev(self.tail)\n",
    "            self.tail = newNode # tail을 맨 마지막에 바꿔야 함\n",
    "            # 마지막에 추가하면 tail 노드 변함\n",
    "        self.size += 1\n",
    "    \n",
    "    # DLL print forward and backward\n",
    "    def printNodes(self):\n",
    "        if self.size == 0: # data가 하나도 없을 때\n",
    "            print(\"The list is empty\")\n",
    "            return\n",
    "        curr = self.head\n",
    "        tail = self.tail\n",
    "        print(\"head = {} and tail = {}, Size = {}\".format(self.head, self.tail, self.size))\n",
    "        pos = 1 # 첫 번째 노드인지, 두 번째 노드인지 알 수 있게 하려고 1부터 시작\n",
    "        while curr:\n",
    "            print(\"position : \" + str(pos) + \" \" + str(curr.data))\n",
    "            pos += 1\n",
    "            curr = curr.getNext()\n",
    "            \n",
    "    def printNodesReverse(self):\n",
    "        if self.size == 0:\n",
    "            print(\"The list is empty\")\n",
    "            return\n",
    "        curr = self.tail # 아까는 curr이 self.head\n",
    "        pos = self.size # 아까는 pos가 1부터 시작\n",
    "        while curr:\n",
    "            print(\"position : \" + str(pos) + \" \" + str(curr.data))\n",
    "            pos = pos - 1\n",
    "            curr = curr.getPrev() # 아까는 curr.getNext()\n",
    "            \n",
    "    def findNode(self, data):\n",
    "        # 앞에서부터, 뒤에서부터 다 가능한데, 여기서는 앞에서부터 검색하는 방식 취함\n",
    "        curr = self.head\n",
    "        while curr:\n",
    "            if curr.getData() == data:\n",
    "                return True\n",
    "            curr = curr.getNext()\n",
    "        return False\n",
    "    \n",
    "    def removeNode(self, data):\n",
    "        if self.findNode(data) == False:\n",
    "            print(\"Data \" + str(data) + \" is not in the list\")\n",
    "            return\n",
    "        curr = self.head\n",
    "        self.size = self.size - 1\n",
    "        while curr is not None:\n",
    "            prev = curr.getPrev()\n",
    "            next = curr.getNext()\n",
    "            if curr.getData() == data:\n",
    "                if prev is not None: # 중간 노드 삭제\n",
    "                    prev.setNext(next)\n",
    "                    if next is not None:\n",
    "                        next.setPrev(prev)\n",
    "                    else:\n",
    "                        self.tail = prev\n",
    "                    print(\"Data \" + str(data) + \" is removed\")\n",
    "                else: # 처음 노드 삭제\n",
    "                    self.head = next\n",
    "                    if next is not None:\n",
    "                        next.setPrev(None)\n",
    "                    else:\n",
    "                        self.tail = prev\n",
    "                    print(\"Data \" + str(data) + \" is removed\")\n",
    "                return\n",
    "            curr = next"
   ]
  },
  {
   "cell_type": "code",
   "execution_count": 7,
   "metadata": {},
   "outputs": [
    {
     "name": "stdout",
     "output_type": "stream",
     "text": [
      "head of myDLL : None\n",
      "The list is empty\n"
     ]
    }
   ],
   "source": [
    "myDLL = DoubleLinkedList()\n",
    "print(\"head of myDLL : {}\".format(myDLL.head))\n",
    "myDLL.printNodes()"
   ]
  },
  {
   "cell_type": "code",
   "execution_count": 8,
   "metadata": {},
   "outputs": [
    {
     "name": "stdout",
     "output_type": "stream",
     "text": [
      "head = (data : tom) and tail = (data : tom), Size = 1\n",
      "position : 1 tom\n"
     ]
    }
   ],
   "source": [
    "myDLL.addNode(\"tom\")\n",
    "myDLL.printNodes()"
   ]
  },
  {
   "cell_type": "code",
   "execution_count": 9,
   "metadata": {},
   "outputs": [
    {
     "name": "stdout",
     "output_type": "stream",
     "text": [
      "(data : tom)\n",
      "(data : tom)\n"
     ]
    }
   ],
   "source": [
    "print(myDLL.head)\n",
    "print(myDLL.tail)"
   ]
  },
  {
   "cell_type": "code",
   "execution_count": 10,
   "metadata": {},
   "outputs": [
    {
     "name": "stdout",
     "output_type": "stream",
     "text": [
      "(data : tom)\n",
      "None\n",
      "None\n"
     ]
    }
   ],
   "source": [
    "print(myDLL.head)\n",
    "print(myDLL.head.getPrev())\n",
    "print(myDLL.head.getNext())"
   ]
  },
  {
   "cell_type": "code",
   "execution_count": 11,
   "metadata": {},
   "outputs": [
    {
     "name": "stdout",
     "output_type": "stream",
     "text": [
      "head = (data : tom) and tail = (data : jane), Size = 2\n",
      "position : 1 tom\n",
      "position : 2 jane\n",
      "\n",
      "position : 2 jane\n",
      "position : 1 tom\n"
     ]
    }
   ],
   "source": [
    "myDLL.addNode(\"jane\")\n",
    "myDLL.printNodes()\n",
    "print()\n",
    "myDLL.printNodesReverse()"
   ]
  },
  {
   "cell_type": "code",
   "execution_count": 12,
   "metadata": {},
   "outputs": [
    {
     "name": "stdout",
     "output_type": "stream",
     "text": [
      "(data : tom)\n",
      "(data : jane)\n"
     ]
    }
   ],
   "source": [
    "print(myDLL.head)\n",
    "print(myDLL.tail)"
   ]
  },
  {
   "cell_type": "code",
   "execution_count": 13,
   "metadata": {},
   "outputs": [
    {
     "name": "stdout",
     "output_type": "stream",
     "text": [
      "(data : tom)\n",
      "None\n",
      "(data : jane)\n"
     ]
    }
   ],
   "source": [
    "print(myDLL.head)\n",
    "print(myDLL.head.getPrev())\n",
    "print(myDLL.head.getNext())"
   ]
  },
  {
   "cell_type": "code",
   "execution_count": 14,
   "metadata": {},
   "outputs": [
    {
     "name": "stdout",
     "output_type": "stream",
     "text": [
      "(data : jane)\n",
      "(data : tom)\n",
      "None\n"
     ]
    }
   ],
   "source": [
    "print(myDLL.tail)\n",
    "print(myDLL.tail.getPrev())\n",
    "print(myDLL.tail.getNext())"
   ]
  },
  {
   "cell_type": "code",
   "execution_count": 15,
   "metadata": {},
   "outputs": [
    {
     "name": "stdout",
     "output_type": "stream",
     "text": [
      "head = (data : tom) and tail = (data : lee), Size = 3\n",
      "position : 1 tom\n",
      "position : 2 jane\n",
      "position : 3 lee\n"
     ]
    },
    {
     "data": {
      "text/plain": [
       "True"
      ]
     },
     "execution_count": 15,
     "metadata": {},
     "output_type": "execute_result"
    }
   ],
   "source": [
    "myDLL.addNode(\"lee\")\n",
    "myDLL.printNodes()\n",
    "myDLL.findNode(\"lee\")"
   ]
  },
  {
   "cell_type": "code",
   "execution_count": 16,
   "metadata": {},
   "outputs": [
    {
     "data": {
      "text/plain": [
       "False"
      ]
     },
     "execution_count": 16,
     "metadata": {},
     "output_type": "execute_result"
    }
   ],
   "source": [
    "myDLL.findNode(\"kim\")"
   ]
  },
  {
   "cell_type": "code",
   "execution_count": 17,
   "metadata": {},
   "outputs": [
    {
     "name": "stdout",
     "output_type": "stream",
     "text": [
      "head = (data : tom) and tail = (data : lee), Size = 3\n",
      "position : 1 tom\n",
      "position : 2 jane\n",
      "position : 3 lee\n",
      "Data kim is not in the list\n",
      "head = (data : tom) and tail = (data : lee), Size = 3\n",
      "position : 1 tom\n",
      "position : 2 jane\n",
      "position : 3 lee\n"
     ]
    }
   ],
   "source": [
    "myDLL.printNodes()\n",
    "myDLL.removeNode(\"kim\")\n",
    "myDLL.printNodes()"
   ]
  },
  {
   "cell_type": "code",
   "execution_count": 18,
   "metadata": {},
   "outputs": [
    {
     "name": "stdout",
     "output_type": "stream",
     "text": [
      "position : 3 lee\n",
      "position : 2 jane\n",
      "position : 1 tom\n"
     ]
    }
   ],
   "source": [
    "myDLL.printNodesReverse()"
   ]
  },
  {
   "cell_type": "code",
   "execution_count": 19,
   "metadata": {},
   "outputs": [
    {
     "name": "stdout",
     "output_type": "stream",
     "text": [
      "head = (data : tom) and tail = (data : lee), Size = 3\n",
      "position : 1 tom\n",
      "position : 2 jane\n",
      "position : 3 lee\n",
      "Data lee is removed\n",
      "head = (data : tom) and tail = (data : jane), Size = 2\n",
      "position : 1 tom\n",
      "position : 2 jane\n",
      "\n",
      "position : 2 jane\n",
      "position : 1 tom\n"
     ]
    }
   ],
   "source": [
    "myDLL.printNodes()\n",
    "myDLL.removeNode(\"lee\")\n",
    "myDLL.printNodes()\n",
    "print()\n",
    "myDLL.printNodesReverse()"
   ]
  },
  {
   "cell_type": "code",
   "execution_count": 20,
   "metadata": {},
   "outputs": [
    {
     "name": "stdout",
     "output_type": "stream",
     "text": [
      "head = (data : tom) and tail = (data : jane), Size = 2\n",
      "position : 1 tom\n",
      "position : 2 jane\n",
      "Data tom is removed\n",
      "head = (data : jane) and tail = (data : jane), Size = 1\n",
      "position : 1 jane\n",
      "\n",
      "position : 1 jane\n"
     ]
    }
   ],
   "source": [
    "myDLL.printNodes()\n",
    "myDLL.removeNode(\"tom\")\n",
    "myDLL.printNodes()\n",
    "print()\n",
    "myDLL.printNodesReverse()"
   ]
  },
  {
   "cell_type": "code",
   "execution_count": 21,
   "metadata": {},
   "outputs": [
    {
     "name": "stdout",
     "output_type": "stream",
     "text": [
      "head = (data : jane) and tail = (data : jane), Size = 1\n",
      "position : 1 jane\n",
      "Data jane is removed\n",
      "The list is empty\n",
      "\n",
      "The list is empty\n"
     ]
    }
   ],
   "source": [
    "myDLL.printNodes()\n",
    "myDLL.removeNode(\"jane\")\n",
    "myDLL.printNodes()\n",
    "print()\n",
    "myDLL.printNodesReverse()"
   ]
  }
 ],
 "metadata": {
  "kernelspec": {
   "display_name": "Python 3",
   "language": "python",
   "name": "python3"
  },
  "language_info": {
   "codemirror_mode": {
    "name": "ipython",
    "version": 3
   },
   "file_extension": ".py",
   "mimetype": "text/x-python",
   "name": "python",
   "nbconvert_exporter": "python",
   "pygments_lexer": "ipython3",
   "version": "3.7.4"
  }
 },
 "nbformat": 4,
 "nbformat_minor": 2
}
