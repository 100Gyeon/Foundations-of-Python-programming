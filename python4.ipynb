{
 "cells": [
  {
   "cell_type": "markdown",
   "metadata": {},
   "source": [
    "# List Comprehension"
   ]
  },
  {
   "cell_type": "code",
   "execution_count": 1,
   "metadata": {},
   "outputs": [
    {
     "name": "stdout",
     "output_type": "stream",
     "text": [
      "[1, 4, 9, 16, 25]\n"
     ]
    }
   ],
   "source": [
    "# simple method\n",
    "nums = [1,2,3,4,5]\n",
    "sq_nums = []\n",
    "for n in nums :\n",
    "    sq_nums.append(n**2)\n",
    "print(sq_nums)"
   ]
  },
  {
   "cell_type": "code",
   "execution_count": 2,
   "metadata": {},
   "outputs": [
    {
     "name": "stdout",
     "output_type": "stream",
     "text": [
      "[1, 4, 9, 16, 25]\n"
     ]
    }
   ],
   "source": [
    "# list comprehension\n",
    "# []는 우리가 list를 만든다는 것을 의미함\n",
    "# for n in nums에서 element 하나씩 가지고 와서 각각에 대해서 n**2\n",
    "sq_nums = [n**2 for n in nums]\n",
    "print(sq_nums)"
   ]
  },
  {
   "cell_type": "code",
   "execution_count": 3,
   "metadata": {},
   "outputs": [
    {
     "data": {
      "text/plain": [
       "[6, 12, 18]"
      ]
     },
     "execution_count": 3,
     "metadata": {},
     "output_type": "execute_result"
    }
   ],
   "source": [
    "vec = [2,4,6]\n",
    "[3*x for x in vec]"
   ]
  },
  {
   "cell_type": "code",
   "execution_count": 4,
   "metadata": {},
   "outputs": [
    {
     "data": {
      "text/plain": [
       "[12, 18]"
      ]
     },
     "execution_count": 4,
     "metadata": {},
     "output_type": "execute_result"
    }
   ],
   "source": [
    "[3*x for x in vec if x > 3]"
   ]
  },
  {
   "cell_type": "code",
   "execution_count": 8,
   "metadata": {},
   "outputs": [
    {
     "data": {
      "text/plain": [
       "[]"
      ]
     },
     "execution_count": 8,
     "metadata": {},
     "output_type": "execute_result"
    }
   ],
   "source": [
    "[3*x for x in vec if x < 2]"
   ]
  },
  {
   "cell_type": "code",
   "execution_count": 5,
   "metadata": {},
   "outputs": [
    {
     "data": {
      "text/plain": [
       "[[2, 4], [4, 16], [6, 36]]"
      ]
     },
     "execution_count": 5,
     "metadata": {},
     "output_type": "execute_result"
    }
   ],
   "source": [
    "[[x, x**2] for x in vec]"
   ]
  },
  {
   "cell_type": "code",
   "execution_count": 6,
   "metadata": {},
   "outputs": [
    {
     "ename": "SyntaxError",
     "evalue": "invalid syntax (<ipython-input-6-0f1ce407c27f>, line 2)",
     "output_type": "error",
     "traceback": [
      "\u001b[1;36m  File \u001b[1;32m\"<ipython-input-6-0f1ce407c27f>\"\u001b[1;36m, line \u001b[1;32m2\u001b[0m\n\u001b[1;33m    [x, x**2 for x in vec]\u001b[0m\n\u001b[1;37m               ^\u001b[0m\n\u001b[1;31mSyntaxError\u001b[0m\u001b[1;31m:\u001b[0m invalid syntax\n"
     ]
    }
   ],
   "source": [
    "# error : 리스트 하나에 두 개의 element는 불가능\n",
    "[x, x**2 for x in vec]"
   ]
  },
  {
   "cell_type": "code",
   "execution_count": 7,
   "metadata": {},
   "outputs": [
    {
     "name": "stdout",
     "output_type": "stream",
     "text": [
      "[1, 1]\n",
      "2\n"
     ]
    }
   ],
   "source": [
    "# 특정한 단어가 몇 번 나왔는지 알고 싶은 경우\n",
    "email = ['once', 'upon', 'a', 'time', 'in', 'a', 'far', 'away']\n",
    "a = [1 for x in email if x == 'a'] # 'a'가 있으면 1이 들어감\n",
    "print(a)\n",
    "print(len(a))"
   ]
  },
  {
   "cell_type": "markdown",
   "metadata": {},
   "source": [
    "# Template :\n",
    "\n",
    "    new_list = [f(x) for x in iterable]\n",
    "    iterable에는 list, dictionary가 있다."
   ]
  },
  {
   "cell_type": "code",
   "execution_count": 9,
   "metadata": {},
   "outputs": [
    {
     "name": "stdout",
     "output_type": "stream",
     "text": [
      "['HELLO', 'THIS', 'IS', 'PYTHON']\n"
     ]
    }
   ],
   "source": [
    "# more list comprehension\n",
    "words = ['hello', 'this', 'is', 'python']\n",
    "caps = [word.upper() for word in words]\n",
    "print(caps)"
   ]
  },
  {
   "cell_type": "code",
   "execution_count": 10,
   "metadata": {},
   "outputs": [
    {
     "name": "stdout",
     "output_type": "stream",
     "text": [
      "[(0, 0), (1, 1), (4, 8), (9, 27), (16, 64)]\n"
     ]
    }
   ],
   "source": [
    "powers = [(x**2, x**3) for x in range(5)] # 0부터 4까지\n",
    "print(powers)"
   ]
  },
  {
   "cell_type": "code",
   "execution_count": 11,
   "metadata": {},
   "outputs": [],
   "source": [
    "# function 이용해서 list comprehension 사용하기\n",
    "def isEven(num) :\n",
    "    return (num % 2 == 0)\n",
    "\n",
    "numbers = [2, 10, 7, 300, 63]\n",
    "isEvens = [isEven(num) for num in numbers]"
   ]
  },
  {
   "cell_type": "code",
   "execution_count": 12,
   "metadata": {},
   "outputs": [
    {
     "name": "stdout",
     "output_type": "stream",
     "text": [
      "[True, True, False, True, False]\n"
     ]
    }
   ],
   "source": [
    "print(isEvens)"
   ]
  },
  {
   "cell_type": "code",
   "execution_count": 13,
   "metadata": {},
   "outputs": [
    {
     "name": "stdout",
     "output_type": "stream",
     "text": [
      "{'TTA', 'TTT', 'TAT', 'AAT', 'TAA', 'ATT', 'AAA', 'ATA'}\n"
     ]
    }
   ],
   "source": [
    "nuc = ['A', 'T']\n",
    "codons = { x+y+z for x in nuc for y in nuc for z in nuc }\n",
    "# x는 A 아니면 T가 된다. y는 A 아니면 T가 된다. z는 A 아니면 T가 된다.\n",
    "# x, y, z는 경우의 수를 2개씩 가지고 있다.\n",
    "print(codons)"
   ]
  },
  {
   "cell_type": "code",
   "execution_count": 14,
   "metadata": {},
   "outputs": [
    {
     "name": "stdout",
     "output_type": "stream",
     "text": [
      "{'CTC', 'GCA', 'TCG', 'TAT', 'CAC', 'CCA', 'GCT', 'TCA', 'TAC', 'TGA', 'GCG', 'TAG', 'CAG', 'AGC', 'GAA', 'TGT', 'TTA', 'CTA', 'TTT', 'TCT', 'AAT', 'AGG', 'CAT', 'TGG', 'GTC', 'ATT', 'CCT', 'CTT', 'CCC', 'ATA', 'GCC', 'CAA', 'ATC', 'TTC', 'TTG', 'ATG', 'CGC', 'GTT', 'GAG', 'AAC', 'GGC', 'GAC', 'GAT', 'ACC', 'AAG', 'ACT', 'GTA', 'GGT', 'ACA', 'ACG', 'TGC', 'CGA', 'AGA', 'CGG', 'TAA', 'CTG', 'CCG', 'CGT', 'GTG', 'GGA', 'TCC', 'AAA', 'AGT', 'GGG'}\n",
      "64\n"
     ]
    }
   ],
   "source": [
    "nuc = ['A', 'T', 'C', 'G']\n",
    "codons = { x+y+z for x in nuc for y in nuc for z in nuc }\n",
    "print(codons)\n",
    "print(len(codons))"
   ]
  },
  {
   "cell_type": "code",
   "execution_count": 16,
   "metadata": {},
   "outputs": [
    {
     "name": "stdout",
     "output_type": "stream",
     "text": [
      "{10: 'a', 20: 'b', 30: 'c', 40: 'd'}\n"
     ]
    }
   ],
   "source": [
    "myDict = {'a':10, 'b':20, 'c':30, 'd':40}\n",
    "reverserDict = { value : key for key, value in myDict.items()}\n",
    "print(reverserDict)"
   ]
  },
  {
   "cell_type": "code",
   "execution_count": 17,
   "metadata": {},
   "outputs": [
    {
     "name": "stdout",
     "output_type": "stream",
     "text": [
      "{10: 'c', 20: 'b', 40: 'd'}\n"
     ]
    }
   ],
   "source": [
    "# key와 value가 unique하지 않은 경우\n",
    "myDict = {'a':10, 'b':20, 'c':10, 'd':40}\n",
    "reverserDict = { value : key for key, value in myDict.items()}\n",
    "print(reverserDict)\n",
    "# 10: 'a'가 없어지고 10: 'c'로 바뀜"
   ]
  },
  {
   "cell_type": "markdown",
   "metadata": {},
   "source": [
    "# String, List, Tuple, Dictionary의 길이를 확인하는 함수 -> len"
   ]
  },
  {
   "cell_type": "code",
   "execution_count": 18,
   "metadata": {},
   "outputs": [
    {
     "name": "stdout",
     "output_type": "stream",
     "text": [
      "6\n",
      "4\n",
      "3\n",
      "2\n"
     ]
    }
   ],
   "source": [
    "fruit = \"banana\"\n",
    "print(len(fruit))\n",
    "\n",
    "myList = [1,2, [3,4], {\"a\":\"123\"}]\n",
    "print(len(myList))\n",
    "\n",
    "myTuple = (2,3,4)\n",
    "print(len(myTuple))\n",
    "\n",
    "myDict = {\"a\":{\"cell\":\"123\", \"email\":\"a@email\"}, \"b\":{\"cell\":222, \"email\":\"b@email\"}}\n",
    "print(len(myDict))"
   ]
  },
  {
   "cell_type": "code",
   "execution_count": 21,
   "metadata": {},
   "outputs": [
    {
     "name": "stdout",
     "output_type": "stream",
     "text": [
      "b a n a n a \n",
      "1 2 [3, 4] {'a': '123'} \n",
      "2 3 4 \n",
      "a b \n",
      "a {'cell': '123', 'email': 'a@email'}\n",
      "b {'cell': 222, 'email': 'b@email'}\n"
     ]
    }
   ],
   "source": [
    "fruit = \"banana\"\n",
    "for letter in fruit:\n",
    "    print(letter, end = \" \")\n",
    "print()\n",
    "\n",
    "myList = [1,2, [3,4], {\"a\":\"123\"}]\n",
    "for ele in myList:\n",
    "    print(ele, end = \" \")\n",
    "print()\n",
    "\n",
    "myTuple = (2,3,4)\n",
    "for ele in myTuple:\n",
    "    print(ele, end = \" \")\n",
    "print()\n",
    "\n",
    "myDict = {\"a\":{\"cell\":\"123\", \"email\":\"a@email\"}, \"b\":{\"cell\":222, \"email\":\"b@email\"}}\n",
    "for ele in myDict:\n",
    "    print(ele, end = \" \") # key값만 출력된다.\n",
    "print()\n",
    "\n",
    "for i, ele in myDict.items(): # items()가 있어야 key, value가 출력된다.\n",
    "    print(\"{} {}\".format(i,ele))"
   ]
  },
  {
   "cell_type": "markdown",
   "metadata": {},
   "source": [
    "# 특정 패턴을 찾거나, 찾은 패턴을 다른 패턴으로 치환하는 경우 -> find, replace"
   ]
  },
  {
   "cell_type": "code",
   "execution_count": 22,
   "metadata": {},
   "outputs": [
    {
     "name": "stdout",
     "output_type": "stream",
     "text": [
      "2\n",
      "-1\n"
     ]
    }
   ],
   "source": [
    "fruit = \"banana\"\n",
    "pos = fruit.find(\"na\") # \"na\"가 나오는 위치를 출력\n",
    "print(pos)\n",
    "aa = fruit.find(\"z\") # 없는 것을 찾게 되면 return -1\n",
    "print(aa)"
   ]
  },
  {
   "cell_type": "code",
   "execution_count": 23,
   "metadata": {},
   "outputs": [
    {
     "name": "stdout",
     "output_type": "stream",
     "text": [
      "Hello John!\n"
     ]
    }
   ],
   "source": [
    "# search and replace\n",
    "greet = \"Hello Bob!\"\n",
    "greet1 = greet.replace(\"Bob\", \"John\")\n",
    "print(greet1)"
   ]
  },
  {
   "cell_type": "markdown",
   "metadata": {},
   "source": [
    "# strip, startswith"
   ]
  },
  {
   "cell_type": "code",
   "execution_count": 24,
   "metadata": {},
   "outputs": [
    {
     "name": "stdout",
     "output_type": "stream",
     "text": [
      "    Hello Bob!   \n",
      "Hello Bob!   \n",
      "    Hello Bob!\n",
      "Hello Bob!\n",
      "True\n",
      "False\n"
     ]
    }
   ],
   "source": [
    "greet = \"    Hello Bob!   \"\n",
    "print(greet)\n",
    "print(greet.lstrip()) # left strip : 왼쪽 없애줌\n",
    "print(greet.rstrip()) # right strip : 오른쪽 없애줌\n",
    "print(greet.strip()) # strip : 양쪽 없애줌\n",
    "line = \"Have a good weekend\"\n",
    "print(line.startswith(\"Have\")) # \"Have\"로 시작했으면 True 리턴\n",
    "print(line.startswith(\"h\"))"
   ]
  },
  {
   "cell_type": "markdown",
   "metadata": {},
   "source": [
    "# find를 이용한 string parsing\n",
    "\n",
    "string.find(value, start, end)\n",
    "value : required, 찾으려고 하는 것\n",
    "start : optional, search를 시작하고자 하는 위치, default는 0\n",
    "end : optional, search를 끝내고자 하는 위치, default는 end of the string"
   ]
  },
  {
   "cell_type": "code",
   "execution_count": 25,
   "metadata": {},
   "outputs": [
    {
     "name": "stdout",
     "output_type": "stream",
     "text": [
      "4\n",
      "19\n",
      "park@ssu.ac.kr\n"
     ]
    }
   ],
   "source": [
    "data = \"From park@ssu.ac.kr Sat Jan 09:11:44 2019\"\n",
    "atpos = data.find(\" \") # \" \"의 위치를 찾으려고 함\n",
    "print(atpos)\n",
    "blankpos = data.find(\" \", atpos+1) # p에서부터 다음 blank를 찾아야하니까 atpos에 1을 더해준다.\n",
    "print(blankpos)\n",
    "print(data[atpos+1:blankpos]) # 원하는 부분만 뽑아내기"
   ]
  },
  {
   "cell_type": "markdown",
   "metadata": {},
   "source": [
    "# Split : String을 List로 변환"
   ]
  },
  {
   "cell_type": "code",
   "execution_count": 26,
   "metadata": {},
   "outputs": [
    {
     "name": "stdout",
     "output_type": "stream",
     "text": [
      "['Hi!', 'Good', 'morning!']\n"
     ]
    }
   ],
   "source": [
    "greet = \"    Hi! Good morning!  \"\n",
    "greetList = greet.split()\n",
    "print(greetList)"
   ]
  },
  {
   "cell_type": "code",
   "execution_count": 27,
   "metadata": {},
   "outputs": [
    {
     "name": "stdout",
     "output_type": "stream",
     "text": [
      "['first;second;third']\n",
      "['first', 'second', 'third']\n"
     ]
    }
   ],
   "source": [
    "line = \"first;second;third\"\n",
    "line1 = line.split()\n",
    "line2 = line.split(\";\")\n",
    "print(line1)\n",
    "print(line2)"
   ]
  }
 ],
 "metadata": {
  "kernelspec": {
   "display_name": "Python 3",
   "language": "python",
   "name": "python3"
  },
  "language_info": {
   "codemirror_mode": {
    "name": "ipython",
    "version": 3
   },
   "file_extension": ".py",
   "mimetype": "text/x-python",
   "name": "python",
   "nbconvert_exporter": "python",
   "pygments_lexer": "ipython3",
   "version": "3.7.4"
  }
 },
 "nbformat": 4,
 "nbformat_minor": 2
}
