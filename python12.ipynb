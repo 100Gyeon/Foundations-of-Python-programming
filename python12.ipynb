{
 "cells": [
  {
   "cell_type": "markdown",
   "metadata": {},
   "source": [
    "Sorting and set operations"
   ]
  },
  {
   "cell_type": "code",
   "execution_count": 1,
   "metadata": {},
   "outputs": [
    {
     "name": "stdout",
     "output_type": "stream",
     "text": [
      "[-0.71221795  0.2064967   1.05344318 -0.39263391  0.73551064 -0.20263208\n",
      " -1.39128698 -0.4312167   2.7378222   1.12982495]\n"
     ]
    }
   ],
   "source": [
    "import numpy as np\n",
    "\n",
    "unsorted = np.random.randn(10)\n",
    "print(unsorted)"
   ]
  },
  {
   "cell_type": "code",
   "execution_count": 2,
   "metadata": {},
   "outputs": [
    {
     "name": "stdout",
     "output_type": "stream",
     "text": [
      "[-1.39128698 -0.71221795 -0.4312167  -0.39263391 -0.20263208  0.2064967\n",
      "  0.73551064  1.05344318  1.12982495  2.7378222 ]\n"
     ]
    }
   ],
   "source": [
    "sorted = np.array(unsorted)\n",
    "sorted.sort()\n",
    "print(sorted)"
   ]
  },
  {
   "cell_type": "code",
   "execution_count": 3,
   "metadata": {},
   "outputs": [
    {
     "data": {
      "text/plain": [
       "array([1, 2, 3])"
      ]
     },
     "execution_count": 3,
     "metadata": {},
     "output_type": "execute_result"
    }
   ],
   "source": [
    "# 중복된 것 없애줌\n",
    "array = np.array([1,2,3,1,2,3])\n",
    "np.unique(array)"
   ]
  },
  {
   "cell_type": "code",
   "execution_count": 4,
   "metadata": {},
   "outputs": [
    {
     "name": "stdout",
     "output_type": "stream",
     "text": [
      "['bulb' 'chair']\n",
      "['bulb' 'chair' 'desk' 'lamp']\n",
      "['desk']\n",
      "[False  True  True]\n"
     ]
    }
   ],
   "source": [
    "# set operation\n",
    "s1 = np.array([\"desk\", \"chair\", \"bulb\"])\n",
    "s2 = np.array([\"lamp\", \"bulb\", \"chair\"])\n",
    "print(np.intersect1d(s1,s2)) # 겹치는 것(교집합) 출력\n",
    "print(np.union1d(s1,s2)) # 중복 제거한 전체 출력\n",
    "print(np.setdiff1d(s1,s2)) # s1에서 s2를 뺀 차집합 출력\n",
    "print(np.in1d(s1,s2)) # s1이면서 s2인 element는 true"
   ]
  },
  {
   "cell_type": "markdown",
   "metadata": {},
   "source": [
    "Broadcasting"
   ]
  },
  {
   "cell_type": "code",
   "execution_count": 5,
   "metadata": {},
   "outputs": [
    {
     "name": "stdout",
     "output_type": "stream",
     "text": [
      "[[0. 0. 0.]\n",
      " [0. 0. 0.]\n",
      " [0. 0. 0.]\n",
      " [0. 0. 0.]]\n",
      "[1 0 2]\n"
     ]
    }
   ],
   "source": [
    "start = np.zeros((4,3))\n",
    "add_rows = np.array([1,0,2])\n",
    "print(start)\n",
    "print(add_rows)"
   ]
  },
  {
   "cell_type": "code",
   "execution_count": 6,
   "metadata": {},
   "outputs": [
    {
     "name": "stdout",
     "output_type": "stream",
     "text": [
      "[[1. 0. 2.]\n",
      " [1. 0. 2.]\n",
      " [1. 0. 2.]\n",
      " [1. 0. 2.]]\n"
     ]
    }
   ],
   "source": [
    "# use broadcast to add to each row of 'start'\n",
    "# broadcast가 자동으로 부족한 row 맞춰줌\n",
    "y = start + add_rows\n",
    "print(y)"
   ]
  },
  {
   "cell_type": "code",
   "execution_count": 7,
   "metadata": {},
   "outputs": [
    {
     "name": "stdout",
     "output_type": "stream",
     "text": [
      "[[0]\n",
      " [1]\n",
      " [2]\n",
      " [3]]\n",
      "[[0. 0. 0.]\n",
      " [1. 1. 1.]\n",
      " [2. 2. 2.]\n",
      " [3. 3. 3.]]\n"
     ]
    }
   ],
   "source": [
    "# notice [[ ]] not [ ]\n",
    "add_cols = np.array([[0,1,2,3]])\n",
    "add_cols = add_cols.T\n",
    "# vector를 transpose하면 vector가 된다.\n",
    "# 그래서 matrix로 만들고 transpose 해야 함\n",
    "print(add_cols)\n",
    "# broadcast가 자동으로 부족한 column 맞춰줌\n",
    "y = start + add_cols\n",
    "print(y)"
   ]
  },
  {
   "cell_type": "code",
   "execution_count": 8,
   "metadata": {},
   "outputs": [
    {
     "name": "stdout",
     "output_type": "stream",
     "text": [
      "[1]\n",
      "[[1. 1. 1.]\n",
      " [1. 1. 1.]\n",
      " [1. 1. 1.]\n",
      " [1. 1. 1.]]\n"
     ]
    }
   ],
   "source": [
    "add_scalar = np.array([1])\n",
    "print(add_scalar)\n",
    "# it will broadcast in both directions\n",
    "print(start + add_scalar)"
   ]
  },
  {
   "cell_type": "markdown",
   "metadata": {},
   "source": [
    "Speed test ndarray vs. python list : 넘파이가 훨씬 빠르다"
   ]
  },
  {
   "cell_type": "code",
   "execution_count": 11,
   "metadata": {},
   "outputs": [
    {
     "name": "stdout",
     "output_type": "stream",
     "text": [
      "(1000000,) <class 'numpy.ndarray'>\n"
     ]
    }
   ],
   "source": [
    "import numpy as np\n",
    "from timeit import Timer\n",
    "\n",
    "size = 1000000\n",
    "numberOfOperation = 1500\n",
    "timeits = 1000\n",
    "\n",
    "nd_array = np.arange(size)\n",
    "print(nd_array.shape, type(nd_array))"
   ]
  },
  {
   "cell_type": "code",
   "execution_count": 12,
   "metadata": {},
   "outputs": [
    {
     "name": "stdout",
     "output_type": "stream",
     "text": [
      "Time taken by numpy ndarray : 0.000635 seconds\n"
     ]
    }
   ],
   "source": [
    "timer_numpy = Timer(\"nd_array.sum()\", \"from __main__ import nd_array\")\n",
    "print(\"Time taken by numpy ndarray : %f seconds\" %\n",
    "     (timer_numpy.timeit(numberOfOperation)/timeits))"
   ]
  },
  {
   "cell_type": "code",
   "execution_count": 13,
   "metadata": {},
   "outputs": [
    {
     "name": "stdout",
     "output_type": "stream",
     "text": [
      "<class 'list'> 1000000\n"
     ]
    }
   ],
   "source": [
    "a_list = list(range(size))\n",
    "print(type(a_list), len(a_list))"
   ]
  },
  {
   "cell_type": "code",
   "execution_count": 14,
   "metadata": {},
   "outputs": [
    {
     "name": "stdout",
     "output_type": "stream",
     "text": [
      "Time taken by list : 0.035373 seconds\n"
     ]
    }
   ],
   "source": [
    "timer_list = Timer(\"sum(a_list)\", \"from __main__ import a_list\")\n",
    "print(\"Time taken by list : %f seconds\" %\n",
    "     (timer_list.timeit(numberOfOperation)/timeits))"
   ]
  }
 ],
 "metadata": {
  "kernelspec": {
   "display_name": "Python 3",
   "language": "python",
   "name": "python3"
  },
  "language_info": {
   "codemirror_mode": {
    "name": "ipython",
    "version": 3
   },
   "file_extension": ".py",
   "mimetype": "text/x-python",
   "name": "python",
   "nbconvert_exporter": "python",
   "pygments_lexer": "ipython3",
   "version": "3.7.4"
  }
 },
 "nbformat": 4,
 "nbformat_minor": 2
}
