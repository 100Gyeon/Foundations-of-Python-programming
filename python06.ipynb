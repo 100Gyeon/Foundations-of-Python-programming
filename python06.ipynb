{
 "cells": [
  {
   "cell_type": "code",
   "execution_count": 1,
   "metadata": {},
   "outputs": [
    {
     "name": "stdout",
     "output_type": "stream",
     "text": [
      "78.5\n"
     ]
    }
   ],
   "source": [
    "class Circle():\n",
    "    pi = 3.14\n",
    "    def area(self, radius):\n",
    "        return Circle.pi*radius **2\n",
    "circle = Circle()\n",
    "print(circle.area(5))"
   ]
  },
  {
   "cell_type": "code",
   "execution_count": 2,
   "metadata": {},
   "outputs": [
    {
     "ename": "NameError",
     "evalue": "name 'pi' is not defined",
     "output_type": "error",
     "traceback": [
      "\u001b[1;31m---------------------------------------------------------------------------\u001b[0m",
      "\u001b[1;31mNameError\u001b[0m                                 Traceback (most recent call last)",
      "\u001b[1;32m<ipython-input-2-62e16cdbc5b1>\u001b[0m in \u001b[0;36m<module>\u001b[1;34m\u001b[0m\n\u001b[0;32m      5\u001b[0m         \u001b[1;32mreturn\u001b[0m \u001b[0mpi\u001b[0m\u001b[1;33m*\u001b[0m\u001b[0mradius\u001b[0m \u001b[1;33m**\u001b[0m\u001b[1;36m2\u001b[0m \u001b[1;31m# pi를 불러줄 때 Circle1.pi라고 불렀어야 함\u001b[0m\u001b[1;33m\u001b[0m\u001b[1;33m\u001b[0m\u001b[0m\n\u001b[0;32m      6\u001b[0m \u001b[0mcircle1\u001b[0m \u001b[1;33m=\u001b[0m \u001b[0mCircle1\u001b[0m\u001b[1;33m(\u001b[0m\u001b[1;33m)\u001b[0m\u001b[1;33m\u001b[0m\u001b[1;33m\u001b[0m\u001b[0m\n\u001b[1;32m----> 7\u001b[1;33m \u001b[0mprint\u001b[0m\u001b[1;33m(\u001b[0m\u001b[0mcircle1\u001b[0m\u001b[1;33m.\u001b[0m\u001b[0marea\u001b[0m\u001b[1;33m(\u001b[0m\u001b[1;36m5\u001b[0m\u001b[1;33m)\u001b[0m\u001b[1;33m)\u001b[0m\u001b[1;33m\u001b[0m\u001b[1;33m\u001b[0m\u001b[0m\n\u001b[0m",
      "\u001b[1;32m<ipython-input-2-62e16cdbc5b1>\u001b[0m in \u001b[0;36marea\u001b[1;34m(self, radius)\u001b[0m\n\u001b[0;32m      3\u001b[0m     \u001b[0mpi\u001b[0m \u001b[1;33m=\u001b[0m \u001b[1;36m3.14\u001b[0m \u001b[1;31m# class variable\u001b[0m\u001b[1;33m\u001b[0m\u001b[1;33m\u001b[0m\u001b[0m\n\u001b[0;32m      4\u001b[0m     \u001b[1;32mdef\u001b[0m \u001b[0marea\u001b[0m\u001b[1;33m(\u001b[0m\u001b[0mself\u001b[0m\u001b[1;33m,\u001b[0m \u001b[0mradius\u001b[0m\u001b[1;33m)\u001b[0m\u001b[1;33m:\u001b[0m\u001b[1;33m\u001b[0m\u001b[1;33m\u001b[0m\u001b[0m\n\u001b[1;32m----> 5\u001b[1;33m         \u001b[1;32mreturn\u001b[0m \u001b[0mpi\u001b[0m\u001b[1;33m*\u001b[0m\u001b[0mradius\u001b[0m \u001b[1;33m**\u001b[0m\u001b[1;36m2\u001b[0m \u001b[1;31m# pi를 불러줄 때 Circle1.pi라고 불렀어야 함\u001b[0m\u001b[1;33m\u001b[0m\u001b[1;33m\u001b[0m\u001b[0m\n\u001b[0m\u001b[0;32m      6\u001b[0m \u001b[0mcircle1\u001b[0m \u001b[1;33m=\u001b[0m \u001b[0mCircle1\u001b[0m\u001b[1;33m(\u001b[0m\u001b[1;33m)\u001b[0m\u001b[1;33m\u001b[0m\u001b[1;33m\u001b[0m\u001b[0m\n\u001b[0;32m      7\u001b[0m \u001b[0mprint\u001b[0m\u001b[1;33m(\u001b[0m\u001b[0mcircle1\u001b[0m\u001b[1;33m.\u001b[0m\u001b[0marea\u001b[0m\u001b[1;33m(\u001b[0m\u001b[1;36m5\u001b[0m\u001b[1;33m)\u001b[0m\u001b[1;33m)\u001b[0m\u001b[1;33m\u001b[0m\u001b[1;33m\u001b[0m\u001b[0m\n",
      "\u001b[1;31mNameError\u001b[0m: name 'pi' is not defined"
     ]
    }
   ],
   "source": [
    "# variable scope\n",
    "class Circle1():\n",
    "    pi = 3.14 # class variable\n",
    "    def area(self, radius):\n",
    "        return pi*radius **2 # pi를 불러줄 때 Circle1.pi라고 불렀어야 함\n",
    "circle1 = Circle1()\n",
    "print(circle1.area(5))"
   ]
  },
  {
   "cell_type": "code",
   "execution_count": 3,
   "metadata": {},
   "outputs": [
    {
     "name": "stdout",
     "output_type": "stream",
     "text": [
      "78.5\n"
     ]
    }
   ],
   "source": [
    "class Circle11():\n",
    "    pi = 3.14\n",
    "    def area(self, radius):\n",
    "        return self.pi*radius **2\n",
    "    \n",
    "circle11 = Circle11()\n",
    "print(circle11.area(5))"
   ]
  },
  {
   "cell_type": "code",
   "execution_count": 4,
   "metadata": {},
   "outputs": [
    {
     "name": "stdout",
     "output_type": "stream",
     "text": [
      "78.5\n"
     ]
    }
   ],
   "source": [
    "class Circle2():\n",
    "    pi = 3.14\n",
    "    def area(self, radius):\n",
    "        return Circle2.pi*radius **2\n",
    "circle2 = Circle2()\n",
    "print(circle2.area(5))"
   ]
  },
  {
   "cell_type": "code",
   "execution_count": 5,
   "metadata": {},
   "outputs": [
    {
     "name": "stdout",
     "output_type": "stream",
     "text": [
      "78.5\n"
     ]
    }
   ],
   "source": [
    "# 이렇게 가장 많이 씀\n",
    "# class variable : pi\n",
    "# instance variable : radius\n",
    "\n",
    "class Circle3():\n",
    "    pi = 3.14\n",
    "    def area(self, radius):\n",
    "        self.radius = radius\n",
    "        return Circle3.pi*self.radius **2\n",
    "    \n",
    "circle3 = Circle3()\n",
    "print(circle3.area(5))"
   ]
  },
  {
   "cell_type": "code",
   "execution_count": 6,
   "metadata": {},
   "outputs": [
    {
     "name": "stdout",
     "output_type": "stream",
     "text": [
      "You may say I'm a dreamer\n",
      "But I'm not the only one\n",
      "I hope some day you'll join us\n",
      "And the world will be as one\n",
      "\n",
      "You may say I'm a dreamer\n",
      "But I'm not the only one\n",
      "I hope some day you'll join us\n",
      "And the world will be as one\n",
      "\n"
     ]
    }
   ],
   "source": [
    "def sing_song():\n",
    "    print(\"You may say I'm a dreamer\")\n",
    "    print(\"But I'm not the only one\")\n",
    "    print(\"I hope some day you'll join us\")\n",
    "    print(\"And the world will be as one\")\n",
    "    print()\n",
    "    \n",
    "# call sing_song() below:\n",
    "sing_song()\n",
    "sing_song()"
   ]
  },
  {
   "cell_type": "code",
   "execution_count": 7,
   "metadata": {},
   "outputs": [
    {
     "name": "stdout",
     "output_type": "stream",
     "text": [
      "I am 21 years old and my dad is 50 years old\n"
     ]
    }
   ],
   "source": [
    "def calculate_age(current_year, birth_year):\n",
    "    age = current_year - birth_year\n",
    "    return age\n",
    "\n",
    "my_age = calculate_age(2020, 1999)\n",
    "dads_age = calculate_age(2020, 1970)\n",
    "\n",
    "print(\"I am {} years old and my dad is {} years old\".format(my_age, dads_age))"
   ]
  },
  {
   "cell_type": "code",
   "execution_count": 8,
   "metadata": {},
   "outputs": [
    {
     "name": "stdout",
     "output_type": "stream",
     "text": [
      "<class 'type'> This works\n",
      "<class '__main__.FakeDict'> This too\n"
     ]
    }
   ],
   "source": [
    "class FakeDict():\n",
    "    pass\n",
    "\n",
    "# 괄호 없어도 되긴 하는데, 대신 type이 다름\n",
    "# FakeDict()처럼 괄호를 해주는 게 좋음\n",
    "fake_dict1 = FakeDict # not good\n",
    "fake_dict1.fake_key = \"This works\"\n",
    "\n",
    "fake_dict2 = FakeDict()\n",
    "fake_dict2.fake_key = \"This too\"\n",
    "\n",
    "print(type(fake_dict1), fake_dict1.fake_key)\n",
    "print(type(fake_dict2), fake_dict2.fake_key)"
   ]
  },
  {
   "cell_type": "code",
   "execution_count": 9,
   "metadata": {},
   "outputs": [
    {
     "name": "stdout",
     "output_type": "stream",
     "text": [
      "This works\n",
      "This too\n",
      "<class '__main__.FakeDict'>\n",
      "<class '__main__.FakeDict'>\n"
     ]
    }
   ],
   "source": [
    "fake_dict1 = FakeDict()\n",
    "fake_dict1.fake_key = \"This works\"\n",
    "fake_dict2 = FakeDict()\n",
    "fake_dict2.fake_key = \"This too\"\n",
    "\n",
    "print(fake_dict1.fake_key)\n",
    "print(fake_dict2.fake_key)\n",
    "print(type(fake_dict1))\n",
    "print(type(fake_dict2))"
   ]
  },
  {
   "cell_type": "code",
   "execution_count": 10,
   "metadata": {},
   "outputs": [],
   "source": [
    "# constructor에 instance variable을 define해주는 것이 일반적\n",
    "class Store:\n",
    "    def __init__(self, store_name):\n",
    "        self.store_name = store_name\n",
    "\n",
    "# instance 2개 만들기        \n",
    "alternative_rocks = Store(\"Alternative_rocks\")\n",
    "isabelles_ices = Store(\"Isabelles_ices\")"
   ]
  },
  {
   "cell_type": "code",
   "execution_count": 11,
   "metadata": {},
   "outputs": [
    {
     "data": {
      "text/plain": [
       "'Alternative_rocks'"
      ]
     },
     "execution_count": 11,
     "metadata": {},
     "output_type": "execute_result"
    }
   ],
   "source": [
    "alternative_rocks.store_name"
   ]
  },
  {
   "cell_type": "markdown",
   "metadata": {},
   "source": [
    "# __repr__ (representation이라는 dunder method)\n",
    "\n",
    "repr can only have one parameter, self, and must return a string."
   ]
  },
  {
   "cell_type": "code",
   "execution_count": 12,
   "metadata": {},
   "outputs": [
    {
     "name": "stdout",
     "output_type": "stream",
     "text": [
      "<__main__.Employee object at 0x000001AC06596B48>\n"
     ]
    }
   ],
   "source": [
    "class Employee():\n",
    "    def __init__(self, name):\n",
    "        self.name = name\n",
    "argus = Employee(\"Argus Filch\")\n",
    "print(argus) # argus가 Employee의 instance라는 것만 출력됨"
   ]
  },
  {
   "cell_type": "code",
   "execution_count": 13,
   "metadata": {},
   "outputs": [
    {
     "name": "stdout",
     "output_type": "stream",
     "text": [
      "Argus Filch\n"
     ]
    }
   ],
   "source": [
    "class Employee():\n",
    "    def __init__(self, name):\n",
    "        self.name = name\n",
    "    def __repr__(self):\n",
    "        return self.name\n",
    "\n",
    "argus = Employee(\"Argus Filch\")\n",
    "print(argus) # print문이 __repr__을 부르게 된다."
   ]
  },
  {
   "cell_type": "code",
   "execution_count": 14,
   "metadata": {},
   "outputs": [],
   "source": [
    "class Circle:\n",
    "    pi = 3.14\n",
    "    \n",
    "    def __init__(self, diameter):\n",
    "        self.radius = diameter / 2\n",
    "        \n",
    "    def area(self):\n",
    "        return self.pi * self.radius ** 2\n",
    "    \n",
    "    def circumference(self):\n",
    "        return self.pi * 2 * self.radius\n",
    "    \n",
    "    def __repr__(self):\n",
    "        # return \"Circle with radius {radius}\".format(radius=self.radius)\n",
    "        return \"Circle with radius {}\".format(self.radius)\n",
    "    \n",
    "medium_pizza = Circle(12)\n",
    "teaching_table = Circle(36)\n",
    "round_room = Circle(11460)"
   ]
  },
  {
   "cell_type": "code",
   "execution_count": 15,
   "metadata": {},
   "outputs": [
    {
     "name": "stdout",
     "output_type": "stream",
     "text": [
      "Circle with radius 6.0\n"
     ]
    }
   ],
   "source": [
    "print(medium_pizza)"
   ]
  },
  {
   "cell_type": "code",
   "execution_count": 16,
   "metadata": {},
   "outputs": [],
   "source": [
    "class Student:\n",
    "    def __init__(self, name, year): # 파라미터 두 개(name과 year) 받음\n",
    "        self.name = name\n",
    "        self.year = year\n",
    "        self.grades = [] # list of Grade\n",
    "    def add_grade(self, grade):\n",
    "        if type(grade) == Grade: # Grade의 instance이면\n",
    "            self.grades.append(grade) # 추가\n",
    "    def get_average(self):\n",
    "        # 그냥 score 아니고 c.score인 것 주의\n",
    "        list_grade = [c.score for c in self.grades]\n",
    "        return sum(list_grade) / len(list_grade)\n",
    "        # return sum(self.grades)/len(self.grades)\n",
    "        \n",
    "class Grade:\n",
    "    minimum_passing = 65\n",
    "    def __init__(self, score): # constructor\n",
    "        self.score = score\n",
    "    def is_passing(self): # function\n",
    "        return self.score > Grade.minimum_passing\n",
    "    \n",
    "roger = Student(\"Roger van der Weyden\", 10)\n",
    "sandro = Student(\"Sandro Botticelli\", 12)\n",
    "pieter = Student(\"Pieter Bruegel the Elder\", 8)\n",
    "pieter.add_grade(Grade(100))\n",
    "pieter.add_grade(Grade(200))"
   ]
  },
  {
   "cell_type": "code",
   "execution_count": 17,
   "metadata": {},
   "outputs": [
    {
     "name": "stdout",
     "output_type": "stream",
     "text": [
      "<__main__.Grade object at 0x000001AC0657C888>\n",
      "<__main__.Grade object at 0x000001AC0657C3C8>\n"
     ]
    }
   ],
   "source": [
    "# 그냥 a 말고 a.score를 해줘야 함\n",
    "for a in pieter.grades:\n",
    "    print(a)"
   ]
  },
  {
   "cell_type": "code",
   "execution_count": 18,
   "metadata": {},
   "outputs": [
    {
     "name": "stdout",
     "output_type": "stream",
     "text": [
      "100\n",
      "200\n"
     ]
    }
   ],
   "source": [
    "for a in pieter.grades:\n",
    "    print(a.score)"
   ]
  },
  {
   "cell_type": "code",
   "execution_count": 19,
   "metadata": {},
   "outputs": [
    {
     "data": {
      "text/plain": [
       "150.0"
      ]
     },
     "execution_count": 19,
     "metadata": {},
     "output_type": "execute_result"
    }
   ],
   "source": [
    "pieter.get_average()"
   ]
  },
  {
   "cell_type": "markdown",
   "metadata": {},
   "source": [
    "# Inheritance"
   ]
  },
  {
   "cell_type": "code",
   "execution_count": 20,
   "metadata": {},
   "outputs": [
    {
     "data": {
      "text/plain": [
       "'John'"
      ]
     },
     "execution_count": 20,
     "metadata": {},
     "output_type": "execute_result"
    }
   ],
   "source": [
    "# base / parent class : User\n",
    "# sub / child class : Admin\n",
    "# 하위 클래스는 상위 클래스가 갖고 있는 class variable, constructor, function을 모두 상속받음\n",
    "\n",
    "class User:\n",
    "    is_admin = False # class variable\n",
    "    def __init__(self, username): # constructor\n",
    "        self.username = username\n",
    "\n",
    "class Admin(User): # Admin의 상위 클래스는 User임을 표시\n",
    "    is_admin = True # 이 부분만 상위 클래스와 다르게 변경\n",
    "    \n",
    "admin = Admin(\"John\")\n",
    "admin.username"
   ]
  },
  {
   "cell_type": "markdown",
   "metadata": {},
   "source": [
    "# args and kwargs"
   ]
  },
  {
   "cell_type": "markdown",
   "metadata": {},
   "source": [
    "사용자가 얼마나 많은 argument를 함수에 전달할지 모를 때 사용"
   ]
  },
  {
   "cell_type": "code",
   "execution_count": 21,
   "metadata": {},
   "outputs": [
    {
     "name": "stdout",
     "output_type": "stream",
     "text": [
      "first normal arg: yasoob\n",
      "python eggs test\n",
      "another arg through *args : python\n",
      "another arg through *args : eggs\n",
      "another arg through *args : test\n"
     ]
    }
   ],
   "source": [
    "# f_arg라는 argument가 하나 있고,\n",
    "# 그 다음 argument 몇 개가 있다.\n",
    "\n",
    "def test_var_args(f_arg, *args):\n",
    "    print(\"first normal arg:\", f_arg)\n",
    "    # 남은 argument 다 출력\n",
    "    print(*args)\n",
    "    for arg in args: # for문에 있는 args는 * 없이 쓴다.\n",
    "        # 남은 argument 하나씩 가져와서 출력\n",
    "        print(\"another arg through *args :\", arg)\n",
    "\n",
    "test_var_args('yasoob','python','eggs','test')"
   ]
  },
  {
   "cell_type": "code",
   "execution_count": 22,
   "metadata": {},
   "outputs": [
    {
     "name": "stdout",
     "output_type": "stream",
     "text": [
      "first normal arg: yasoob\n",
      "python eggs test\n",
      "another arg through *argv : python\n",
      "another arg through *argv : eggs\n",
      "another arg through *argv : test\n"
     ]
    }
   ],
   "source": [
    "# 꼭 *args일 필요는 없고 *로 시작하기만 하면 된다.\n",
    "# *args = *argv = *var\n",
    "\n",
    "def test_var_args(f_arg, *argv):\n",
    "    print(\"first normal arg:\", f_arg)\n",
    "    print(*argv)\n",
    "    for arg in argv:\n",
    "        print(\"another arg through *argv :\", arg)\n",
    "\n",
    "test_var_args('yasoob','python','eggs','test')"
   ]
  },
  {
   "cell_type": "code",
   "execution_count": 23,
   "metadata": {},
   "outputs": [
    {
     "name": "stdout",
     "output_type": "stream",
     "text": [
      "first normal arg: yasoob\n",
      "python eggs test\n",
      "another arg through *var : python\n",
      "another arg through *var : eggs\n",
      "another arg through *var : test\n"
     ]
    }
   ],
   "source": [
    "def test_var_args(f_arg, *var):\n",
    "    print(\"first normal arg:\", f_arg)\n",
    "    print(*var)\n",
    "    for arg in var:\n",
    "        print(\"another arg through *var :\", arg)\n",
    "\n",
    "test_var_args('yasoob','python','eggs','test')"
   ]
  },
  {
   "cell_type": "markdown",
   "metadata": {},
   "source": [
    "kwargs allows you to pass keyworded variable length of arguments to a function.  \n",
    "You should use kwargs if you want to handle named arguments in a function.  \n",
    "keyword가 있는 parameter들이 몇 개가 올지 모를 때 **kwargs 사용"
   ]
  },
  {
   "cell_type": "code",
   "execution_count": 24,
   "metadata": {},
   "outputs": [
    {
     "name": "stdout",
     "output_type": "stream",
     "text": [
      "{'name': 'park', 'phone': '1111'}\n",
      "name : park\n",
      "phone : 1111\n"
     ]
    }
   ],
   "source": [
    "def greet_me(**kwargs):\n",
    "    print(kwargs) # dictionary라는 것을 확인할 수 있음\n",
    "    if kwargs is not None:\n",
    "        for key, value in kwargs.items():\n",
    "            print(\"{} : {}\".format(key,value))\n",
    "            \n",
    "greet_me(name = \"park\", phone = \"1111\")"
   ]
  },
  {
   "cell_type": "code",
   "execution_count": 25,
   "metadata": {},
   "outputs": [
    {
     "name": "stdout",
     "output_type": "stream",
     "text": [
      "{'name': 'park', 'phone': '1111'}\n",
      "name : park\n",
      "phone : 1111\n"
     ]
    }
   ],
   "source": [
    "def greet_me(**vars): # **kwargs나 **vars나 똑같음\n",
    "    print(vars)\n",
    "    if vars is not None:\n",
    "        for key, value in vars.items():\n",
    "            print(\"{} : {}\".format(key,value))\n",
    "            \n",
    "greet_me(name = \"park\", phone = \"1111\")"
   ]
  },
  {
   "cell_type": "code",
   "execution_count": 26,
   "metadata": {},
   "outputs": [
    {
     "ename": "TypeError",
     "evalue": "test_args_kwargs() missing 2 required positional arguments: 'arg2' and 'arg3'",
     "output_type": "error",
     "traceback": [
      "\u001b[1;31m---------------------------------------------------------------------------\u001b[0m",
      "\u001b[1;31mTypeError\u001b[0m                                 Traceback (most recent call last)",
      "\u001b[1;32m<ipython-input-26-9aeaef8a77f6>\u001b[0m in \u001b[0;36m<module>\u001b[1;34m\u001b[0m\n\u001b[0;32m      5\u001b[0m \u001b[1;33m\u001b[0m\u001b[0m\n\u001b[0;32m      6\u001b[0m \u001b[0margs\u001b[0m \u001b[1;33m=\u001b[0m \u001b[1;33m(\u001b[0m\u001b[1;34m\"two\"\u001b[0m\u001b[1;33m,\u001b[0m\u001b[1;36m3\u001b[0m\u001b[1;33m,\u001b[0m\u001b[1;36m5\u001b[0m\u001b[1;33m)\u001b[0m\u001b[1;33m\u001b[0m\u001b[1;33m\u001b[0m\u001b[0m\n\u001b[1;32m----> 7\u001b[1;33m \u001b[0mtest_args_kwargs\u001b[0m\u001b[1;33m(\u001b[0m\u001b[0margs\u001b[0m\u001b[1;33m)\u001b[0m \u001b[1;31m# *를 하지 않으면 argument 하나만 넘어가는 것이라서 error\u001b[0m\u001b[1;33m\u001b[0m\u001b[1;33m\u001b[0m\u001b[0m\n\u001b[0m",
      "\u001b[1;31mTypeError\u001b[0m: test_args_kwargs() missing 2 required positional arguments: 'arg2' and 'arg3'"
     ]
    }
   ],
   "source": [
    "def test_args_kwargs(arg1, arg2, arg3):\n",
    "    print(\"arg1:\", arg1)\n",
    "    print(\"arg2:\", arg2) \n",
    "    print(\"arg3:\", arg3) \n",
    "\n",
    "args = (\"two\",3,5)\n",
    "test_args_kwargs(args) # *를 하지 않으면 argument 하나만 넘어가는 것이라서 error"
   ]
  },
  {
   "cell_type": "code",
   "execution_count": 27,
   "metadata": {},
   "outputs": [
    {
     "name": "stdout",
     "output_type": "stream",
     "text": [
      "arg1: two\n",
      "arg2: 3\n",
      "arg3: 5\n"
     ]
    }
   ],
   "source": [
    "def test_args_kwargs(arg1, arg2, arg3):\n",
    "    print(\"arg1:\", arg1)\n",
    "    print(\"arg2:\", arg2) \n",
    "    print(\"arg3:\", arg3) \n",
    "\n",
    "args = (\"two\",3,5)\n",
    "test_args_kwargs(*args)"
   ]
  },
  {
   "cell_type": "code",
   "execution_count": 28,
   "metadata": {},
   "outputs": [
    {
     "name": "stdout",
     "output_type": "stream",
     "text": [
      "arg1: two\n",
      "arg2: 3\n",
      "arg3: 5\n"
     ]
    }
   ],
   "source": [
    "def test_args_kwargs(arg1, arg2, arg3):\n",
    "    print(\"arg1:\", arg1)\n",
    "    print(\"arg2:\", arg2) \n",
    "    print(\"arg3:\", arg3) \n",
    "\n",
    "vars = (\"two\",3,5)\n",
    "test_args_kwargs(*vars)"
   ]
  },
  {
   "cell_type": "code",
   "execution_count": 29,
   "metadata": {},
   "outputs": [
    {
     "name": "stdout",
     "output_type": "stream",
     "text": [
      "arg1: two\n",
      "arg2: 3\n",
      "arg3: 5\n"
     ]
    }
   ],
   "source": [
    "def test_args_kwargs(arg1, arg2, arg3):\n",
    "    print(\"arg1:\", arg1)\n",
    "    print(\"arg2:\", arg2) \n",
    "    print(\"arg3:\", arg3) \n",
    "\n",
    "test_args_kwargs(\"two\",3,5)"
   ]
  },
  {
   "cell_type": "code",
   "execution_count": 30,
   "metadata": {},
   "outputs": [
    {
     "name": "stdout",
     "output_type": "stream",
     "text": [
      "arg1: 5\n",
      "arg2: two\n",
      "arg3: 3\n"
     ]
    }
   ],
   "source": [
    "def test_args_kwargs(arg1, arg2, arg3):\n",
    "    print(\"arg1:\", arg1)\n",
    "    print(\"arg2:\", arg2) \n",
    "    print(\"arg3:\", arg3) \n",
    "    \n",
    "kwargs = {\"arg3\" : 3, \"arg2\" : \"two\", \"arg1\" : 5}\n",
    "test_args_kwargs(**kwargs)"
   ]
  },
  {
   "cell_type": "code",
   "execution_count": 31,
   "metadata": {},
   "outputs": [
    {
     "ename": "NameError",
     "evalue": "name 'arg3' is not defined",
     "output_type": "error",
     "traceback": [
      "\u001b[1;31m---------------------------------------------------------------------------\u001b[0m",
      "\u001b[1;31mNameError\u001b[0m                                 Traceback (most recent call last)",
      "\u001b[1;32m<ipython-input-31-deb7b6c6108b>\u001b[0m in \u001b[0;36m<module>\u001b[1;34m\u001b[0m\n\u001b[0;32m      2\u001b[0m \u001b[1;31m# \"\"(큰따옴표)가 없어서 error\u001b[0m\u001b[1;33m\u001b[0m\u001b[1;33m\u001b[0m\u001b[1;33m\u001b[0m\u001b[0m\n\u001b[0;32m      3\u001b[0m \u001b[1;33m\u001b[0m\u001b[0m\n\u001b[1;32m----> 4\u001b[1;33m \u001b[0mkwargs\u001b[0m \u001b[1;33m=\u001b[0m \u001b[1;33m{\u001b[0m\u001b[0marg3\u001b[0m \u001b[1;33m:\u001b[0m \u001b[1;36m3\u001b[0m\u001b[1;33m,\u001b[0m \u001b[0marg2\u001b[0m \u001b[1;33m:\u001b[0m \u001b[1;34m\"two\"\u001b[0m\u001b[1;33m,\u001b[0m \u001b[0marg1\u001b[0m \u001b[1;33m:\u001b[0m \u001b[1;36m5\u001b[0m\u001b[1;33m}\u001b[0m\u001b[1;33m\u001b[0m\u001b[1;33m\u001b[0m\u001b[0m\n\u001b[0m\u001b[0;32m      5\u001b[0m \u001b[0mtest_args_kwargs\u001b[0m\u001b[1;33m(\u001b[0m\u001b[1;33m**\u001b[0m\u001b[0mkwargs\u001b[0m\u001b[1;33m)\u001b[0m\u001b[1;33m\u001b[0m\u001b[1;33m\u001b[0m\u001b[0m\n",
      "\u001b[1;31mNameError\u001b[0m: name 'arg3' is not defined"
     ]
    }
   ],
   "source": [
    "# \"arg3\", \"arg2\", \"arg1\"으로 하지 않아서 error\n",
    "# \"\"(큰따옴표)가 없어서 error\n",
    "\n",
    "kwargs = {arg3 : 3, arg2 : \"two\", arg1 : 5}\n",
    "test_args_kwargs(**kwargs)"
   ]
  },
  {
   "cell_type": "code",
   "execution_count": 32,
   "metadata": {},
   "outputs": [
    {
     "ename": "TypeError",
     "evalue": "test_args_kwargs() got an unexpected keyword argument 'val3'",
     "output_type": "error",
     "traceback": [
      "\u001b[1;31m---------------------------------------------------------------------------\u001b[0m",
      "\u001b[1;31mTypeError\u001b[0m                                 Traceback (most recent call last)",
      "\u001b[1;32m<ipython-input-32-a0c1462bca3d>\u001b[0m in \u001b[0;36m<module>\u001b[1;34m\u001b[0m\n\u001b[0;32m      2\u001b[0m \u001b[1;33m\u001b[0m\u001b[0m\n\u001b[0;32m      3\u001b[0m \u001b[0mkwargs\u001b[0m \u001b[1;33m=\u001b[0m \u001b[1;33m{\u001b[0m\u001b[1;34m\"val3\"\u001b[0m \u001b[1;33m:\u001b[0m \u001b[1;36m3\u001b[0m\u001b[1;33m,\u001b[0m \u001b[1;34m\"arg2\"\u001b[0m \u001b[1;33m:\u001b[0m \u001b[1;34m\"two\"\u001b[0m\u001b[1;33m,\u001b[0m \u001b[1;34m\"arg1\"\u001b[0m \u001b[1;33m:\u001b[0m \u001b[1;36m5\u001b[0m\u001b[1;33m}\u001b[0m\u001b[1;33m\u001b[0m\u001b[1;33m\u001b[0m\u001b[0m\n\u001b[1;32m----> 4\u001b[1;33m \u001b[0mtest_args_kwargs\u001b[0m\u001b[1;33m(\u001b[0m\u001b[1;33m**\u001b[0m\u001b[0mkwargs\u001b[0m\u001b[1;33m)\u001b[0m\u001b[1;33m\u001b[0m\u001b[1;33m\u001b[0m\u001b[0m\n\u001b[0m",
      "\u001b[1;31mTypeError\u001b[0m: test_args_kwargs() got an unexpected keyword argument 'val3'"
     ]
    }
   ],
   "source": [
    "# \"val3\" 때문에 error\n",
    "\n",
    "kwargs = {\"val3\" : 3, \"arg2\" : \"two\", \"arg1\" : 5}\n",
    "test_args_kwargs(**kwargs)"
   ]
  },
  {
   "cell_type": "code",
   "execution_count": 33,
   "metadata": {},
   "outputs": [
    {
     "ename": "TypeError",
     "evalue": "test_args_kwargs() got an unexpected keyword argument 'args3'",
     "output_type": "error",
     "traceback": [
      "\u001b[1;31m---------------------------------------------------------------------------\u001b[0m",
      "\u001b[1;31mTypeError\u001b[0m                                 Traceback (most recent call last)",
      "\u001b[1;32m<ipython-input-33-70937759e3dd>\u001b[0m in \u001b[0;36m<module>\u001b[1;34m\u001b[0m\n\u001b[0;32m      1\u001b[0m \u001b[1;31m# args가 아니고 arg\u001b[0m\u001b[1;33m\u001b[0m\u001b[1;33m\u001b[0m\u001b[1;33m\u001b[0m\u001b[0m\n\u001b[0;32m      2\u001b[0m \u001b[0mkwargs\u001b[0m \u001b[1;33m=\u001b[0m \u001b[1;33m{\u001b[0m\u001b[1;34m\"args3\"\u001b[0m \u001b[1;33m:\u001b[0m \u001b[1;36m3\u001b[0m\u001b[1;33m,\u001b[0m \u001b[1;34m\"args2\"\u001b[0m \u001b[1;33m:\u001b[0m \u001b[1;34m\"two\"\u001b[0m\u001b[1;33m,\u001b[0m \u001b[1;34m\"args1\"\u001b[0m \u001b[1;33m:\u001b[0m \u001b[1;36m5\u001b[0m\u001b[1;33m}\u001b[0m\u001b[1;33m\u001b[0m\u001b[1;33m\u001b[0m\u001b[0m\n\u001b[1;32m----> 3\u001b[1;33m \u001b[0mtest_args_kwargs\u001b[0m\u001b[1;33m(\u001b[0m\u001b[1;33m**\u001b[0m\u001b[0mkwargs\u001b[0m\u001b[1;33m)\u001b[0m\u001b[1;33m\u001b[0m\u001b[1;33m\u001b[0m\u001b[0m\n\u001b[0m",
      "\u001b[1;31mTypeError\u001b[0m: test_args_kwargs() got an unexpected keyword argument 'args3'"
     ]
    }
   ],
   "source": [
    "# args가 아니고 arg\n",
    "kwargs = {\"args3\" : 3, \"args2\" : \"two\", \"args1\" : 5}\n",
    "test_args_kwargs(**kwargs)"
   ]
  },
  {
   "cell_type": "code",
   "execution_count": 34,
   "metadata": {},
   "outputs": [
    {
     "name": "stdout",
     "output_type": "stream",
     "text": [
      "val3 : 3\n",
      "arg2 : two\n",
      "arg1 : 5\n"
     ]
    }
   ],
   "source": [
    "def test_args_kwargs(**kwargs):\n",
    "     if kwargs is not None:\n",
    "        for key, value in kwargs.items():\n",
    "            print(\"{} : {}\".format(key,value))\n",
    "            \n",
    "kwargs = {\"val3\" : 3, \"arg2\" : \"two\", \"arg1\" : 5}\n",
    "test_args_kwargs(**kwargs)"
   ]
  },
  {
   "cell_type": "code",
   "execution_count": 35,
   "metadata": {},
   "outputs": [
    {
     "name": "stdout",
     "output_type": "stream",
     "text": [
      "val3 : 3\n",
      "arg2 : two\n",
      "arg1 : 5\n"
     ]
    }
   ],
   "source": [
    "def test_args_kwargs(**kwargs):\n",
    "     if kwargs is not None:\n",
    "        for key, value in kwargs.items():\n",
    "            print(\"{} : {}\".format(key,value))\n",
    "            \n",
    "vars = {\"val3\" : 3, \"arg2\" : \"two\", \"arg1\" : 5}\n",
    "test_args_kwargs(**vars)"
   ]
  }
 ],
 "metadata": {
  "kernelspec": {
   "display_name": "Python 3",
   "language": "python",
   "name": "python3"
  },
  "language_info": {
   "codemirror_mode": {
    "name": "ipython",
    "version": 3
   },
   "file_extension": ".py",
   "mimetype": "text/x-python",
   "name": "python",
   "nbconvert_exporter": "python",
   "pygments_lexer": "ipython3",
   "version": "3.7.4"
  }
 },
 "nbformat": 4,
 "nbformat_minor": 2
}
