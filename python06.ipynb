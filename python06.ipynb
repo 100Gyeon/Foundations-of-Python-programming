{
 "cells": [
  {
   "cell_type": "code",
   "execution_count": 1,
   "metadata": {},
   "outputs": [
    {
     "name": "stdout",
     "output_type": "stream",
     "text": [
      "78.5\n"
     ]
    }
   ],
   "source": [
    "class Circle():\n",
    "    pi = 3.14\n",
    "    def area(self, radius):\n",
    "        return Circle.pi*radius **2\n",
    "circle = Circle()\n",
    "print(circle.area(5))"
   ]
  },
  {
   "cell_type": "code",
   "execution_count": 2,
   "metadata": {},
   "outputs": [
    {
     "ename": "NameError",
     "evalue": "name 'pi' is not defined",
     "output_type": "error",
     "traceback": [
      "\u001b[1;31m---------------------------------------------------------------------------\u001b[0m",
      "\u001b[1;31mNameError\u001b[0m                                 Traceback (most recent call last)",
      "\u001b[1;32m<ipython-input-2-75cba4007d08>\u001b[0m in \u001b[0;36m<module>\u001b[1;34m\u001b[0m\n\u001b[0;32m      5\u001b[0m         \u001b[1;32mreturn\u001b[0m \u001b[0mpi\u001b[0m\u001b[1;33m*\u001b[0m\u001b[0mradius\u001b[0m \u001b[1;33m**\u001b[0m\u001b[1;36m2\u001b[0m \u001b[1;31m# pi를 불러줄 때 class 이름과 같이 불렀어야 함\u001b[0m\u001b[1;33m\u001b[0m\u001b[1;33m\u001b[0m\u001b[0m\n\u001b[0;32m      6\u001b[0m \u001b[0mcircle1\u001b[0m \u001b[1;33m=\u001b[0m \u001b[0mCircle1\u001b[0m\u001b[1;33m(\u001b[0m\u001b[1;33m)\u001b[0m\u001b[1;33m\u001b[0m\u001b[1;33m\u001b[0m\u001b[0m\n\u001b[1;32m----> 7\u001b[1;33m \u001b[0mprint\u001b[0m\u001b[1;33m(\u001b[0m\u001b[0mcircle1\u001b[0m\u001b[1;33m.\u001b[0m\u001b[0marea\u001b[0m\u001b[1;33m(\u001b[0m\u001b[1;36m5\u001b[0m\u001b[1;33m)\u001b[0m\u001b[1;33m)\u001b[0m\u001b[1;33m\u001b[0m\u001b[1;33m\u001b[0m\u001b[0m\n\u001b[0m",
      "\u001b[1;32m<ipython-input-2-75cba4007d08>\u001b[0m in \u001b[0;36marea\u001b[1;34m(self, radius)\u001b[0m\n\u001b[0;32m      3\u001b[0m     \u001b[0mpi\u001b[0m \u001b[1;33m=\u001b[0m \u001b[1;36m3.14\u001b[0m \u001b[1;31m# class variable\u001b[0m\u001b[1;33m\u001b[0m\u001b[1;33m\u001b[0m\u001b[0m\n\u001b[0;32m      4\u001b[0m     \u001b[1;32mdef\u001b[0m \u001b[0marea\u001b[0m\u001b[1;33m(\u001b[0m\u001b[0mself\u001b[0m\u001b[1;33m,\u001b[0m \u001b[0mradius\u001b[0m\u001b[1;33m)\u001b[0m\u001b[1;33m:\u001b[0m\u001b[1;33m\u001b[0m\u001b[1;33m\u001b[0m\u001b[0m\n\u001b[1;32m----> 5\u001b[1;33m         \u001b[1;32mreturn\u001b[0m \u001b[0mpi\u001b[0m\u001b[1;33m*\u001b[0m\u001b[0mradius\u001b[0m \u001b[1;33m**\u001b[0m\u001b[1;36m2\u001b[0m \u001b[1;31m# pi를 불러줄 때 class 이름과 같이 불렀어야 함\u001b[0m\u001b[1;33m\u001b[0m\u001b[1;33m\u001b[0m\u001b[0m\n\u001b[0m\u001b[0;32m      6\u001b[0m \u001b[0mcircle1\u001b[0m \u001b[1;33m=\u001b[0m \u001b[0mCircle1\u001b[0m\u001b[1;33m(\u001b[0m\u001b[1;33m)\u001b[0m\u001b[1;33m\u001b[0m\u001b[1;33m\u001b[0m\u001b[0m\n\u001b[0;32m      7\u001b[0m \u001b[0mprint\u001b[0m\u001b[1;33m(\u001b[0m\u001b[0mcircle1\u001b[0m\u001b[1;33m.\u001b[0m\u001b[0marea\u001b[0m\u001b[1;33m(\u001b[0m\u001b[1;36m5\u001b[0m\u001b[1;33m)\u001b[0m\u001b[1;33m)\u001b[0m\u001b[1;33m\u001b[0m\u001b[1;33m\u001b[0m\u001b[0m\n",
      "\u001b[1;31mNameError\u001b[0m: name 'pi' is not defined"
     ]
    }
   ],
   "source": [
    "# variable scope\n",
    "class Circle1():\n",
    "    pi = 3.14 # class variable\n",
    "    def area(self, radius):\n",
    "        return pi*radius **2 # pi를 불러줄 때 Circle1.pi라고 불렀어야 함\n",
    "circle1 = Circle1()\n",
    "print(circle1.area(5))"
   ]
  },
  {
   "cell_type": "code",
   "execution_count": 3,
   "metadata": {},
   "outputs": [
    {
     "name": "stdout",
     "output_type": "stream",
     "text": [
      "78.5\n"
     ]
    }
   ],
   "source": [
    "class Circle11():\n",
    "    pi = 3.14\n",
    "    def area(self, radius):\n",
    "        return self.pi*radius **2\n",
    "circle11 = Circle11()\n",
    "print(circle11.area(5))"
   ]
  },
  {
   "cell_type": "code",
   "execution_count": 4,
   "metadata": {},
   "outputs": [
    {
     "name": "stdout",
     "output_type": "stream",
     "text": [
      "78.5\n"
     ]
    }
   ],
   "source": [
    "class Circle2():\n",
    "    pi = 3.14\n",
    "    def area(self, radius):\n",
    "        return Circle2.pi*radius **2\n",
    "circle2 = Circle2()\n",
    "print(circle2.area(5))"
   ]
  },
  {
   "cell_type": "code",
   "execution_count": 5,
   "metadata": {},
   "outputs": [
    {
     "name": "stdout",
     "output_type": "stream",
     "text": [
      "78.5\n"
     ]
    }
   ],
   "source": [
    "class Circle3():\n",
    "    pi = 3.14\n",
    "    def area(self, radius):\n",
    "        self.radius = radius\n",
    "        return Circle3.pi*self.radius **2\n",
    "circle3 = Circle3()\n",
    "print(circle3.area(5))"
   ]
  },
  {
   "cell_type": "code",
   "execution_count": 6,
   "metadata": {},
   "outputs": [
    {
     "name": "stdout",
     "output_type": "stream",
     "text": [
      "<class 'type'> This works\n",
      "<class '__main__.FakeDict'> This too\n"
     ]
    }
   ],
   "source": [
    "# Instance variable\n",
    "class FakeDict():\n",
    "    pass\n",
    "\n",
    "fake_dict1 = FakeDict # not good\n",
    "fake_dict1.fake_key = \"This works\"\n",
    "\n",
    "fake_dict2 = FakeDict()\n",
    "fake_dict2.fake_key = \"This too\"\n",
    "\n",
    "print(type(fake_dict1), fake_dict1.fake_key)\n",
    "print(type(fake_dict2), fake_dict2.fake_key)"
   ]
  },
  {
   "cell_type": "code",
   "execution_count": 7,
   "metadata": {},
   "outputs": [
    {
     "name": "stdout",
     "output_type": "stream",
     "text": [
      "This works\n",
      "This too\n",
      "<class '__main__.FakeDict'>\n",
      "<class '__main__.FakeDict'>\n"
     ]
    }
   ],
   "source": [
    "fake_dict1 = FakeDict()\n",
    "fake_dict1.fake_key = \"This works\"\n",
    "fake_dict2 = FakeDict()\n",
    "fake_dict2.fake_key = \"This too\"\n",
    "print(fake_dict1.fake_key)\n",
    "print(fake_dict2.fake_key)\n",
    "print(type(fake_dict1))\n",
    "print(type(fake_dict2))"
   ]
  },
  {
   "cell_type": "code",
   "execution_count": 8,
   "metadata": {},
   "outputs": [],
   "source": [
    "# constructor에 instance variable을 define해주는 것이 일반적\n",
    "class Store:\n",
    "    def __init__(self, store_name):\n",
    "        self.store_name = store_name\n",
    "\n",
    "# instance 2개 만들기        \n",
    "alternative_rocks = Store(\"Alternative_rocks\")\n",
    "isabelles_ices = Store(\"Isabelles_ices\")"
   ]
  },
  {
   "cell_type": "code",
   "execution_count": 9,
   "metadata": {},
   "outputs": [
    {
     "data": {
      "text/plain": [
       "'Alternative_rocks'"
      ]
     },
     "execution_count": 9,
     "metadata": {},
     "output_type": "execute_result"
    }
   ],
   "source": [
    "alternative_rocks.store_name"
   ]
  },
  {
   "cell_type": "markdown",
   "metadata": {},
   "source": [
    "# __repr__ (representation이라는 dunder method)\n",
    "\n",
    "repr can only have one parameter, self, and must return a string."
   ]
  },
  {
   "cell_type": "code",
   "execution_count": 10,
   "metadata": {},
   "outputs": [
    {
     "name": "stdout",
     "output_type": "stream",
     "text": [
      "<__main__.Employee object at 0x000002729052F088>\n"
     ]
    }
   ],
   "source": [
    "class Employee():\n",
    "    def __init__(self, name):\n",
    "        self.name = name\n",
    "argus = Employee(\"Argus Filch\")\n",
    "print(argus) # argus가 Employee의 instance라는 것만 출력됨"
   ]
  },
  {
   "cell_type": "code",
   "execution_count": 11,
   "metadata": {},
   "outputs": [
    {
     "name": "stdout",
     "output_type": "stream",
     "text": [
      "Argus Filch\n"
     ]
    }
   ],
   "source": [
    "class Employee():\n",
    "    def __init__(self, name):\n",
    "        self.name = name\n",
    "    def __repr__(self):\n",
    "        return self.name\n",
    "\n",
    "argus = Employee(\"Argus Filch\")\n",
    "print(argus) # print문이 __repr__을 부르게 된다."
   ]
  },
  {
   "cell_type": "code",
   "execution_count": 12,
   "metadata": {},
   "outputs": [],
   "source": [
    "class Circle:\n",
    "    pi = 3.14\n",
    "    \n",
    "    def __init__(self, diameter):\n",
    "        self.radius = diameter / 2\n",
    "        \n",
    "    def area(self):\n",
    "        return self.pi * self.radius ** 2\n",
    "    \n",
    "    def circumference(self):\n",
    "        return self.pi * 2 * self.radius\n",
    "    \n",
    "    def __repr__(self):\n",
    "        # return \"Circle with radius {radius}\".format(radius=self.radius)\n",
    "        return \"Circle with radius {}\".format(self.radius)\n",
    "    \n",
    "medium_pizza = Circle(12)\n",
    "teaching_table = Circle(36)\n",
    "round_room = Circle(11460)"
   ]
  },
  {
   "cell_type": "code",
   "execution_count": 13,
   "metadata": {},
   "outputs": [
    {
     "name": "stdout",
     "output_type": "stream",
     "text": [
      "Circle with radius 6.0\n"
     ]
    }
   ],
   "source": [
    "print(medium_pizza)"
   ]
  },
  {
   "cell_type": "code",
   "execution_count": 14,
   "metadata": {},
   "outputs": [],
   "source": [
    "class Student:\n",
    "    def __init__(self, name, year): # 파라미터 두 개(name과 year) 받음\n",
    "        self.name = name\n",
    "        self.year = year\n",
    "        self.grades = [] # list\n",
    "    def add_grade(self, grade):\n",
    "        if type(grade) == Grade: # Grade의 instance이면\n",
    "            self.grades.append(grade) # 추가\n",
    "    def get_average(self):\n",
    "        list_grade = [c.score for c in self.grades]\n",
    "        return sum(list_grade) / len(list_grade)\n",
    "        # return sum(self.grades)/len(self.grades)\n",
    "        \n",
    "class Grade:\n",
    "    minimum_passing = 65\n",
    "    def __init__(self, score): # constructor\n",
    "        self.score = score\n",
    "    def is_passing(self): # function\n",
    "        return self.score > Grade.minimum_passing\n",
    "    \n",
    "roger = Student(\"Roger van der Weyden\", 10)\n",
    "sandro = Student(\"Sandro Botticelli\", 12)\n",
    "pieter = Student(\"Pieter Bruegel the Elder\", 8)\n",
    "pieter.add_grade(Grade(100))\n",
    "pieter.add_grade(Grade(200))"
   ]
  },
  {
   "cell_type": "code",
   "execution_count": 15,
   "metadata": {},
   "outputs": [
    {
     "name": "stdout",
     "output_type": "stream",
     "text": [
      "100\n",
      "200\n"
     ]
    }
   ],
   "source": [
    "for a in pieter.grades:\n",
    "    print(a.score)"
   ]
  },
  {
   "cell_type": "code",
   "execution_count": 16,
   "metadata": {},
   "outputs": [
    {
     "data": {
      "text/plain": [
       "150.0"
      ]
     },
     "execution_count": 16,
     "metadata": {},
     "output_type": "execute_result"
    }
   ],
   "source": [
    "pieter.get_average()"
   ]
  },
  {
   "cell_type": "markdown",
   "metadata": {},
   "source": [
    "# Inheritance"
   ]
  },
  {
   "cell_type": "code",
   "execution_count": 17,
   "metadata": {},
   "outputs": [
    {
     "data": {
      "text/plain": [
       "'John'"
      ]
     },
     "execution_count": 17,
     "metadata": {},
     "output_type": "execute_result"
    }
   ],
   "source": [
    "# base / parent class : User\n",
    "# sub / child class : Admin\n",
    "# 하위 클래스는 상위 클래스가 갖고 있는 class variable, constructor, function을 모두 상속받음\n",
    "\n",
    "class User:\n",
    "    is_admin = False # class variable\n",
    "    def __init__(self, username): # constructor\n",
    "        self.username = username\n",
    "\n",
    "class Admin(User): # Admin의 상위 클래스는 User임을 표시\n",
    "    is_admin = True # 이 부분만 상위 클래스와 다르게 변경\n",
    "    \n",
    "admin = Admin(\"John\")\n",
    "admin.username"
   ]
  }
 ],
 "metadata": {
  "kernelspec": {
   "display_name": "Python 3",
   "language": "python",
   "name": "python3"
  },
  "language_info": {
   "codemirror_mode": {
    "name": "ipython",
    "version": 3
   },
   "file_extension": ".py",
   "mimetype": "text/x-python",
   "name": "python",
   "nbconvert_exporter": "python",
   "pygments_lexer": "ipython3",
   "version": "3.7.4"
  }
 },
 "nbformat": 4,
 "nbformat_minor": 2
}
