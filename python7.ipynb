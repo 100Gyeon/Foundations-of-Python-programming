{
 "cells": [
  {
   "cell_type": "markdown",
   "metadata": {},
   "source": [
    "# Inheritance"
   ]
  },
  {
   "cell_type": "code",
   "execution_count": 1,
   "metadata": {},
   "outputs": [
    {
     "data": {
      "text/plain": [
       "'john'"
      ]
     },
     "execution_count": 1,
     "metadata": {},
     "output_type": "execute_result"
    }
   ],
   "source": [
    "# base(parent) class : User,\n",
    "# subclass(child class) : Admin\n",
    "# class variable과 dunder를 상속받음\n",
    "\n",
    "class User:\n",
    "    is_admin = False\n",
    "    def __init__(self, username): # 파라미터가 하나\n",
    "        self.username = username\n",
    "class Admin(User): # Admin이 User의 하위 클래스다.\n",
    "    is_admin = True \n",
    "    # User에 있는 dunder를 이용한다.\n",
    "    \n",
    "admin = Admin(\"john\") # admin 인스턴스 생성\n",
    "admin.username"
   ]
  },
  {
   "cell_type": "markdown",
   "metadata": {},
   "source": [
    "# Overriding Methods"
   ]
  },
  {
   "cell_type": "code",
   "execution_count": null,
   "metadata": {},
   "outputs": [],
   "source": [
    "class Message:\n",
    "    def __init__(self, sender, recipient, text):\n",
    "        self.sender = sender\n",
    "        self.recipient = recipient\n",
    "        self.text = text\n",
    "\n",
    "class User:\n",
    "    def __init__(self, username):\n",
    "        self.username = username\n",
    "        \n",
    "    def edit_message(self, message, new_text):\n",
    "        if message.sender == self.username:\n",
    "            message.text = new_text\n",
    "        # sender가 자신일때만 text를 바꿀 수 있음    \n",
    "            \n",
    "class Admin(User): \n",
    "    # override\n",
    "    # admin can edit any message\n",
    "    def edit_message(self, message, new_text):\n",
    "        message.text = new_text\n",
    "    # 무조건 text를 edit할 수 있음"
   ]
  },
  {
   "cell_type": "markdown",
   "metadata": {},
   "source": [
    "# super()\n",
    "call the method from the parent class"
   ]
  },
  {
   "cell_type": "code",
   "execution_count": 2,
   "metadata": {},
   "outputs": [
    {
     "name": "stdout",
     "output_type": "stream",
     "text": [
      "40\n",
      "<__main__.Potatoes object at 0x000002331637E8C8>\n"
     ]
    }
   ],
   "source": [
    "class PotatoSalad:\n",
    "    def __init__(self, potatoes, celery, onions): # 파라미터 3개\n",
    "        self.potatoes = potatoes\n",
    "        self.celery = celery\n",
    "        self.onions = onions\n",
    "    \n",
    "class SpecialPotatoSalad(PotatoSalad): # PotatoSalad의 하위 클래스\n",
    "    def __init__(self, potatoes, celery, onions):\n",
    "        super().__init__(potatoes, celery, onions) # 상위 클래스의 __init__를 씀\n",
    "        # super()는 상위 클래스(PotatoSalad)를 불러준다.\n",
    "        # function을 부르는 것이니까 self가 들어가지 않음 주의\n",
    "        # super().메소드명\n",
    "        self.raisins = 40 # 3개 말고도 추가하고 싶을 때\n",
    "\n",
    "class Potatoes():\n",
    "    pass\n",
    "class Celery():\n",
    "    pass\n",
    "class Onions():\n",
    "    pass\n",
    "\n",
    "mySalad = SpecialPotatoSalad(Potatoes(), Celery(), Onions())\n",
    "print(mySalad.raisins)\n",
    "print(mySalad.potatoes) # 출력 결과 주의"
   ]
  },
  {
   "cell_type": "markdown",
   "metadata": {},
   "source": [
    "# Interfaces and Polymorphism\n",
    "\n",
    "Interface : Two different classes with two differently implemented methods to use the same method name (이름이 같더라도 다른 기능을 함)\n",
    "\n",
    "Polymorphism is the term used to describe the same syntax doing different actions depending on the type of data. (Syntax는 똑같은데 data type에 따라서 다른 일을 함)"
   ]
  },
  {
   "cell_type": "code",
   "execution_count": 4,
   "metadata": {},
   "outputs": [
    {
     "name": "stdout",
     "output_type": "stream",
     "text": [
      "0.05\n",
      "1.0\n"
     ]
    }
   ],
   "source": [
    "# interface\n",
    "\n",
    "class InsurancePolicy:\n",
    "    def __init__(self, price_of_item):\n",
    "        self.price_of_insured_item = price_of_item\n",
    "        \n",
    "class VehicleInsurance(InsurancePolicy):\n",
    "    def get_rate(self):\n",
    "        return .001 * self.price_of_insured_item\n",
    "    \n",
    "class HomeInsurance(InsurancePolicy):\n",
    "    def get_rate(self):\n",
    "        return .00005 * self.price_of_insured_item\n",
    "    \n",
    "a = HomeInsurance(1000)\n",
    "print(a.get_rate())\n",
    "b = VehicleInsurance(1000)\n",
    "print(b.get_rate())"
   ]
  },
  {
   "cell_type": "code",
   "execution_count": 5,
   "metadata": {},
   "outputs": [
    {
     "name": "stdout",
     "output_type": "stream",
     "text": [
      "4\n",
      "1\n",
      "21\n"
     ]
    }
   ],
   "source": [
    "# polymorphism : 똑같은 function name을 가지고 있는데, argument type에 따라서 다른 역할을 한다.\n",
    "\n",
    "a_list = [1, 18, 32, 12]\n",
    "a_dict = {'value' : True}\n",
    "a_string = \"Polymorphism is cool!\"\n",
    "\n",
    "print(len(a_list))\n",
    "print(len(a_dict))\n",
    "print(len(a_string))"
   ]
  },
  {
   "cell_type": "markdown",
   "metadata": {},
   "source": [
    "# Dunder Methods\n",
    "__init__, __repr__, __add__, __iter__, __len__, __contains__"
   ]
  },
  {
   "cell_type": "code",
   "execution_count": 6,
   "metadata": {},
   "outputs": [
    {
     "name": "stdout",
     "output_type": "stream",
     "text": [
      "Color with RGB = 255,255,0\n"
     ]
    }
   ],
   "source": [
    "class Color:\n",
    "    def __init__(self, red, blue, green):\n",
    "        self.red = red\n",
    "        self.blue = blue\n",
    "        self.green = green\n",
    "    \n",
    "    def __repr__(self):\n",
    "        return \"Color with RGB = {},{},{}\".format(self.red, self.blue, self.green)\n",
    "    \n",
    "    def add(self, other): # 이건 dunder method가 아님\n",
    "        new_red = min(self.red + other.red, 255)\n",
    "        new_blue = min(self.blue + other.blue, 255)\n",
    "        new_green = min(self.green + other.green, 255)\n",
    "        return Color(new_red, new_blue, new_green)\n",
    "\n",
    "red = Color(255, 0, 0)\n",
    "blue = Color(0, 255, 0)\n",
    "magenta = red.add(blue)\n",
    "print(magenta)"
   ]
  },
  {
   "cell_type": "code",
   "execution_count": 7,
   "metadata": {},
   "outputs": [
    {
     "name": "stdout",
     "output_type": "stream",
     "text": [
      "Na Cl\n"
     ]
    }
   ],
   "source": [
    "class Atom:\n",
    "    def __init__(self, label):\n",
    "        self.label = label\n",
    "\n",
    "    def __repr__(self):\n",
    "        return self.label\n",
    "    \n",
    "class Molecule:\n",
    "    def __init__(self, atoms):\n",
    "        if type(atoms) is list:\n",
    "            self.atoms = atoms\n",
    "    def __repr__(self):\n",
    "        atomL = [atom.label for atom in self.atoms]\n",
    "        return \" \".join(atomL)\n",
    "    \n",
    "sodium = Atom(\"Na\")\n",
    "chlorine = Atom(\"Cl\")\n",
    "salt = Molecule([sodium, chlorine])\n",
    "print(salt)"
   ]
  },
  {
   "cell_type": "code",
   "execution_count": 9,
   "metadata": {},
   "outputs": [
    {
     "name": "stdout",
     "output_type": "stream",
     "text": [
      "Na Cl\n"
     ]
    }
   ],
   "source": [
    "# Use of __add__ for +\n",
    "# __add__는 + operator를 쓸 수 있음\n",
    "\n",
    "class Atom:\n",
    "    def __init__(self, label):\n",
    "        self.label = label\n",
    "        \n",
    "    def __add__(self, other):\n",
    "        return Molecule([self, other])\n",
    "\n",
    "    def __repr__(self):\n",
    "        return self.label\n",
    "    \n",
    "class Molecule:\n",
    "    def __init__(self, atoms):\n",
    "        if type(atoms) is list:\n",
    "            self.atoms = atoms\n",
    "    def __repr__(self):\n",
    "        atomL = [atom.label for atom in self.atoms]\n",
    "        return \" \".join(atomL)\n",
    "    \n",
    "sodium = Atom(\"Na\")\n",
    "chlorine = Atom(\"Cl\")\n",
    "salt = sodium + chlorine # dunder method 때문에 + 사용 가능\n",
    "print(salt)"
   ]
  },
  {
   "cell_type": "code",
   "execution_count": 12,
   "metadata": {},
   "outputs": [
    {
     "name": "stdout",
     "output_type": "stream",
     "text": [
      "3\n"
     ]
    }
   ],
   "source": [
    "class UserGroup: # 3개의 dunder가 있다.\n",
    "    def __init__(self, users, permissions):\n",
    "        self.user_list = users\n",
    "        self.permissions = permissions\n",
    "    def __iter__(self):\n",
    "        # use the iter() function to run\n",
    "        # the list self.user_list into an iterator\n",
    "        return iter(self.user_list)\n",
    "    def __len__(self):\n",
    "        return len(self.user_list)\n",
    "    \n",
    "class User:\n",
    "    def __init__(self, username):\n",
    "        self.username = username\n",
    "    def __repr__(self):\n",
    "        return self.username\n",
    "    \n",
    "park = User('park')\n",
    "kim = User('kim')\n",
    "lee = User('lee')\n",
    "\n",
    "# list, dictionary 형태로 집어넣음\n",
    "can_edit_usergroup = UserGroup([park, kim, lee], {\"can_edit_page\":True})\n",
    "can_delete_usergroup = UserGroup([park, kim], {\"can_delete_posts\":True})\n",
    "\n",
    "print(len(can_edit_usergroup))"
   ]
  },
  {
   "cell_type": "code",
   "execution_count": 13,
   "metadata": {},
   "outputs": [
    {
     "name": "stdout",
     "output_type": "stream",
     "text": [
      "park\n",
      "kim\n",
      "lee\n"
     ]
    }
   ],
   "source": [
    "for user in can_edit_usergroup:\n",
    "    print(user)"
   ]
  },
  {
   "cell_type": "code",
   "execution_count": 14,
   "metadata": {},
   "outputs": [
    {
     "data": {
      "text/plain": [
       "False"
      ]
     },
     "execution_count": 14,
     "metadata": {},
     "output_type": "execute_result"
    }
   ],
   "source": [
    "class LawFirm:\n",
    "    def __init__(self, practice, lawyers):\n",
    "        self.practice = practice\n",
    "        self.lawyers = lawyers\n",
    "    def __len__(self):\n",
    "        return len(self.lawyers)\n",
    "    def __contains__(self, lawyer): # in을 부를 때 사용\n",
    "        return lawyer in self.lawyers # 로펌 lawyers에 lawyer가 있는지 리턴\n",
    "    \n",
    "d_and_p = LawFirm(\"Injury\", [\"kim\", \"lee\"])\n",
    "\"choi\" in d_and_p # in을 하게 되면 __contains__가 실행된다."
   ]
  }
 ],
 "metadata": {
  "kernelspec": {
   "display_name": "Python 3",
   "language": "python",
   "name": "python3"
  },
  "language_info": {
   "codemirror_mode": {
    "name": "ipython",
    "version": 3
   },
   "file_extension": ".py",
   "mimetype": "text/x-python",
   "name": "python",
   "nbconvert_exporter": "python",
   "pygments_lexer": "ipython3",
   "version": "3.7.4"
  }
 },
 "nbformat": 4,
 "nbformat_minor": 2
}
