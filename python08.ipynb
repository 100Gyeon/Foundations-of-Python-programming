{
 "cells": [
  {
   "cell_type": "markdown",
   "metadata": {},
   "source": [
    "# Linked List"
   ]
  },
  {
   "cell_type": "code",
   "execution_count": 1,
   "metadata": {},
   "outputs": [
    {
     "name": "stdout",
     "output_type": "stream",
     "text": [
      "n1: (data : park), n2: (data : kim)\n",
      "(data : kim)\n",
      "None\n"
     ]
    }
   ],
   "source": [
    "# data와 next variable이 존재\n",
    "# data에는 string이 들어가고, next는 다른 노드를 지칭\n",
    "\n",
    "class Node():\n",
    "    def __init__(self, data, nextNode = None) : # data는 반드시 주어져야 함, next는 디폴트로 None을 가짐(None이면 마지막 노드)\n",
    "        self.data = data\n",
    "        if nextNode == None or type(nextNode) == Node :\n",
    "            self.nextNode = nextNode\n",
    "        else :\n",
    "            print(\"__init__ node type error:\", type(Node))\n",
    "    def getData(self): # self의 data를 리턴\n",
    "        return self.data\n",
    "    def setData(self, val): # 인스턴스의 data field에 value를 넣음\n",
    "        self.data = val\n",
    "    def getNextNode(self): # self의 다음 노드를 리턴\n",
    "        return self.nextNode\n",
    "    def setNextNode(self, node): # 다음 노드를 바꾸고 싶을 때\n",
    "        if type(node) == Node: # 노드의 타입이 반드시 노드여야 함\n",
    "            self.nextNode = node\n",
    "        else:\n",
    "            print(\"setNextNode node type error:\", type(Node))\n",
    "    def __repr__(self): # 노드 클래스를 프린트하는 문장은 dunder 이용\n",
    "        return \"(data : \" + str(self.data) + \")\" # self.data는 integer니까 str을 써서 바꿔줌\n",
    "    \n",
    "n1 = Node(\"park\") # nextNode가 None인 상태\n",
    "n2 = Node(\"kim\") # nextNode가 None인 상태\n",
    "n1.setNextNode(n2)\n",
    "print(\"n1: {}, n2: {}\".format(n1,n2))\n",
    "print(n1.getNextNode())\n",
    "print(n2.getNextNode())"
   ]
  },
  {
   "cell_type": "code",
   "execution_count": 2,
   "metadata": {},
   "outputs": [],
   "source": [
    "n1 = Node(\"data3\")\n",
    "n2 = Node(\"data10\")\n",
    "n3 = Node(\"data2\")\n",
    "n4 = Node(\"data1\")\n",
    "n1.setNextNode(n2)\n",
    "n2.setNextNode(n3)\n",
    "n3.setNextNode(n4)"
   ]
  },
  {
   "cell_type": "code",
   "execution_count": 3,
   "metadata": {},
   "outputs": [],
   "source": [
    "class Head():\n",
    "    def __init__(self, node): # head에 node number를 준다.\n",
    "        self.head = node"
   ]
  },
  {
   "cell_type": "code",
   "execution_count": 4,
   "metadata": {},
   "outputs": [
    {
     "name": "stdout",
     "output_type": "stream",
     "text": [
      "(data : data3)\n",
      "(data : data10)\n",
      "(data : data2)\n",
      "(data : data1)\n"
     ]
    }
   ],
   "source": [
    "h1 = Head(n1) # h1이라는 head node를 만든다.\n",
    "curr = h1.head # head node를 이용해서 전체 node를 쫓아가서 출력\n",
    "while curr:\n",
    "    print(curr)\n",
    "    curr = curr.getNextNode()"
   ]
  },
  {
   "cell_type": "code",
   "execution_count": 5,
   "metadata": {},
   "outputs": [],
   "source": [
    "# Linked list에서 맨 앞에 data를 추가하고 싶은 경우\n",
    "# 1. node를 하나 만들어준다.\n",
    "# 2. node의 next node는 head가 가리키는 node를 가리키게 한다.\n",
    "# 3. head가 가리키는 node를 new node로 바꿔준다.\n",
    "\n",
    "class LinkedList():\n",
    "    def __init__(self, head = None):\n",
    "        self.head = head\n",
    "        self.size = 0\n",
    "    def getSize(self):\n",
    "        return self.size\n",
    "    def addNode(self, data):\n",
    "        newNode = Node(data, self.head) # 1, 2\n",
    "        self.head = newNode # 3\n",
    "        self.size += 1 # 노드가 추가되었으니까 size 증가시켜줌\n",
    "        return True\n",
    "    def pop(self):\n",
    "        data = self.head.getData()\n",
    "        self.head = self.head.getNextNode()\n",
    "        return \"data has been popping : \" + str(data)\n",
    "    def findNode(self, value):\n",
    "        curr = self.head\n",
    "        while curr:\n",
    "            if curr.getData() == value:\n",
    "                return True\n",
    "            curr = curr.getNextNode()\n",
    "        return False # curr이 None이 될 때까지(끝까지 갈 때까지) 못 찾았으면 False\n",
    "    def removeNode(self, value):\n",
    "        prev = None\n",
    "        curr = self.head\n",
    "        while curr: # while 루프를 돌면서 current node의 value를 가져옴\n",
    "            if curr.getData() == value: # 우리가 원하는 value면\n",
    "                if prev: # prev가 있는 경우\n",
    "                    prev.setNextNode(curr.getNextNode())\n",
    "                else: # prev가 None인 경우\n",
    "                    self.head = curr.getNextNode()\n",
    "                return True\n",
    "            prev = curr\n",
    "            curr = curr.getNextNode()\n",
    "        return False\n",
    "    def printNodes(self):\n",
    "        curr = self.head\n",
    "        pos = 1\n",
    "        while curr:\n",
    "            print(\"position : \" + str(pos) + \" \" + str(curr.data))\n",
    "            pos += 1\n",
    "            curr = curr.getNextNode()"
   ]
  },
  {
   "cell_type": "code",
   "execution_count": 6,
   "metadata": {},
   "outputs": [
    {
     "data": {
      "text/plain": [
       "['__class__',\n",
       " '__delattr__',\n",
       " '__dict__',\n",
       " '__dir__',\n",
       " '__doc__',\n",
       " '__eq__',\n",
       " '__format__',\n",
       " '__ge__',\n",
       " '__getattribute__',\n",
       " '__gt__',\n",
       " '__hash__',\n",
       " '__init__',\n",
       " '__init_subclass__',\n",
       " '__le__',\n",
       " '__lt__',\n",
       " '__module__',\n",
       " '__ne__',\n",
       " '__new__',\n",
       " '__reduce__',\n",
       " '__reduce_ex__',\n",
       " '__repr__',\n",
       " '__setattr__',\n",
       " '__sizeof__',\n",
       " '__str__',\n",
       " '__subclasshook__',\n",
       " '__weakref__',\n",
       " 'addNode',\n",
       " 'findNode',\n",
       " 'getSize',\n",
       " 'head',\n",
       " 'pop',\n",
       " 'printNodes',\n",
       " 'removeNode',\n",
       " 'size']"
      ]
     },
     "execution_count": 6,
     "metadata": {},
     "output_type": "execute_result"
    }
   ],
   "source": [
    "myLL = LinkedList()\n",
    "dir(myLL) # data에 대해서 어떤 method를 쓸지 확인해보고 싶을 때 dir 메소드 활용"
   ]
  },
  {
   "cell_type": "code",
   "execution_count": 7,
   "metadata": {},
   "outputs": [
    {
     "name": "stdout",
     "output_type": "stream",
     "text": [
      "position : 1 data3\n",
      "position : 2 data10\n",
      "position : 3 data2\n",
      "position : 4 data1\n"
     ]
    }
   ],
   "source": [
    "myLL = LinkedList()\n",
    "myLL.addNode(\"data1\")\n",
    "myLL.addNode(\"data2\")\n",
    "myLL.addNode(\"data10\")\n",
    "myLL.addNode(\"data3\")\n",
    "myLL.printNodes() # 순서 주의"
   ]
  },
  {
   "cell_type": "markdown",
   "metadata": {},
   "source": [
    "# Pop operation\n",
    "\n",
    "첫 번째 data의 값을 출력해주고, 첫 번째 노드를 list에서 없애주는 것"
   ]
  },
  {
   "cell_type": "code",
   "execution_count": 8,
   "metadata": {},
   "outputs": [
    {
     "name": "stdout",
     "output_type": "stream",
     "text": [
      "before pop operation\n",
      "position : 1 data3\n",
      "position : 2 data10\n",
      "position : 3 data2\n",
      "position : 4 data1\n",
      "data has been popping : data3\n",
      "after pop operation\n",
      "position : 1 data10\n",
      "position : 2 data2\n",
      "position : 3 data1\n"
     ]
    }
   ],
   "source": [
    "print(\"before pop operation\")\n",
    "myLL.printNodes()\n",
    "\n",
    "a = myLL.pop()\n",
    "print(a)\n",
    "print(\"after pop operation\")\n",
    "myLL.printNodes()"
   ]
  },
  {
   "cell_type": "markdown",
   "metadata": {},
   "source": [
    "# Findnode function\n",
    "\n",
    "특정한 값을 갖는 노드를 찾아주는 메소드\n",
    "우리가 원하는 값이 있어야 하니까 파라미터로 (링크드리스트 그 자체와, 원하는 value)가 넘어가게 된다."
   ]
  },
  {
   "cell_type": "code",
   "execution_count": 9,
   "metadata": {},
   "outputs": [
    {
     "name": "stdout",
     "output_type": "stream",
     "text": [
      "position : 1 kim\n",
      "position : 2 choi\n",
      "position : 3 park\n"
     ]
    }
   ],
   "source": [
    "myLinkedList = LinkedList()\n",
    "myLinkedList.addNode(\"park\")\n",
    "myLinkedList.addNode(\"choi\")\n",
    "myLinkedList.addNode(\"kim\")\n",
    "myLinkedList.printNodes()"
   ]
  },
  {
   "cell_type": "code",
   "execution_count": 10,
   "metadata": {},
   "outputs": [
    {
     "data": {
      "text/plain": [
       "True"
      ]
     },
     "execution_count": 10,
     "metadata": {},
     "output_type": "execute_result"
    }
   ],
   "source": [
    "myLinkedList.findNode(\"choi\")"
   ]
  },
  {
   "cell_type": "code",
   "execution_count": 11,
   "metadata": {},
   "outputs": [
    {
     "data": {
      "text/plain": [
       "False"
      ]
     },
     "execution_count": 11,
     "metadata": {},
     "output_type": "execute_result"
    }
   ],
   "source": [
    "myLinkedList.findNode(\"lee\")"
   ]
  },
  {
   "cell_type": "code",
   "execution_count": 12,
   "metadata": {},
   "outputs": [
    {
     "name": "stdout",
     "output_type": "stream",
     "text": [
      "position : 1 kim\n",
      "position : 2 choi\n",
      "position : 3 park\n"
     ]
    }
   ],
   "source": [
    "myLinkedList.printNodes()"
   ]
  },
  {
   "cell_type": "markdown",
   "metadata": {},
   "source": [
    "# Remove a node\n",
    "\n",
    "리스트 중간, 맨 앞의 노드 삭제"
   ]
  },
  {
   "cell_type": "code",
   "execution_count": 13,
   "metadata": {},
   "outputs": [
    {
     "name": "stdout",
     "output_type": "stream",
     "text": [
      "position : 1 kim\n",
      "position : 2 park\n"
     ]
    }
   ],
   "source": [
    "myLinkedList.removeNode(\"choi\")\n",
    "myLinkedList.printNodes()"
   ]
  },
  {
   "cell_type": "code",
   "execution_count": 14,
   "metadata": {},
   "outputs": [
    {
     "data": {
      "text/plain": [
       "False"
      ]
     },
     "execution_count": 14,
     "metadata": {},
     "output_type": "execute_result"
    }
   ],
   "source": [
    "myLinkedList.removeNode(\"choi\")"
   ]
  }
 ],
 "metadata": {
  "kernelspec": {
   "display_name": "Python 3",
   "language": "python",
   "name": "python3"
  },
  "language_info": {
   "codemirror_mode": {
    "name": "ipython",
    "version": 3
   },
   "file_extension": ".py",
   "mimetype": "text/x-python",
   "name": "python",
   "nbconvert_exporter": "python",
   "pygments_lexer": "ipython3",
   "version": "3.7.4"
  }
 },
 "nbformat": 4,
 "nbformat_minor": 2
}
