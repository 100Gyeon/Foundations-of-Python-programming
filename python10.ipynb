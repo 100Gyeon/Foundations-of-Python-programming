{
 "cells": [
  {
   "cell_type": "markdown",
   "metadata": {},
   "source": [
    "# NumPy는 Python extension으로 산술 연산 및 matrix 연산에 유용"
   ]
  },
  {
   "cell_type": "code",
   "execution_count": 1,
   "metadata": {},
   "outputs": [
    {
     "ename": "TypeError",
     "evalue": "unsupported operand type(s) for /: 'list' and 'list'",
     "output_type": "error",
     "traceback": [
      "\u001b[1;31m---------------------------------------------------------------------------\u001b[0m",
      "\u001b[1;31mTypeError\u001b[0m                                 Traceback (most recent call last)",
      "\u001b[1;32m<ipython-input-1-a13754b29917>\u001b[0m in \u001b[0;36m<module>\u001b[1;34m\u001b[0m\n\u001b[0;32m      2\u001b[0m \u001b[0mheight\u001b[0m \u001b[1;33m=\u001b[0m \u001b[1;33m[\u001b[0m\u001b[1;36m170\u001b[0m\u001b[1;33m,\u001b[0m \u001b[1;36m180\u001b[0m\u001b[1;33m,\u001b[0m \u001b[1;36m170\u001b[0m\u001b[1;33m]\u001b[0m\u001b[1;33m\u001b[0m\u001b[1;33m\u001b[0m\u001b[0m\n\u001b[0;32m      3\u001b[0m \u001b[0mweight\u001b[0m \u001b[1;33m=\u001b[0m \u001b[1;33m[\u001b[0m\u001b[1;36m60\u001b[0m\u001b[1;33m,\u001b[0m \u001b[1;36m70\u001b[0m\u001b[1;33m,\u001b[0m \u001b[1;36m65\u001b[0m\u001b[1;33m]\u001b[0m\u001b[1;33m\u001b[0m\u001b[1;33m\u001b[0m\u001b[0m\n\u001b[1;32m----> 4\u001b[1;33m \u001b[0mweight\u001b[0m\u001b[1;33m/\u001b[0m\u001b[0mheight\u001b[0m \u001b[1;31m# 이런 연산이 안 된다. 이 때 solution이 Numpy\u001b[0m\u001b[1;33m\u001b[0m\u001b[1;33m\u001b[0m\u001b[0m\n\u001b[0m",
      "\u001b[1;31mTypeError\u001b[0m: unsupported operand type(s) for /: 'list' and 'list'"
     ]
    }
   ],
   "source": [
    "# 파이썬은 mathematical operations 부족, speed가 늦음\n",
    "height = [170, 180, 170]\n",
    "weight = [60, 70, 65]\n",
    "weight/height # 이런 연산이 안 된다. 이 때 solution이 NumPy"
   ]
  },
  {
   "cell_type": "markdown",
   "metadata": {},
   "source": [
    "NumPy\n",
    "1. Numeric Python\n",
    "2. Alternative to Python List : NumPy Array\n",
    "3. Calculations over entire arrays\n",
    "4. Easy and fast"
   ]
  },
  {
   "cell_type": "code",
   "execution_count": 2,
   "metadata": {},
   "outputs": [
    {
     "data": {
      "text/plain": [
       "array([0.35294118, 0.38888889, 0.38235294])"
      ]
     },
     "execution_count": 2,
     "metadata": {},
     "output_type": "execute_result"
    }
   ],
   "source": [
    "import numpy as np # 꼭 이렇게 import문 작성해야함\n",
    "np_height = np.array(height)\n",
    "np_weight = np.array(weight)\n",
    "np_weight / np_height"
   ]
  },
  {
   "cell_type": "code",
   "execution_count": 3,
   "metadata": {},
   "outputs": [
    {
     "name": "stdout",
     "output_type": "stream",
     "text": [
      "<class 'numpy.ndarray'>\n"
     ]
    }
   ],
   "source": [
    "# ndarray = N-dimensional array\n",
    "print(type(np_weight))"
   ]
  },
  {
   "cell_type": "code",
   "execution_count": 4,
   "metadata": {},
   "outputs": [
    {
     "data": {
      "text/plain": [
       "array([1, 3, 4, 5])"
      ]
     },
     "execution_count": 4,
     "metadata": {},
     "output_type": "execute_result"
    }
   ],
   "source": [
    "# NumPy array creation\n",
    "# explicity from a list of values\n",
    "np.array([1, 3, 4, 5])"
   ]
  },
  {
   "cell_type": "code",
   "execution_count": 5,
   "metadata": {},
   "outputs": [
    {
     "name": "stdout",
     "output_type": "stream",
     "text": [
      "[[  1   2]\n",
      " [ 11  22]\n",
      " [111 222]]\n",
      "<class 'numpy.ndarray'>\n"
     ]
    }
   ],
   "source": [
    "data = [[1,2], [11, 22], [111, 222]] # matrix는 list of list로 만든다.\n",
    "a = np.array(data)\n",
    "print(a)\n",
    "print(type(a))"
   ]
  },
  {
   "cell_type": "code",
   "execution_count": 6,
   "metadata": {},
   "outputs": [
    {
     "data": {
      "text/plain": [
       "array([0, 1, 2, 3, 4, 5, 6, 7, 8, 9])"
      ]
     },
     "execution_count": 6,
     "metadata": {},
     "output_type": "execute_result"
    }
   ],
   "source": [
    "# as a range of values\n",
    "np.arange(10) # 0부터 9까지인 벡터가 만들어진다."
   ]
  },
  {
   "cell_type": "code",
   "execution_count": 7,
   "metadata": {},
   "outputs": [
    {
     "data": {
      "text/plain": [
       "array([0.  , 0.25, 0.5 , 0.75, 1.  ])"
      ]
     },
     "execution_count": 7,
     "metadata": {},
     "output_type": "execute_result"
    }
   ],
   "source": [
    "# by specifying the number of elements\n",
    "# 0에서부터 1까지 5등분\n",
    "np.linspace(0,1,5)"
   ]
  },
  {
   "cell_type": "code",
   "execution_count": 8,
   "metadata": {},
   "outputs": [
    {
     "name": "stdout",
     "output_type": "stream",
     "text": [
      "['1.0' 'is' 'True']\n"
     ]
    }
   ],
   "source": [
    "# NumPy arrays contain only one type\n",
    "# 넘파이는 type을 하나만 갖게 된다.\n",
    "a = np.array([1.0, \"is\", True])\n",
    "print(a) # 전부 String으로 바꿔서 계산이 된다."
   ]
  },
  {
   "cell_type": "code",
   "execution_count": 9,
   "metadata": {},
   "outputs": [
    {
     "name": "stdout",
     "output_type": "stream",
     "text": [
      "[1, 2, 3, 1, 2, 3]\n",
      "[2 4 6]\n"
     ]
    }
   ],
   "source": [
    "# Different use of + in Python and NumPy\n",
    "# 파이썬과 넘파이에서 +의 사용이 약간 다르다.\n",
    "python_list = [1,2,3]\n",
    "np_list = np.array([1,2,3])\n",
    "print(python_list + python_list)\n",
    "print(np_list + np_list)"
   ]
  },
  {
   "cell_type": "code",
   "execution_count": 10,
   "metadata": {},
   "outputs": [
    {
     "name": "stdout",
     "output_type": "stream",
     "text": [
      "50\n",
      "[False False  True  True]\n",
      "[50 70]\n"
     ]
    }
   ],
   "source": [
    "# NumPy Subsetting\n",
    "bmi = np.array([10, 30, 50, 70])\n",
    "print(bmi[2])\n",
    "print(bmi > 35) # 35보다 큰 index는 True가 된다.\n",
    "print(bmi[bmi>35]) # True인 index만 출력된다. boolean indexing"
   ]
  },
  {
   "cell_type": "code",
   "execution_count": 11,
   "metadata": {},
   "outputs": [
    {
     "name": "stdout",
     "output_type": "stream",
     "text": [
      "[[ 1  2  3  4  5]\n",
      " [11 12 13 14 15]]\n",
      "[1 2 3 4 5]\n",
      "3\n",
      "3\n",
      "[[ 2  3]\n",
      " [12 13]]\n"
     ]
    }
   ],
   "source": [
    "an_array = np.array([ [1,2,3,4,5], [11,12,13,14,15] ])\n",
    "print(an_array)\n",
    "print(an_array[0])\n",
    "print(an_array[0][2])\n",
    "print(an_array[0, 2]) # 위에 있는 표현과 같은 말\n",
    "print(an_array[:, 1:3]) # 첫 번째 index는 row, 두 번째 index는 column"
   ]
  },
  {
   "cell_type": "markdown",
   "metadata": {},
   "source": [
    "NumPy Utilities\n",
    "1. create a 2X2 array of zeros\n",
    "2. create a 2X2 array filled with 9.0\n",
    "3. create a 2X2 matrix with the diagonal 1s and the others 0\n",
    "4. create an array of ones\n",
    "5. create an array of random floats between 0 and 1"
   ]
  },
  {
   "cell_type": "code",
   "execution_count": 12,
   "metadata": {},
   "outputs": [
    {
     "name": "stdout",
     "output_type": "stream",
     "text": [
      "[[0. 0.]\n",
      " [0. 0.]]\n",
      "[[9. 9.]\n",
      " [9. 9.]]\n",
      "[[1. 0.]\n",
      " [0. 1.]]\n",
      "[[1. 1.]\n",
      " [1. 1.]]\n",
      "[[0.52935727 0.07582026]\n",
      " [0.28111714 0.2733965 ]]\n"
     ]
    }
   ],
   "source": [
    "print(np.zeros((2,2))) # 괄호 2개 주의, argument가 tuple이니까\n",
    "print(np.full((2,2), 9.0))\n",
    "print(np.eye(2,2)) # 대각선이 1로 채워짐\n",
    "print(np.ones((2,2)))\n",
    "print(np.random.random((2,2))) # 0과 1 사이의 random number 생성"
   ]
  },
  {
   "cell_type": "code",
   "execution_count": 13,
   "metadata": {},
   "outputs": [
    {
     "name": "stdout",
     "output_type": "stream",
     "text": [
      "[[11 12 13 14]\n",
      " [21 22 23 24]\n",
      " [31 32 33 34]]\n"
     ]
    }
   ],
   "source": [
    "# NumPy slicing\n",
    "an_array = np.array([[11,12,13,14], [21,22,23,24], [31,32,33,34]])\n",
    "print(an_array)"
   ]
  },
  {
   "cell_type": "code",
   "execution_count": 14,
   "metadata": {},
   "outputs": [
    {
     "name": "stdout",
     "output_type": "stream",
     "text": [
      "[[12 13]\n",
      " [22 23]]\n"
     ]
    }
   ],
   "source": [
    "a_slice = an_array[:2, 1:3]\n",
    "print(a_slice)"
   ]
  },
  {
   "cell_type": "markdown",
   "metadata": {},
   "source": [
    "Use arange and reshape to create an array in advance"
   ]
  },
  {
   "cell_type": "code",
   "execution_count": 15,
   "metadata": {},
   "outputs": [
    {
     "name": "stdout",
     "output_type": "stream",
     "text": [
      "[ 0  1  2  3  4  5  6  7  8  9 10 11 12 13 14]\n",
      "[[ 0  1  2  3  4]\n",
      " [ 5  6  7  8  9]\n",
      " [10 11 12 13 14]]\n",
      "[[2]\n",
      " [7]]\n",
      "[0 2 4]\n",
      "[ 0  2  4  6  8 10 12 14]\n"
     ]
    }
   ],
   "source": [
    "a = np.arange(15) # 0부터 14까지인 벡터가 만들어진다.\n",
    "print(a)\n",
    "b = a.reshape(3,5) # a를 3X5 matrix로 바꾸겠다.\n",
    "print(b)\n",
    "print(b[:2, 2:3])\n",
    "print(a[0:5:2])\n",
    "print(a[::2]) # 출력 주의"
   ]
  },
  {
   "cell_type": "code",
   "execution_count": 16,
   "metadata": {},
   "outputs": [
    {
     "name": "stdout",
     "output_type": "stream",
     "text": [
      "Before :  12\n",
      "After :  1000\n"
     ]
    }
   ],
   "source": [
    "print(\"Before : \", an_array[0,1]) # inspect the element at 0,1\n",
    "a_slice[0,0] = 1000 # a_slice[0,0] is the same piece of data as an_array[0,1]\n",
    "print(\"After : \", an_array[0,1])"
   ]
  }
 ],
 "metadata": {
  "kernelspec": {
   "display_name": "Python 3",
   "language": "python",
   "name": "python3"
  },
  "language_info": {
   "codemirror_mode": {
    "name": "ipython",
    "version": 3
   },
   "file_extension": ".py",
   "mimetype": "text/x-python",
   "name": "python",
   "nbconvert_exporter": "python",
   "pygments_lexer": "ipython3",
   "version": "3.7.4"
  }
 },
 "nbformat": 4,
 "nbformat_minor": 2
}
